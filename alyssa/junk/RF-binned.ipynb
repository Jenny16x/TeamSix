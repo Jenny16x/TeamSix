{
 "cells": [
  {
   "cell_type": "code",
   "execution_count": 1,
   "id": "078f94a6-8c69-4bfc-b7c5-907fa336ed4d",
   "metadata": {},
   "outputs": [],
   "source": [
    "# import dependencies\n",
    "# Initial imports.\n",
    "import pandas as pd\n",
    "from path import Path\n",
    "from sklearn.ensemble import RandomForestClassifier\n",
    "from sklearn.preprocessing import StandardScaler\n",
    "from sklearn.model_selection import train_test_split\n",
    "from sklearn.metrics import confusion_matrix, accuracy_score, classification_report\n",
    "from collections import Counter"
   ]
  },
  {
   "cell_type": "code",
   "execution_count": 3,
   "id": "a3bf1e39-e0df-40a9-afc9-bacef3a775e4",
   "metadata": {},
   "outputs": [
    {
     "data": {
      "text/html": [
       "<div>\n",
       "<style scoped>\n",
       "    .dataframe tbody tr th:only-of-type {\n",
       "        vertical-align: middle;\n",
       "    }\n",
       "\n",
       "    .dataframe tbody tr th {\n",
       "        vertical-align: top;\n",
       "    }\n",
       "\n",
       "    .dataframe thead th {\n",
       "        text-align: right;\n",
       "    }\n",
       "</style>\n",
       "<table border=\"1\" class=\"dataframe\">\n",
       "  <thead>\n",
       "    <tr style=\"text-align: right;\">\n",
       "      <th></th>\n",
       "      <th>playerID</th>\n",
       "      <th>yearID</th>\n",
       "      <th>stint</th>\n",
       "      <th>teamID</th>\n",
       "      <th>lgID</th>\n",
       "      <th>W</th>\n",
       "      <th>L</th>\n",
       "      <th>G</th>\n",
       "      <th>GS</th>\n",
       "      <th>CG</th>\n",
       "      <th>...</th>\n",
       "      <th>SH</th>\n",
       "      <th>SF</th>\n",
       "      <th>GIDP</th>\n",
       "      <th>salary</th>\n",
       "      <th>birthYear</th>\n",
       "      <th>birthMonth</th>\n",
       "      <th>weight</th>\n",
       "      <th>height</th>\n",
       "      <th>throws</th>\n",
       "      <th>salary-bin</th>\n",
       "    </tr>\n",
       "  </thead>\n",
       "  <tbody>\n",
       "    <tr>\n",
       "      <th>0</th>\n",
       "      <td>abadfe01</td>\n",
       "      <td>2016</td>\n",
       "      <td>1</td>\n",
       "      <td>16</td>\n",
       "      <td>0</td>\n",
       "      <td>1</td>\n",
       "      <td>4</td>\n",
       "      <td>39</td>\n",
       "      <td>0</td>\n",
       "      <td>0</td>\n",
       "      <td>...</td>\n",
       "      <td>0.0</td>\n",
       "      <td>1.0</td>\n",
       "      <td>6.0</td>\n",
       "      <td>1250000.0</td>\n",
       "      <td>1985.0</td>\n",
       "      <td>12.0</td>\n",
       "      <td>235.0</td>\n",
       "      <td>74.0</td>\n",
       "      <td>0</td>\n",
       "      <td>mid</td>\n",
       "    </tr>\n",
       "    <tr>\n",
       "      <th>1</th>\n",
       "      <td>alberma01</td>\n",
       "      <td>2016</td>\n",
       "      <td>1</td>\n",
       "      <td>4</td>\n",
       "      <td>0</td>\n",
       "      <td>2</td>\n",
       "      <td>6</td>\n",
       "      <td>58</td>\n",
       "      <td>1</td>\n",
       "      <td>0</td>\n",
       "      <td>...</td>\n",
       "      <td>3.0</td>\n",
       "      <td>2.0</td>\n",
       "      <td>4.0</td>\n",
       "      <td>2000000.0</td>\n",
       "      <td>1983.0</td>\n",
       "      <td>1.0</td>\n",
       "      <td>225.0</td>\n",
       "      <td>73.0</td>\n",
       "      <td>1</td>\n",
       "      <td>mid</td>\n",
       "    </tr>\n",
       "    <tr>\n",
       "      <th>2</th>\n",
       "      <td>allenco01</td>\n",
       "      <td>2016</td>\n",
       "      <td>1</td>\n",
       "      <td>7</td>\n",
       "      <td>0</td>\n",
       "      <td>3</td>\n",
       "      <td>5</td>\n",
       "      <td>67</td>\n",
       "      <td>0</td>\n",
       "      <td>0</td>\n",
       "      <td>...</td>\n",
       "      <td>3.0</td>\n",
       "      <td>2.0</td>\n",
       "      <td>7.0</td>\n",
       "      <td>4150000.0</td>\n",
       "      <td>1988.0</td>\n",
       "      <td>11.0</td>\n",
       "      <td>210.0</td>\n",
       "      <td>73.0</td>\n",
       "      <td>1</td>\n",
       "      <td>high</td>\n",
       "    </tr>\n",
       "    <tr>\n",
       "      <th>3</th>\n",
       "      <td>alvarjo02</td>\n",
       "      <td>2016</td>\n",
       "      <td>1</td>\n",
       "      <td>12</td>\n",
       "      <td>0</td>\n",
       "      <td>1</td>\n",
       "      <td>3</td>\n",
       "      <td>64</td>\n",
       "      <td>0</td>\n",
       "      <td>0</td>\n",
       "      <td>...</td>\n",
       "      <td>1.0</td>\n",
       "      <td>1.0</td>\n",
       "      <td>5.0</td>\n",
       "      <td>507500.0</td>\n",
       "      <td>1989.0</td>\n",
       "      <td>5.0</td>\n",
       "      <td>195.0</td>\n",
       "      <td>71.0</td>\n",
       "      <td>0</td>\n",
       "      <td>low</td>\n",
       "    </tr>\n",
       "    <tr>\n",
       "      <th>4</th>\n",
       "      <td>anderbr04</td>\n",
       "      <td>2016</td>\n",
       "      <td>1</td>\n",
       "      <td>13</td>\n",
       "      <td>1</td>\n",
       "      <td>1</td>\n",
       "      <td>2</td>\n",
       "      <td>4</td>\n",
       "      <td>3</td>\n",
       "      <td>0</td>\n",
       "      <td>...</td>\n",
       "      <td>1.0</td>\n",
       "      <td>1.0</td>\n",
       "      <td>0.0</td>\n",
       "      <td>15800000.0</td>\n",
       "      <td>1988.0</td>\n",
       "      <td>2.0</td>\n",
       "      <td>230.0</td>\n",
       "      <td>76.0</td>\n",
       "      <td>0</td>\n",
       "      <td>high</td>\n",
       "    </tr>\n",
       "    <tr>\n",
       "      <th>...</th>\n",
       "      <td>...</td>\n",
       "      <td>...</td>\n",
       "      <td>...</td>\n",
       "      <td>...</td>\n",
       "      <td>...</td>\n",
       "      <td>...</td>\n",
       "      <td>...</td>\n",
       "      <td>...</td>\n",
       "      <td>...</td>\n",
       "      <td>...</td>\n",
       "      <td>...</td>\n",
       "      <td>...</td>\n",
       "      <td>...</td>\n",
       "      <td>...</td>\n",
       "      <td>...</td>\n",
       "      <td>...</td>\n",
       "      <td>...</td>\n",
       "      <td>...</td>\n",
       "      <td>...</td>\n",
       "      <td>...</td>\n",
       "      <td>...</td>\n",
       "    </tr>\n",
       "    <tr>\n",
       "      <th>411</th>\n",
       "      <td>yateski01</td>\n",
       "      <td>2016</td>\n",
       "      <td>1</td>\n",
       "      <td>17</td>\n",
       "      <td>0</td>\n",
       "      <td>2</td>\n",
       "      <td>1</td>\n",
       "      <td>41</td>\n",
       "      <td>0</td>\n",
       "      <td>0</td>\n",
       "      <td>...</td>\n",
       "      <td>1.0</td>\n",
       "      <td>1.0</td>\n",
       "      <td>1.0</td>\n",
       "      <td>511900.0</td>\n",
       "      <td>1987.0</td>\n",
       "      <td>3.0</td>\n",
       "      <td>205.0</td>\n",
       "      <td>70.0</td>\n",
       "      <td>1</td>\n",
       "      <td>low</td>\n",
       "    </tr>\n",
       "    <tr>\n",
       "      <th>412</th>\n",
       "      <td>youngch03</td>\n",
       "      <td>2016</td>\n",
       "      <td>1</td>\n",
       "      <td>11</td>\n",
       "      <td>0</td>\n",
       "      <td>3</td>\n",
       "      <td>9</td>\n",
       "      <td>34</td>\n",
       "      <td>13</td>\n",
       "      <td>0</td>\n",
       "      <td>...</td>\n",
       "      <td>0.0</td>\n",
       "      <td>4.0</td>\n",
       "      <td>3.0</td>\n",
       "      <td>4250000.0</td>\n",
       "      <td>1979.0</td>\n",
       "      <td>5.0</td>\n",
       "      <td>255.0</td>\n",
       "      <td>82.0</td>\n",
       "      <td>1</td>\n",
       "      <td>high</td>\n",
       "    </tr>\n",
       "    <tr>\n",
       "      <th>413</th>\n",
       "      <td>zieglbr01</td>\n",
       "      <td>2016</td>\n",
       "      <td>1</td>\n",
       "      <td>0</td>\n",
       "      <td>1</td>\n",
       "      <td>2</td>\n",
       "      <td>3</td>\n",
       "      <td>36</td>\n",
       "      <td>0</td>\n",
       "      <td>0</td>\n",
       "      <td>...</td>\n",
       "      <td>1.0</td>\n",
       "      <td>1.0</td>\n",
       "      <td>10.0</td>\n",
       "      <td>5500000.0</td>\n",
       "      <td>1979.0</td>\n",
       "      <td>10.0</td>\n",
       "      <td>220.0</td>\n",
       "      <td>76.0</td>\n",
       "      <td>1</td>\n",
       "      <td>high</td>\n",
       "    </tr>\n",
       "    <tr>\n",
       "      <th>414</th>\n",
       "      <td>zimmejo02</td>\n",
       "      <td>2016</td>\n",
       "      <td>1</td>\n",
       "      <td>9</td>\n",
       "      <td>0</td>\n",
       "      <td>9</td>\n",
       "      <td>7</td>\n",
       "      <td>19</td>\n",
       "      <td>18</td>\n",
       "      <td>0</td>\n",
       "      <td>...</td>\n",
       "      <td>1.0</td>\n",
       "      <td>5.0</td>\n",
       "      <td>8.0</td>\n",
       "      <td>18000000.0</td>\n",
       "      <td>1986.0</td>\n",
       "      <td>5.0</td>\n",
       "      <td>225.0</td>\n",
       "      <td>74.0</td>\n",
       "      <td>1</td>\n",
       "      <td>high</td>\n",
       "    </tr>\n",
       "    <tr>\n",
       "      <th>415</th>\n",
       "      <td>zychto01</td>\n",
       "      <td>2016</td>\n",
       "      <td>1</td>\n",
       "      <td>23</td>\n",
       "      <td>0</td>\n",
       "      <td>1</td>\n",
       "      <td>0</td>\n",
       "      <td>12</td>\n",
       "      <td>0</td>\n",
       "      <td>0</td>\n",
       "      <td>...</td>\n",
       "      <td>0.0</td>\n",
       "      <td>1.0</td>\n",
       "      <td>1.0</td>\n",
       "      <td>511000.0</td>\n",
       "      <td>1990.0</td>\n",
       "      <td>8.0</td>\n",
       "      <td>190.0</td>\n",
       "      <td>75.0</td>\n",
       "      <td>1</td>\n",
       "      <td>low</td>\n",
       "    </tr>\n",
       "  </tbody>\n",
       "</table>\n",
       "<p>416 rows × 37 columns</p>\n",
       "</div>"
      ],
      "text/plain": [
       "      playerID  yearID  stint  teamID  lgID  W  L   G  GS  CG  ...   SH   SF  \\\n",
       "0     abadfe01    2016      1      16     0  1  4  39   0   0  ...  0.0  1.0   \n",
       "1    alberma01    2016      1       4     0  2  6  58   1   0  ...  3.0  2.0   \n",
       "2    allenco01    2016      1       7     0  3  5  67   0   0  ...  3.0  2.0   \n",
       "3    alvarjo02    2016      1      12     0  1  3  64   0   0  ...  1.0  1.0   \n",
       "4    anderbr04    2016      1      13     1  1  2   4   3   0  ...  1.0  1.0   \n",
       "..         ...     ...    ...     ...   ... .. ..  ..  ..  ..  ...  ...  ...   \n",
       "411  yateski01    2016      1      17     0  2  1  41   0   0  ...  1.0  1.0   \n",
       "412  youngch03    2016      1      11     0  3  9  34  13   0  ...  0.0  4.0   \n",
       "413  zieglbr01    2016      1       0     1  2  3  36   0   0  ...  1.0  1.0   \n",
       "414  zimmejo02    2016      1       9     0  9  7  19  18   0  ...  1.0  5.0   \n",
       "415   zychto01    2016      1      23     0  1  0  12   0   0  ...  0.0  1.0   \n",
       "\n",
       "     GIDP      salary  birthYear  birthMonth  weight  height  throws  \\\n",
       "0     6.0   1250000.0     1985.0        12.0   235.0    74.0       0   \n",
       "1     4.0   2000000.0     1983.0         1.0   225.0    73.0       1   \n",
       "2     7.0   4150000.0     1988.0        11.0   210.0    73.0       1   \n",
       "3     5.0    507500.0     1989.0         5.0   195.0    71.0       0   \n",
       "4     0.0  15800000.0     1988.0         2.0   230.0    76.0       0   \n",
       "..    ...         ...        ...         ...     ...     ...     ...   \n",
       "411   1.0    511900.0     1987.0         3.0   205.0    70.0       1   \n",
       "412   3.0   4250000.0     1979.0         5.0   255.0    82.0       1   \n",
       "413  10.0   5500000.0     1979.0        10.0   220.0    76.0       1   \n",
       "414   8.0  18000000.0     1986.0         5.0   225.0    74.0       1   \n",
       "415   1.0    511000.0     1990.0         8.0   190.0    75.0       1   \n",
       "\n",
       "     salary-bin  \n",
       "0           mid  \n",
       "1           mid  \n",
       "2          high  \n",
       "3           low  \n",
       "4          high  \n",
       "..          ...  \n",
       "411         low  \n",
       "412        high  \n",
       "413        high  \n",
       "414        high  \n",
       "415         low  \n",
       "\n",
       "[416 rows x 37 columns]"
      ]
     },
     "execution_count": 3,
     "metadata": {},
     "output_type": "execute_result"
    }
   ],
   "source": [
    "# Loading data\n",
    "file_path = Path(\"salaries-binned.csv\")\n",
    "df = pd.read_csv(file_path)\n",
    "df"
   ]
  },
  {
   "cell_type": "code",
   "execution_count": 7,
   "id": "206eab82-bb51-4638-af70-c8ef20dca7a7",
   "metadata": {},
   "outputs": [],
   "source": [
    "# Create our features\n",
    "x_cols=[i for i in df.columns if i not in ('salary','playerID', 'salary-bin')]\n",
    "X = df[x_cols]\n",
    "\n",
    "\n",
    "# Create our target\n",
    "y = df['salary-bin'].ravel()"
   ]
  },
  {
   "cell_type": "code",
   "execution_count": 8,
   "id": "3ed0f090-cc8c-409a-8730-b51f7ba75c9b",
   "metadata": {},
   "outputs": [],
   "source": [
    "# Splitting into Train and Test sets.\n",
    "X_train, X_test, y_train, y_test = train_test_split(X, y, random_state=1)"
   ]
  },
  {
   "cell_type": "code",
   "execution_count": 9,
   "id": "e5d80059-04a0-4aae-9803-1025d01e3c59",
   "metadata": {},
   "outputs": [],
   "source": [
    "# Creating a StandardScaler instance.\n",
    "scaler = StandardScaler()\n",
    "# Fitting the Standard Scaler with the training data.\n",
    "X_scaler = scaler.fit(X_train)\n",
    "\n",
    "# Scaling the data.\n",
    "X_train_scaled = X_scaler.transform(X_train)\n",
    "X_test_scaled = X_scaler.transform(X_test)"
   ]
  },
  {
   "cell_type": "code",
   "execution_count": 10,
   "id": "25f9144a-a016-44d8-8245-d96d9e7b78b1",
   "metadata": {},
   "outputs": [],
   "source": [
    "# Create a random forest classifier.\n",
    "rf_model = RandomForestClassifier(n_estimators=128, random_state=1) "
   ]
  },
  {
   "cell_type": "code",
   "execution_count": 11,
   "id": "28f14135-02fb-441e-b59b-415a13103c24",
   "metadata": {},
   "outputs": [],
   "source": [
    "# Fitting the model\n",
    "rf_model = rf_model.fit(X_train_scaled, y_train)"
   ]
  },
  {
   "cell_type": "code",
   "execution_count": 12,
   "id": "57623494-389b-477e-9a24-75be7e27bbaa",
   "metadata": {},
   "outputs": [
    {
     "data": {
      "text/plain": [
       "array(['mid', 'low', 'mid', 'high', 'mid', 'mid', 'low', 'mid', 'low',\n",
       "       'high', 'low', 'low', 'mid', 'mid', 'low', 'low', 'high', 'low',\n",
       "       'low', 'high', 'low', 'low', 'low', 'mid', 'low', 'high', 'high',\n",
       "       'mid', 'mid', 'low', 'mid', 'mid', 'mid', 'low', 'low', 'high',\n",
       "       'high', 'high', 'mid', 'high', 'low', 'mid', 'mid', 'high', 'high',\n",
       "       'low', 'low', 'mid', 'low', 'high', 'high', 'low', 'low', 'mid',\n",
       "       'high', 'mid', 'low', 'mid', 'low', 'high', 'low', 'low', 'mid',\n",
       "       'high', 'low', 'high', 'high', 'low', 'high', 'low', 'mid', 'low',\n",
       "       'high', 'low', 'high', 'mid', 'low', 'low', 'mid', 'high', 'high',\n",
       "       'low', 'mid', 'high', 'high', 'low', 'high', 'mid', 'low', 'mid',\n",
       "       'low', 'high', 'low', 'mid', 'mid', 'low', 'low', 'low', 'high',\n",
       "       'mid', 'high', 'mid', 'high', 'mid'], dtype=object)"
      ]
     },
     "execution_count": 12,
     "metadata": {},
     "output_type": "execute_result"
    }
   ],
   "source": [
    "# Making predictions using the testing data.\n",
    "predictions = rf_model.predict(X_test_scaled)\n",
    "predictions"
   ]
  },
  {
   "cell_type": "code",
   "execution_count": 13,
   "id": "775514f3-4180-46da-917f-e46e507d2fd7",
   "metadata": {},
   "outputs": [
    {
     "data": {
      "text/plain": [
       "0.6442307692307693"
      ]
     },
     "execution_count": 13,
     "metadata": {},
     "output_type": "execute_result"
    }
   ],
   "source": [
    "# Calculating the accuracy score\n",
    "acc_score = accuracy_score(y_test, predictions)\n",
    "acc_score"
   ]
  },
  {
   "cell_type": "code",
   "execution_count": 14,
   "id": "9006df9f-acd2-40a2-8f0c-6547e04a1500",
   "metadata": {},
   "outputs": [
    {
     "data": {
      "text/plain": [
       "0.6318155025051576"
      ]
     },
     "execution_count": 14,
     "metadata": {},
     "output_type": "execute_result"
    }
   ],
   "source": [
    "# balanced accuracy score\n",
    "from sklearn.metrics import balanced_accuracy_score\n",
    "\n",
    "balanced_accuracy_score(y_test, predictions)"
   ]
  },
  {
   "cell_type": "code",
   "execution_count": 15,
   "id": "c060363f-cb03-47ec-bcd9-93b23f8d6b97",
   "metadata": {},
   "outputs": [
    {
     "data": {
      "text/plain": [
       "array([0.        , 0.        , 0.03358292, 0.00603005, 0.02605039,\n",
       "       0.02822168, 0.03594557, 0.02608003, 0.00377961, 0.00197911,\n",
       "       0.02677958, 0.03531951, 0.03967346, 0.03955292, 0.0325292 ,\n",
       "       0.0295293 , 0.04081251, 0.04358803, 0.04316096, 0.02126189,\n",
       "       0.03039889, 0.01963267, 0.00807495, 0.03465792, 0.04043896,\n",
       "       0.03579205, 0.01922835, 0.01385861, 0.02510801, 0.14535119,\n",
       "       0.0318463 , 0.04453299, 0.03204062, 0.00516176])"
      ]
     },
     "execution_count": 15,
     "metadata": {},
     "output_type": "execute_result"
    }
   ],
   "source": [
    "# Calculate feature importance in the Random Forest model.\n",
    "importances = rf_model.feature_importances_\n",
    "importances"
   ]
  },
  {
   "cell_type": "code",
   "execution_count": 17,
   "id": "97c79ea5-283b-4e28-825b-1334d837d603",
   "metadata": {},
   "outputs": [
    {
     "data": {
      "text/plain": [
       "[(0.14535118631697233, 'birthYear'),\n",
       " (0.04453298588602458, 'weight'),\n",
       " (0.043588027452677196, 'BAOpp'),\n",
       " (0.0431609569868534, 'ERA'),\n",
       " (0.04081251144482249, 'SO'),\n",
       " (0.04043896105267377, 'GF'),\n",
       " (0.03967345802858526, 'H'),\n",
       " (0.039552921564781, 'ER'),\n",
       " (0.03594557173489704, 'G'),\n",
       " (0.03579204613366499, 'R'),\n",
       " (0.03531951387451324, 'IPouts'),\n",
       " (0.03465792262019832, 'BFP'),\n",
       " (0.033582924282034396, 'teamID'),\n",
       " (0.032529204621335364, 'HR'),\n",
       " (0.032040617681870213, 'height'),\n",
       " (0.031846298541353166, 'birthMonth'),\n",
       " (0.030398894940087504, 'WP'),\n",
       " (0.02952929648302648, 'BB'),\n",
       " (0.028221684907537344, 'L'),\n",
       " (0.026779580056518117, 'SV'),\n",
       " (0.026080025789570936, 'GS'),\n",
       " (0.026050390424475423, 'W'),\n",
       " (0.025108005446624476, 'GIDP'),\n",
       " (0.021261891204814, 'IBB'),\n",
       " (0.01963267425615192, 'HBP'),\n",
       " (0.019228353420288943, 'SH'),\n",
       " (0.013858608344986903, 'SF'),\n",
       " (0.008074953518590004, 'BK'),\n",
       " (0.006030054775529795, 'lgID'),\n",
       " (0.005161760781603341, 'throws'),\n",
       " (0.0037796099697049836, 'CG'),\n",
       " (0.0019791074572332104, 'SHO'),\n",
       " (0.0, 'yearID'),\n",
       " (0.0, 'stint')]"
      ]
     },
     "execution_count": 17,
     "metadata": {},
     "output_type": "execute_result"
    }
   ],
   "source": [
    "# We can sort the features by their importance.\n",
    "sorted(zip(rf_model.feature_importances_, X.columns), reverse=True)"
   ]
  },
  {
   "cell_type": "markdown",
   "id": "ff875cc4-fc14-4374-9d0c-29fd832f2ec5",
   "metadata": {},
   "source": [
    "## Oversampling with binned salaries\n",
    "---\n",
    "Now that salaries are divided into only 3 classes, oversampling could potentially help the model."
   ]
  },
  {
   "cell_type": "code",
   "execution_count": 18,
   "id": "a3a863e9-ee84-45dc-8d0d-9e326623d233",
   "metadata": {},
   "outputs": [
    {
     "data": {
      "text/plain": [
       "Counter({'mid': 109, 'high': 109, 'low': 109})"
      ]
     },
     "execution_count": 18,
     "metadata": {},
     "output_type": "execute_result"
    }
   ],
   "source": [
    "from imblearn.over_sampling import RandomOverSampler\n",
    "ros = RandomOverSampler(random_state=1)\n",
    "X_oversampled, y_oversampled = ros.fit_resample(X_train, y_train)\n",
    "\n",
    "Counter(y_oversampled)"
   ]
  },
  {
   "cell_type": "code",
   "execution_count": 19,
   "id": "dc49f61c-7f14-4dda-b1f1-c1db59db7e02",
   "metadata": {},
   "outputs": [],
   "source": [
    "# Create a random forest classifier.\n",
    "rf_model = RandomForestClassifier(n_estimators=128, random_state=1) "
   ]
  },
  {
   "cell_type": "code",
   "execution_count": 20,
   "id": "315e10b4-0a7c-4297-8c4e-1a715692eacd",
   "metadata": {},
   "outputs": [],
   "source": [
    "# Fitting the model\n",
    "rf_model = rf_model.fit(X_oversampled, y_oversampled)"
   ]
  },
  {
   "cell_type": "code",
   "execution_count": 21,
   "id": "8be0d217-3879-471d-b349-f12ed632c38d",
   "metadata": {},
   "outputs": [
    {
     "data": {
      "text/plain": [
       "array(['mid', 'low', 'low', 'high', 'low', 'mid', 'low', 'mid', 'low',\n",
       "       'high', 'low', 'low', 'mid', 'mid', 'low', 'low', 'high', 'low',\n",
       "       'low', 'high', 'low', 'low', 'low', 'mid', 'low', 'high', 'high',\n",
       "       'mid', 'mid', 'low', 'low', 'mid', 'mid', 'low', 'low', 'high',\n",
       "       'high', 'high', 'mid', 'high', 'low', 'mid', 'mid', 'high', 'high',\n",
       "       'high', 'low', 'high', 'high', 'high', 'high', 'high', 'low',\n",
       "       'mid', 'high', 'low', 'low', 'mid', 'low', 'high', 'mid', 'low',\n",
       "       'mid', 'high', 'low', 'high', 'high', 'low', 'high', 'low', 'high',\n",
       "       'low', 'high', 'low', 'high', 'mid', 'low', 'low', 'mid', 'high',\n",
       "       'high', 'low', 'high', 'high', 'high', 'low', 'mid', 'mid', 'low',\n",
       "       'mid', 'low', 'high', 'low', 'mid', 'mid', 'low', 'low', 'low',\n",
       "       'high', 'mid', 'high', 'mid', 'high', 'mid'], dtype=object)"
      ]
     },
     "execution_count": 21,
     "metadata": {},
     "output_type": "execute_result"
    }
   ],
   "source": [
    "# Making predictions using the testing data.\n",
    "predictions = rf_model.predict(X_test)\n",
    "predictions"
   ]
  },
  {
   "cell_type": "code",
   "execution_count": 22,
   "id": "9fc37537-55c0-4c92-aeaf-21d064561086",
   "metadata": {},
   "outputs": [
    {
     "data": {
      "text/plain": [
       "array([0.        , 0.        , 0.03417573, 0.00661458, 0.02555534,\n",
       "       0.0313016 , 0.03807886, 0.02743232, 0.0030256 , 0.00134316,\n",
       "       0.02525904, 0.03941245, 0.03796542, 0.03195501, 0.03061926,\n",
       "       0.03786374, 0.04001885, 0.04068751, 0.04439927, 0.02269359,\n",
       "       0.02779145, 0.0186967 , 0.00701789, 0.03607818, 0.03578234,\n",
       "       0.03605916, 0.0206946 , 0.01347133, 0.02650963, 0.14768693,\n",
       "       0.03047778, 0.04435291, 0.03011841, 0.00686136])"
      ]
     },
     "execution_count": 22,
     "metadata": {},
     "output_type": "execute_result"
    }
   ],
   "source": [
    "# Calculate feature importance in the Random Forest model.\n",
    "importances = rf_model.feature_importances_\n",
    "importances"
   ]
  },
  {
   "cell_type": "code",
   "execution_count": 23,
   "id": "57c6e1b9-50ea-4bc5-9cbd-18332e7e4b09",
   "metadata": {},
   "outputs": [
    {
     "data": {
      "text/plain": [
       "[(0.1476869252319295, 'birthYear'),\n",
       " (0.04439926766689964, 'ERA'),\n",
       " (0.044352906700076584, 'weight'),\n",
       " (0.04068751208375484, 'BAOpp'),\n",
       " (0.04001884896678965, 'SO'),\n",
       " (0.03941245198246071, 'IPouts'),\n",
       " (0.0380788578927964, 'G'),\n",
       " (0.037965415359413494, 'H'),\n",
       " (0.03786373844995162, 'BB'),\n",
       " (0.036078175143984724, 'BFP'),\n",
       " (0.036059163959516936, 'R'),\n",
       " (0.03578233888874391, 'GF'),\n",
       " (0.03417572505578022, 'teamID'),\n",
       " (0.031955011431021065, 'ER'),\n",
       " (0.031301597686362946, 'L'),\n",
       " (0.03061926332869309, 'HR'),\n",
       " (0.03047778461324782, 'birthMonth'),\n",
       " (0.030118408579489893, 'height'),\n",
       " (0.027791454675991638, 'WP'),\n",
       " (0.02743231776299934, 'GS'),\n",
       " (0.02650962758918431, 'GIDP'),\n",
       " (0.025555342927458976, 'W'),\n",
       " (0.02525904471619333, 'SV'),\n",
       " (0.02269359368373997, 'IBB'),\n",
       " (0.020694601155839796, 'SH'),\n",
       " (0.018696703835330532, 'HBP'),\n",
       " (0.013471330483389768, 'SF'),\n",
       " (0.007017893444965129, 'BK'),\n",
       " (0.0068613564864704, 'throws'),\n",
       " (0.00661458075850791, 'lgID'),\n",
       " (0.0030255966150827597, 'CG'),\n",
       " (0.0013431628439330564, 'SHO'),\n",
       " (0.0, 'yearID'),\n",
       " (0.0, 'stint')]"
      ]
     },
     "execution_count": 23,
     "metadata": {},
     "output_type": "execute_result"
    }
   ],
   "source": [
    "# We can sort the features by their importance.\n",
    "sorted(zip(rf_model.feature_importances_, X.columns), reverse=True)"
   ]
  },
  {
   "cell_type": "markdown",
   "id": "c8dd5f9e-4ed2-479c-8176-8d92fcae9722",
   "metadata": {},
   "source": [
    "## Increasing n_estimators to 200 (using oversampled sets)\n",
    "---\n",
    "see if that helps the feature correlations"
   ]
  },
  {
   "cell_type": "code",
   "execution_count": 25,
   "id": "8b21d291-36e0-41f0-b95b-fe6ca1a5487f",
   "metadata": {},
   "outputs": [],
   "source": [
    "# Create a random forest classifier.\n",
    "rf_model_200 = RandomForestClassifier(n_estimators=200, random_state=1) "
   ]
  },
  {
   "cell_type": "code",
   "execution_count": 26,
   "id": "de67eee8-b3fc-4ecb-895d-9fcb3d7fda9b",
   "metadata": {},
   "outputs": [],
   "source": [
    "# Fitting the model\n",
    "rf_model_200 = rf_model.fit(X_oversampled, y_oversampled)"
   ]
  },
  {
   "cell_type": "code",
   "execution_count": 27,
   "id": "ede70911-04bb-4bd8-aabf-eb0cc7393ddd",
   "metadata": {},
   "outputs": [
    {
     "data": {
      "text/plain": [
       "array(['mid', 'low', 'low', 'high', 'low', 'mid', 'low', 'mid', 'low',\n",
       "       'high', 'low', 'low', 'mid', 'mid', 'low', 'low', 'high', 'low',\n",
       "       'low', 'high', 'low', 'low', 'low', 'mid', 'low', 'high', 'high',\n",
       "       'mid', 'mid', 'low', 'low', 'mid', 'mid', 'low', 'low', 'high',\n",
       "       'high', 'high', 'mid', 'high', 'low', 'mid', 'mid', 'high', 'high',\n",
       "       'high', 'low', 'high', 'high', 'high', 'high', 'high', 'low',\n",
       "       'mid', 'high', 'low', 'low', 'mid', 'low', 'high', 'mid', 'low',\n",
       "       'mid', 'high', 'low', 'high', 'high', 'low', 'high', 'low', 'high',\n",
       "       'low', 'high', 'low', 'high', 'mid', 'low', 'low', 'mid', 'high',\n",
       "       'high', 'low', 'high', 'high', 'high', 'low', 'mid', 'mid', 'low',\n",
       "       'mid', 'low', 'high', 'low', 'mid', 'mid', 'low', 'low', 'low',\n",
       "       'high', 'mid', 'high', 'mid', 'high', 'mid'], dtype=object)"
      ]
     },
     "execution_count": 27,
     "metadata": {},
     "output_type": "execute_result"
    }
   ],
   "source": [
    "# Making predictions using the testing data.\n",
    "predictions = rf_model_200.predict(X_test)\n",
    "predictions"
   ]
  },
  {
   "cell_type": "code",
   "execution_count": 28,
   "id": "adffb1bd-2d33-4eab-ba40-459c75314763",
   "metadata": {},
   "outputs": [
    {
     "data": {
      "text/plain": [
       "array([0.        , 0.        , 0.03417573, 0.00661458, 0.02555534,\n",
       "       0.0313016 , 0.03807886, 0.02743232, 0.0030256 , 0.00134316,\n",
       "       0.02525904, 0.03941245, 0.03796542, 0.03195501, 0.03061926,\n",
       "       0.03786374, 0.04001885, 0.04068751, 0.04439927, 0.02269359,\n",
       "       0.02779145, 0.0186967 , 0.00701789, 0.03607818, 0.03578234,\n",
       "       0.03605916, 0.0206946 , 0.01347133, 0.02650963, 0.14768693,\n",
       "       0.03047778, 0.04435291, 0.03011841, 0.00686136])"
      ]
     },
     "execution_count": 28,
     "metadata": {},
     "output_type": "execute_result"
    }
   ],
   "source": [
    "# Calculate feature importance in the Random Forest model.\n",
    "importances = rf_model_200.feature_importances_\n",
    "importances"
   ]
  },
  {
   "cell_type": "code",
   "execution_count": 29,
   "id": "ae40d1a8-2152-42e2-81e4-7d6233e20126",
   "metadata": {},
   "outputs": [
    {
     "data": {
      "text/plain": [
       "[(0.1476869252319295, 'birthYear'),\n",
       " (0.04439926766689964, 'ERA'),\n",
       " (0.044352906700076584, 'weight'),\n",
       " (0.04068751208375484, 'BAOpp'),\n",
       " (0.04001884896678965, 'SO'),\n",
       " (0.03941245198246071, 'IPouts'),\n",
       " (0.0380788578927964, 'G'),\n",
       " (0.037965415359413494, 'H'),\n",
       " (0.03786373844995162, 'BB'),\n",
       " (0.036078175143984724, 'BFP'),\n",
       " (0.036059163959516936, 'R'),\n",
       " (0.03578233888874391, 'GF'),\n",
       " (0.03417572505578022, 'teamID'),\n",
       " (0.031955011431021065, 'ER'),\n",
       " (0.031301597686362946, 'L'),\n",
       " (0.03061926332869309, 'HR'),\n",
       " (0.03047778461324782, 'birthMonth'),\n",
       " (0.030118408579489893, 'height'),\n",
       " (0.027791454675991638, 'WP'),\n",
       " (0.02743231776299934, 'GS'),\n",
       " (0.02650962758918431, 'GIDP'),\n",
       " (0.025555342927458976, 'W'),\n",
       " (0.02525904471619333, 'SV'),\n",
       " (0.02269359368373997, 'IBB'),\n",
       " (0.020694601155839796, 'SH'),\n",
       " (0.018696703835330532, 'HBP'),\n",
       " (0.013471330483389768, 'SF'),\n",
       " (0.007017893444965129, 'BK'),\n",
       " (0.0068613564864704, 'throws'),\n",
       " (0.00661458075850791, 'lgID'),\n",
       " (0.0030255966150827597, 'CG'),\n",
       " (0.0013431628439330564, 'SHO'),\n",
       " (0.0, 'yearID'),\n",
       " (0.0, 'stint')]"
      ]
     },
     "execution_count": 29,
     "metadata": {},
     "output_type": "execute_result"
    }
   ],
   "source": [
    "# We can sort the features by their importance.\n",
    "sorted(zip(rf_model_200.feature_importances_, X.columns), reverse=True)"
   ]
  },
  {
   "cell_type": "markdown",
   "id": "6d7bea63-ed0b-4dd1-96d4-2f5cfa07f357",
   "metadata": {},
   "source": [
    "## Decreasing n_estimators to 50 using oversampled set\n",
    "---"
   ]
  },
  {
   "cell_type": "code",
   "execution_count": 40,
   "id": "842ad4f0-df15-4412-9198-97409421b940",
   "metadata": {},
   "outputs": [],
   "source": [
    "# Create a random forest classifier.\n",
    "rf_model_50 = RandomForestClassifier(n_estimators=50, random_state=1) "
   ]
  },
  {
   "cell_type": "code",
   "execution_count": 41,
   "id": "b4bbbe75-2a16-4c20-94e9-0da992708848",
   "metadata": {},
   "outputs": [],
   "source": [
    "# Fitting the model\n",
    "rf_model_50 = rf_model_50.fit(X_oversampled, y_oversampled)"
   ]
  },
  {
   "cell_type": "code",
   "execution_count": 42,
   "id": "ddb30ce6-e2d2-42a9-afcf-723736a9b83e",
   "metadata": {},
   "outputs": [
    {
     "data": {
      "text/plain": [
       "array(['mid', 'low', 'low', 'high', 'low', 'mid', 'low', 'mid', 'low',\n",
       "       'high', 'low', 'low', 'mid', 'mid', 'low', 'low', 'high', 'low',\n",
       "       'high', 'high', 'low', 'low', 'low', 'mid', 'low', 'high', 'high',\n",
       "       'mid', 'mid', 'low', 'low', 'mid', 'mid', 'low', 'low', 'high',\n",
       "       'high', 'high', 'mid', 'high', 'low', 'low', 'mid', 'high', 'high',\n",
       "       'high', 'low', 'high', 'high', 'high', 'high', 'high', 'low',\n",
       "       'mid', 'high', 'low', 'low', 'mid', 'low', 'high', 'mid', 'low',\n",
       "       'mid', 'high', 'low', 'high', 'high', 'low', 'high', 'high',\n",
       "       'high', 'mid', 'low', 'low', 'high', 'mid', 'low', 'low', 'high',\n",
       "       'high', 'high', 'low', 'high', 'high', 'high', 'low', 'mid', 'mid',\n",
       "       'low', 'mid', 'low', 'high', 'low', 'mid', 'mid', 'low', 'low',\n",
       "       'low', 'high', 'mid', 'high', 'low', 'high', 'mid'], dtype=object)"
      ]
     },
     "execution_count": 42,
     "metadata": {},
     "output_type": "execute_result"
    }
   ],
   "source": [
    "# Making predictions using the testing data.\n",
    "predictions = rf_model_50.predict(X_test)\n",
    "predictions"
   ]
  },
  {
   "cell_type": "code",
   "execution_count": 43,
   "id": "972df883-0f20-44d5-aff0-f0954733ce54",
   "metadata": {},
   "outputs": [
    {
     "data": {
      "text/plain": [
       "array([0.        , 0.        , 0.03316326, 0.00547121, 0.02615675,\n",
       "       0.03229328, 0.03824714, 0.02602629, 0.00290005, 0.00172491,\n",
       "       0.02493481, 0.04145405, 0.03701826, 0.03130505, 0.03263084,\n",
       "       0.03664471, 0.04398512, 0.04004908, 0.05042771, 0.01988313,\n",
       "       0.02661504, 0.0175798 , 0.00765964, 0.03696804, 0.03578439,\n",
       "       0.03691812, 0.02075954, 0.01114957, 0.02263598, 0.14589024,\n",
       "       0.032931  , 0.0469068 , 0.02724809, 0.00663811])"
      ]
     },
     "execution_count": 43,
     "metadata": {},
     "output_type": "execute_result"
    }
   ],
   "source": [
    "# Calculate feature importance in the Random Forest model.\n",
    "importances = rf_model_50.feature_importances_\n",
    "importances"
   ]
  },
  {
   "cell_type": "code",
   "execution_count": 44,
   "id": "2b964309-d8c4-4d02-a31e-90bc43f8f409",
   "metadata": {},
   "outputs": [
    {
     "data": {
      "text/plain": [
       "[(0.1458902357536968, 'birthYear'),\n",
       " (0.050427705340922745, 'ERA'),\n",
       " (0.046906797988424606, 'weight'),\n",
       " (0.04398511843596445, 'SO'),\n",
       " (0.04145405407240443, 'IPouts'),\n",
       " (0.040049082232284094, 'BAOpp'),\n",
       " (0.03824713898227751, 'G'),\n",
       " (0.037018255275695154, 'H'),\n",
       " (0.03696804003969633, 'BFP'),\n",
       " (0.036918124645763634, 'R'),\n",
       " (0.036644708911380885, 'BB'),\n",
       " (0.0357843919684012, 'GF'),\n",
       " (0.03316326027684191, 'teamID'),\n",
       " (0.03293100046731905, 'birthMonth'),\n",
       " (0.03263083506562404, 'HR'),\n",
       " (0.03229327868405183, 'L'),\n",
       " (0.03130505251302233, 'ER'),\n",
       " (0.02724808597238115, 'height'),\n",
       " (0.026615037893543275, 'WP'),\n",
       " (0.026156753824574698, 'W'),\n",
       " (0.02602629319099061, 'GS'),\n",
       " (0.024934810599119003, 'SV'),\n",
       " (0.022635975192949565, 'GIDP'),\n",
       " (0.020759539869626687, 'SH'),\n",
       " (0.01988312601719528, 'IBB'),\n",
       " (0.017579804931404323, 'HBP'),\n",
       " (0.01114956670214255, 'SF'),\n",
       " (0.0076596411893194395, 'BK'),\n",
       " (0.006638114385125813, 'throws'),\n",
       " (0.0054712081138191615, 'lgID'),\n",
       " (0.002900053660838086, 'CG'),\n",
       " (0.0017249078031993472, 'SHO'),\n",
       " (0.0, 'yearID'),\n",
       " (0.0, 'stint')]"
      ]
     },
     "execution_count": 44,
     "metadata": {},
     "output_type": "execute_result"
    }
   ],
   "source": [
    "# We can sort the features by their importance.\n",
    "sorted(zip(rf_model_50.feature_importances_, X.columns), reverse=True)"
   ]
  },
  {
   "cell_type": "code",
   "execution_count": null,
   "id": "91ae9af3-3501-4f52-972c-b7b6c109d9ad",
   "metadata": {},
   "outputs": [],
   "source": []
  }
 ],
 "metadata": {
  "kernelspec": {
   "display_name": "mlenv",
   "language": "python",
   "name": "mlenv"
  },
  "language_info": {
   "codemirror_mode": {
    "name": "ipython",
    "version": 3
   },
   "file_extension": ".py",
   "mimetype": "text/x-python",
   "name": "python",
   "nbconvert_exporter": "python",
   "pygments_lexer": "ipython3",
   "version": "3.7.11"
  }
 },
 "nbformat": 4,
 "nbformat_minor": 5
}
