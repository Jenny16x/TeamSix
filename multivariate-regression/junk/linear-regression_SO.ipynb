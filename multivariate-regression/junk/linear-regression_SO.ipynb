{
 "cells": [
  {
   "cell_type": "code",
   "execution_count": null,
   "id": "65c74007-65c3-44c2-b1d9-c7b60c138be1",
   "metadata": {},
   "outputs": [],
   "source": [
    "# import dependencies\n",
    "%matplotlib inline\n",
    "import pandas as pd\n",
    "from pathlib import Path\n",
    "import matplotlib.pyplot as plt\n",
    "from sklearn.linear_model import LinearRegression\n",
    "import numpy as np"
   ]
  },
  {
   "cell_type": "code",
   "execution_count": 12,
   "id": "007e45a5-62b1-4839-a302-106b2e44ec03",
   "metadata": {},
   "outputs": [
    {
     "data": {
      "text/html": [
       "<div>\n",
       "<style scoped>\n",
       "    .dataframe tbody tr th:only-of-type {\n",
       "        vertical-align: middle;\n",
       "    }\n",
       "\n",
       "    .dataframe tbody tr th {\n",
       "        vertical-align: top;\n",
       "    }\n",
       "\n",
       "    .dataframe thead th {\n",
       "        text-align: right;\n",
       "    }\n",
       "</style>\n",
       "<table border=\"1\" class=\"dataframe\">\n",
       "  <thead>\n",
       "    <tr style=\"text-align: right;\">\n",
       "      <th></th>\n",
       "      <th>Year</th>\n",
       "      <th>Full Name</th>\n",
       "      <th>Age</th>\n",
       "      <th>Salary</th>\n",
       "      <th>ERA</th>\n",
       "      <th>Hits</th>\n",
       "      <th>ER</th>\n",
       "      <th>SO</th>\n",
       "      <th>HR</th>\n",
       "      <th>Wins</th>\n",
       "      <th>Losses</th>\n",
       "      <th>OP</th>\n",
       "      <th>BFP</th>\n",
       "      <th>GF</th>\n",
       "      <th>Weight</th>\n",
       "      <th>Height</th>\n",
       "      <th>League</th>\n",
       "      <th>Team</th>\n",
       "      <th>GS</th>\n",
       "    </tr>\n",
       "  </thead>\n",
       "  <tbody>\n",
       "    <tr>\n",
       "      <th>0</th>\n",
       "      <td>1990</td>\n",
       "      <td>AbbottJim</td>\n",
       "      <td>23</td>\n",
       "      <td>185000</td>\n",
       "      <td>4.51</td>\n",
       "      <td>246</td>\n",
       "      <td>106</td>\n",
       "      <td>105</td>\n",
       "      <td>16</td>\n",
       "      <td>10</td>\n",
       "      <td>14</td>\n",
       "      <td>635</td>\n",
       "      <td>925</td>\n",
       "      <td>0</td>\n",
       "      <td>200</td>\n",
       "      <td>75</td>\n",
       "      <td>AL</td>\n",
       "      <td>CAL</td>\n",
       "      <td>33</td>\n",
       "    </tr>\n",
       "    <tr>\n",
       "      <th>1</th>\n",
       "      <td>1990</td>\n",
       "      <td>AbbottPaul</td>\n",
       "      <td>23</td>\n",
       "      <td>100000</td>\n",
       "      <td>5.97</td>\n",
       "      <td>37</td>\n",
       "      <td>23</td>\n",
       "      <td>25</td>\n",
       "      <td>0</td>\n",
       "      <td>0</td>\n",
       "      <td>5</td>\n",
       "      <td>104</td>\n",
       "      <td>162</td>\n",
       "      <td>0</td>\n",
       "      <td>185</td>\n",
       "      <td>75</td>\n",
       "      <td>AL</td>\n",
       "      <td>MIN</td>\n",
       "      <td>7</td>\n",
       "    </tr>\n",
       "    <tr>\n",
       "      <th>2</th>\n",
       "      <td>1990</td>\n",
       "      <td>AldredScott</td>\n",
       "      <td>22</td>\n",
       "      <td>100000</td>\n",
       "      <td>3.77</td>\n",
       "      <td>13</td>\n",
       "      <td>6</td>\n",
       "      <td>7</td>\n",
       "      <td>0</td>\n",
       "      <td>1</td>\n",
       "      <td>2</td>\n",
       "      <td>43</td>\n",
       "      <td>63</td>\n",
       "      <td>0</td>\n",
       "      <td>195</td>\n",
       "      <td>76</td>\n",
       "      <td>AL</td>\n",
       "      <td>DET</td>\n",
       "      <td>3</td>\n",
       "    </tr>\n",
       "    <tr>\n",
       "      <th>3</th>\n",
       "      <td>1990</td>\n",
       "      <td>AndersonAllan</td>\n",
       "      <td>26</td>\n",
       "      <td>300000</td>\n",
       "      <td>4.53</td>\n",
       "      <td>214</td>\n",
       "      <td>95</td>\n",
       "      <td>82</td>\n",
       "      <td>20</td>\n",
       "      <td>7</td>\n",
       "      <td>18</td>\n",
       "      <td>566</td>\n",
       "      <td>797</td>\n",
       "      <td>0</td>\n",
       "      <td>178</td>\n",
       "      <td>71</td>\n",
       "      <td>AL</td>\n",
       "      <td>MIN</td>\n",
       "      <td>31</td>\n",
       "    </tr>\n",
       "    <tr>\n",
       "      <th>4</th>\n",
       "      <td>1990</td>\n",
       "      <td>AppierKevin</td>\n",
       "      <td>23</td>\n",
       "      <td>100000</td>\n",
       "      <td>2.76</td>\n",
       "      <td>179</td>\n",
       "      <td>57</td>\n",
       "      <td>127</td>\n",
       "      <td>13</td>\n",
       "      <td>12</td>\n",
       "      <td>8</td>\n",
       "      <td>557</td>\n",
       "      <td>784</td>\n",
       "      <td>1</td>\n",
       "      <td>180</td>\n",
       "      <td>74</td>\n",
       "      <td>AL</td>\n",
       "      <td>KCA</td>\n",
       "      <td>24</td>\n",
       "    </tr>\n",
       "  </tbody>\n",
       "</table>\n",
       "</div>"
      ],
      "text/plain": [
       "   Year      Full Name  Age  Salary   ERA  Hits   ER   SO  HR  Wins  Losses  \\\n",
       "0  1990      AbbottJim   23  185000  4.51   246  106  105  16    10      14   \n",
       "1  1990     AbbottPaul   23  100000  5.97    37   23   25   0     0       5   \n",
       "2  1990    AldredScott   22  100000  3.77    13    6    7   0     1       2   \n",
       "3  1990  AndersonAllan   26  300000  4.53   214   95   82  20     7      18   \n",
       "4  1990    AppierKevin   23  100000  2.76   179   57  127  13    12       8   \n",
       "\n",
       "    OP  BFP  GF  Weight  Height League Team  GS  \n",
       "0  635  925   0     200      75     AL  CAL  33  \n",
       "1  104  162   0     185      75     AL  MIN   7  \n",
       "2   43   63   0     195      76     AL  DET   3  \n",
       "3  566  797   0     178      71     AL  MIN  31  \n",
       "4  557  784   1     180      74     AL  KCA  24  "
      ]
     },
     "execution_count": 12,
     "metadata": {},
     "output_type": "execute_result"
    }
   ],
   "source": [
    "# read in csv as pandas dataframe\n",
    "data = 'linear-regression-v2/resources/outliers-removed_spaces-removed.csv'\n",
    "df = pd.read_csv(data)\n",
    "df.head()"
   ]
  },
  {
   "cell_type": "code",
   "execution_count": 13,
   "id": "0cfab6d7-d385-4a3f-bf9b-e13119374ebc",
   "metadata": {},
   "outputs": [
    {
     "data": {
      "image/png": "[encoded data removed]",
      "text/plain": [
       "<Figure size 432x288 with 1 Axes>"
      ]
     },
     "metadata": {
      "needs_background": "light"
     },
     "output_type": "display_data"
    }
   ],
   "source": [
    "# visually inspect relationship between yrs ERA and salary\n",
    "plt.scatter(df.SO, df.Salary)\n",
    "plt.xlabel('Strike Outs')\n",
    "plt.ylabel('Salary')\n",
    "plt.show()"
   ]
  },
  {
   "cell_type": "code",
   "execution_count": 14,
   "id": "5affe9fe-4d24-4a28-b55e-e3c9c2e8e6df",
   "metadata": {},
   "outputs": [
    {
     "data": {
      "text/plain": [
       "(4349, 1)"
      ]
     },
     "execution_count": 14,
     "metadata": {},
     "output_type": "execute_result"
    }
   ],
   "source": [
    "# format data to meet requirements of SciKit-learn library\n",
    "X=df.GS.values.reshape(-1,1)\n",
    "X.shape"
   ]
  },
  {
   "cell_type": "code",
   "execution_count": 25,
   "id": "7489eab5-ada4-46fd-93eb-e3189f839545",
   "metadata": {},
   "outputs": [
    {
     "data": {
      "text/plain": [
       "(4349,)"
      ]
     },
     "execution_count": 25,
     "metadata": {},
     "output_type": "execute_result"
    }
   ],
   "source": [
    "# set target variable\n",
    "y=df.Salary\n",
    "y.shape"
   ]
  },
  {
   "cell_type": "code",
   "execution_count": 38,
   "id": "1d6b57d6-6ef1-4f7f-823d-e5c842026053",
   "metadata": {},
   "outputs": [],
   "source": [
    "# Use the Sklearn `train_test_split()` function to split the data into training and testing data\n",
    "from sklearn.model_selection import train_test_split\n",
    "\n",
    "X_train, X_test, y_train, y_test = train_test_split(X, y, test_size=0.3, random_state=1)"
   ]
  },
  {
   "cell_type": "code",
   "execution_count": 39,
   "id": "a85674ba-2d97-4f50-9da0-d5184c207afa",
   "metadata": {},
   "outputs": [],
   "source": [
    "# create instance of linear regression model\n",
    "model=LinearRegression()"
   ]
  },
  {
   "cell_type": "code",
   "execution_count": 40,
   "id": "8fc79782-e900-4bd3-81d3-8fa898cd2541",
   "metadata": {},
   "outputs": [
    {
     "data": {
      "text/plain": [
       "LinearRegression()"
      ]
     },
     "execution_count": 40,
     "metadata": {},
     "output_type": "execute_result"
    }
   ],
   "source": [
    "# fitting /training/modeling\n",
    "model.fit(X,y)\n",
    "model"
   ]
  },
  {
   "cell_type": "code",
   "execution_count": 41,
   "id": "7b3b1f11-3ff1-4429-b85c-b0f66be0228b",
   "metadata": {},
   "outputs": [
    {
     "name": "stdout",
     "output_type": "stream",
     "text": [
      "Weight coefficients:  [58140.3490432]\n",
      "y-axis intercept:  750723.3492772814\n"
     ]
    }
   ],
   "source": [
    "# Print the coefficient and the intercept for the model.\n",
    "\n",
    "print('Weight coefficients: ', model.coef_)\n",
    "print('y-axis intercept: ', model.intercept_)"
   ]
  },
  {
   "cell_type": "code",
   "execution_count": 42,
   "id": "4f1d3d2d-5140-41c9-ba2e-f010352ffef2",
   "metadata": {},
   "outputs": [
    {
     "name": "stdout",
     "output_type": "stream",
     "text": [
      "Min X Value: [[3]]\n",
      "Max X Value: [[37]]\n"
     ]
    }
   ],
   "source": [
    "# Note: We have to transform our min and max values \n",
    "# so they are in the format of array([[0.4999]]).\n",
    "# This is the required format for `model.predict()`.\n",
    "\n",
    "x_min = np.array([[X.min()]])\n",
    "x_max = np.array([[X.max()]])\n",
    "print(f\"Min X Value: {x_min}\")\n",
    "print(f\"Max X Value: {x_max}\")"
   ]
  },
  {
   "cell_type": "code",
   "execution_count": 43,
   "id": "1f922b9b-60ce-4766-8077-a7a892ddc9b6",
   "metadata": {},
   "outputs": [],
   "source": [
    "# Calculate the y_min and y_max by using model.predict and x_min and x_max.\n",
    "\n",
    "y_min = model.predict(x_min)\n",
    "y_max = model.predict(x_max)"
   ]
  },
  {
   "cell_type": "code",
   "execution_count": 44,
   "id": "3fbb4f1e-951b-480f-ba7f-7247b29a1c71",
   "metadata": {},
   "outputs": [
    {
     "data": {
      "text/plain": [
       "[<matplotlib.lines.Line2D at 0x1bcca362148>]"
      ]
     },
     "execution_count": 44,
     "metadata": {},
     "output_type": "execute_result"
    },
    {
     "data": {
      "image/png": "[encoded data removed]",
      "text/plain": [
       "<Figure size 432x288 with 1 Axes>"
      ]
     },
     "metadata": {
      "needs_background": "light"
     },
     "output_type": "display_data"
    }
   ],
   "source": [
    "# Plot X and y by using plt.scatter.\n",
    "# Plot the model fit line by using [x_min[0], x_max[0]], [y_min[0], y_max[0]].\n",
    "\n",
    "plt.scatter(X, y, c='blue')\n",
    "plt.plot([x_min[0], x_max[0]], [y_min[0], y_max[0]], c='red')"
   ]
  },
  {
   "cell_type": "code",
   "execution_count": 45,
   "id": "652bff49-4d8c-4ba9-80fd-6d0768c09362",
   "metadata": {
    "tags": []
   },
   "outputs": [
    {
     "name": "stdout",
     "output_type": "stream",
     "text": [
      "(4349,)\n"
     ]
    }
   ],
   "source": [
    "# generate predictions\n",
    "y_pred=model.predict(X)\n",
    "print(y_pred.shape)"
   ]
  },
  {
   "cell_type": "code",
   "execution_count": 46,
   "id": "020e4b2c-a89b-4212-8a73-03a443c4f163",
   "metadata": {},
   "outputs": [
    {
     "data": {
      "text/html": [
       "<div>\n",
       "<style scoped>\n",
       "    .dataframe tbody tr th:only-of-type {\n",
       "        vertical-align: middle;\n",
       "    }\n",
       "\n",
       "    .dataframe tbody tr th {\n",
       "        vertical-align: top;\n",
       "    }\n",
       "\n",
       "    .dataframe thead th {\n",
       "        text-align: right;\n",
       "    }\n",
       "</style>\n",
       "<table border=\"1\" class=\"dataframe\">\n",
       "  <thead>\n",
       "    <tr style=\"text-align: right;\">\n",
       "      <th></th>\n",
       "      <th>Prediction</th>\n",
       "      <th>Actual</th>\n",
       "    </tr>\n",
       "  </thead>\n",
       "  <tbody>\n",
       "    <tr>\n",
       "      <th>0</th>\n",
       "      <td>2,320,513</td>\n",
       "      <td>426000</td>\n",
       "    </tr>\n",
       "    <tr>\n",
       "      <th>1</th>\n",
       "      <td>1,971,671</td>\n",
       "      <td>2200000</td>\n",
       "    </tr>\n",
       "    <tr>\n",
       "      <th>2</th>\n",
       "      <td>2,436,793</td>\n",
       "      <td>502500</td>\n",
       "    </tr>\n",
       "    <tr>\n",
       "      <th>3</th>\n",
       "      <td>1,739,109</td>\n",
       "      <td>160000</td>\n",
       "    </tr>\n",
       "    <tr>\n",
       "      <th>4</th>\n",
       "      <td>1,390,267</td>\n",
       "      <td>300000</td>\n",
       "    </tr>\n",
       "  </tbody>\n",
       "</table>\n",
       "</div>"
      ],
      "text/plain": [
       "   Prediction   Actual\n",
       "0   2,320,513   426000\n",
       "1   1,971,671  2200000\n",
       "2   2,436,793   502500\n",
       "3   1,739,109   160000\n",
       "4   1,390,267   300000"
      ]
     },
     "execution_count": 46,
     "metadata": {},
     "output_type": "execute_result"
    }
   ],
   "source": [
    "pd.options.display.float_format='{:,.0f}'.format\n",
    "y_pred = model.predict(X_test)\n",
    "results = pd.DataFrame({\"Prediction\": y_pred, \"Actual\": y_test}).reset_index(drop=True)\n",
    "results.head()"
   ]
  },
  {
   "cell_type": "code",
   "execution_count": 47,
   "id": "2809d5cb-8052-4c75-ac17-45b78409d45a",
   "metadata": {},
   "outputs": [],
   "source": [
    "pct_error= (((y_test-y_pred)/y_test)*100)"
   ]
  },
  {
   "cell_type": "code",
   "execution_count": 48,
   "id": "ac3abdc3-e97f-45ca-b70e-06a8d6980ab1",
   "metadata": {},
   "outputs": [
    {
     "data": {
      "text/html": [
       "<div>\n",
       "<style scoped>\n",
       "    .dataframe tbody tr th:only-of-type {\n",
       "        vertical-align: middle;\n",
       "    }\n",
       "\n",
       "    .dataframe tbody tr th {\n",
       "        vertical-align: top;\n",
       "    }\n",
       "\n",
       "    .dataframe thead th {\n",
       "        text-align: right;\n",
       "    }\n",
       "</style>\n",
       "<table border=\"1\" class=\"dataframe\">\n",
       "  <thead>\n",
       "    <tr style=\"text-align: right;\">\n",
       "      <th></th>\n",
       "      <th>Predicted</th>\n",
       "      <th>Actual</th>\n",
       "      <th>Percent Error</th>\n",
       "    </tr>\n",
       "  </thead>\n",
       "  <tbody>\n",
       "    <tr>\n",
       "      <th>3392</th>\n",
       "      <td>2,320,513</td>\n",
       "      <td>426000</td>\n",
       "      <td>445</td>\n",
       "    </tr>\n",
       "    <tr>\n",
       "      <th>2878</th>\n",
       "      <td>1,971,671</td>\n",
       "      <td>2200000</td>\n",
       "      <td>10</td>\n",
       "    </tr>\n",
       "    <tr>\n",
       "      <th>3802</th>\n",
       "      <td>2,436,793</td>\n",
       "      <td>502500</td>\n",
       "      <td>385</td>\n",
       "    </tr>\n",
       "    <tr>\n",
       "      <th>1206</th>\n",
       "      <td>1,739,109</td>\n",
       "      <td>160000</td>\n",
       "      <td>987</td>\n",
       "    </tr>\n",
       "    <tr>\n",
       "      <th>932</th>\n",
       "      <td>1,390,267</td>\n",
       "      <td>300000</td>\n",
       "      <td>363</td>\n",
       "    </tr>\n",
       "    <tr>\n",
       "      <th>...</th>\n",
       "      <td>...</td>\n",
       "      <td>...</td>\n",
       "      <td>...</td>\n",
       "    </tr>\n",
       "    <tr>\n",
       "      <th>2111</th>\n",
       "      <td>1,273,986</td>\n",
       "      <td>4500000</td>\n",
       "      <td>72</td>\n",
       "    </tr>\n",
       "    <tr>\n",
       "      <th>2695</th>\n",
       "      <td>2,436,793</td>\n",
       "      <td>3500000</td>\n",
       "      <td>30</td>\n",
       "    </tr>\n",
       "    <tr>\n",
       "      <th>180</th>\n",
       "      <td>2,029,811</td>\n",
       "      <td>785000</td>\n",
       "      <td>159</td>\n",
       "    </tr>\n",
       "    <tr>\n",
       "      <th>1352</th>\n",
       "      <td>2,669,355</td>\n",
       "      <td>5050000</td>\n",
       "      <td>47</td>\n",
       "    </tr>\n",
       "    <tr>\n",
       "      <th>125</th>\n",
       "      <td>2,436,793</td>\n",
       "      <td>630000</td>\n",
       "      <td>287</td>\n",
       "    </tr>\n",
       "  </tbody>\n",
       "</table>\n",
       "<p>1305 rows × 3 columns</p>\n",
       "</div>"
      ],
      "text/plain": [
       "      Predicted   Actual  Percent Error\n",
       "3392  2,320,513   426000            445\n",
       "2878  1,971,671  2200000             10\n",
       "3802  2,436,793   502500            385\n",
       "1206  1,739,109   160000            987\n",
       "932   1,390,267   300000            363\n",
       "...         ...      ...            ...\n",
       "2111  1,273,986  4500000             72\n",
       "2695  2,436,793  3500000             30\n",
       "180   2,029,811   785000            159\n",
       "1352  2,669,355  5050000             47\n",
       "125   2,436,793   630000            287\n",
       "\n",
       "[1305 rows x 3 columns]"
      ]
     },
     "execution_count": 48,
     "metadata": {},
     "output_type": "execute_result"
    }
   ],
   "source": [
    "y_pred = model.predict(X_test)\n",
    "results_df=pd.DataFrame({\"Predicted\": y_pred, \"Actual\": y_test, \"Percent Error\": pct_error})[[\"Predicted\", \"Actual\", \"Percent Error\"]]\n",
    "results_df.abs()"
   ]
  },
  {
   "cell_type": "code",
   "execution_count": 49,
   "id": "b0832b7d-6b58-474e-8c73-15627c0eba83",
   "metadata": {},
   "outputs": [
    {
     "name": "stdout",
     "output_type": "stream",
     "text": [
      "Training Score: 5.80%\n",
      "Testing Score: 7.84%\n"
     ]
    }
   ],
   "source": [
    "model.fit(X_train, y_train)\n",
    "training_score = model.score(X_train, y_train)\n",
    "testing_score = model.score(X_test, y_test)\n",
    "\n",
    "print(f\"Training Score: {training_score*100:.2f}%\")\n",
    "print(f\"Testing Score: {testing_score*100:.2f}%\")"
   ]
  },
  {
   "cell_type": "code",
   "execution_count": 51,
   "id": "07c13aba-b278-485d-9aaf-af284596aa80",
   "metadata": {},
   "outputs": [
    {
     "name": "stdout",
     "output_type": "stream",
     "text": [
      "mean squared error (MSE): 4841284725290.50\n",
      "R-squared (R2 ): 0.08\n"
     ]
    }
   ],
   "source": [
    "# Score the prediction with MSE and R2\n",
    "from sklearn.metrics import mean_squared_error, r2_score\n",
    "\n",
    "mse = mean_squared_error(y_test, y_pred)\n",
    "r2 = r2_score(y_test, y_pred)\n",
    "\n",
    "print(f\"mean squared error (MSE): {mse:.2f}\")\n",
    "print(f\"R-squared (R2 ): {r2:.2f}\")"
   ]
  },
  {
   "cell_type": "code",
   "execution_count": null,
   "id": "b71b1803-17a3-445e-b061-6662af065620",
   "metadata": {},
   "outputs": [],
   "source": []
  }
 ],
 "metadata": {
  "kernelspec": {
   "display_name": "mlenv",
   "language": "python",
   "name": "mlenv"
  },
  "language_info": {
   "codemirror_mode": {
    "name": "ipython",
    "version": 3
   },
   "file_extension": ".py",
   "mimetype": "text/x-python",
   "name": "python",
   "nbconvert_exporter": "python",
   "pygments_lexer": "ipython3",
   "version": "3.7.11"
  }
 },
 "nbformat": 4,
 "nbformat_minor": 5
}
