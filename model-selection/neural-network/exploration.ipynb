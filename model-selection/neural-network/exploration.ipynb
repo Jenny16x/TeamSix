{
 "cells": [
  {
   "cell_type": "code",
   "execution_count": 39,
   "id": "fa0bacd8-1c04-455b-98e4-406596fd8080",
   "metadata": {},
   "outputs": [
    {
     "data": {
      "text/html": [
       "<div>\n",
       "<style scoped>\n",
       "    .dataframe tbody tr th:only-of-type {\n",
       "        vertical-align: middle;\n",
       "    }\n",
       "\n",
       "    .dataframe tbody tr th {\n",
       "        vertical-align: top;\n",
       "    }\n",
       "\n",
       "    .dataframe thead th {\n",
       "        text-align: right;\n",
       "    }\n",
       "</style>\n",
       "<table border=\"1\" class=\"dataframe\">\n",
       "  <thead>\n",
       "    <tr style=\"text-align: right;\">\n",
       "      <th></th>\n",
       "      <th>Year</th>\n",
       "      <th>Full Name</th>\n",
       "      <th>Age</th>\n",
       "      <th>Salary</th>\n",
       "      <th>ERA</th>\n",
       "      <th>Hits</th>\n",
       "      <th>Earned Runs</th>\n",
       "      <th>Strike Outs</th>\n",
       "      <th>Home Runs</th>\n",
       "      <th>Wins</th>\n",
       "      <th>Losses</th>\n",
       "      <th>Outs Pitched</th>\n",
       "      <th>Batters Faced by Pitcher</th>\n",
       "      <th>Games Finished</th>\n",
       "      <th>Weight</th>\n",
       "      <th>Height</th>\n",
       "      <th>League</th>\n",
       "      <th>Team</th>\n",
       "      <th>Games Started</th>\n",
       "    </tr>\n",
       "  </thead>\n",
       "  <tbody>\n",
       "    <tr>\n",
       "      <th>0</th>\n",
       "      <td>1990</td>\n",
       "      <td>AbbottJim</td>\n",
       "      <td>23</td>\n",
       "      <td>185000</td>\n",
       "      <td>4.51</td>\n",
       "      <td>246</td>\n",
       "      <td>106</td>\n",
       "      <td>105</td>\n",
       "      <td>16</td>\n",
       "      <td>10</td>\n",
       "      <td>14</td>\n",
       "      <td>635</td>\n",
       "      <td>925</td>\n",
       "      <td>0</td>\n",
       "      <td>200</td>\n",
       "      <td>75</td>\n",
       "      <td>AL</td>\n",
       "      <td>CAL</td>\n",
       "      <td>33</td>\n",
       "    </tr>\n",
       "    <tr>\n",
       "      <th>1</th>\n",
       "      <td>1990</td>\n",
       "      <td>AbbottPaul</td>\n",
       "      <td>23</td>\n",
       "      <td>100000</td>\n",
       "      <td>5.97</td>\n",
       "      <td>37</td>\n",
       "      <td>23</td>\n",
       "      <td>25</td>\n",
       "      <td>0</td>\n",
       "      <td>0</td>\n",
       "      <td>5</td>\n",
       "      <td>104</td>\n",
       "      <td>162</td>\n",
       "      <td>0</td>\n",
       "      <td>185</td>\n",
       "      <td>75</td>\n",
       "      <td>AL</td>\n",
       "      <td>MIN</td>\n",
       "      <td>7</td>\n",
       "    </tr>\n",
       "    <tr>\n",
       "      <th>2</th>\n",
       "      <td>1990</td>\n",
       "      <td>AldredScott</td>\n",
       "      <td>22</td>\n",
       "      <td>100000</td>\n",
       "      <td>3.77</td>\n",
       "      <td>13</td>\n",
       "      <td>6</td>\n",
       "      <td>7</td>\n",
       "      <td>0</td>\n",
       "      <td>1</td>\n",
       "      <td>2</td>\n",
       "      <td>43</td>\n",
       "      <td>63</td>\n",
       "      <td>0</td>\n",
       "      <td>195</td>\n",
       "      <td>76</td>\n",
       "      <td>AL</td>\n",
       "      <td>DET</td>\n",
       "      <td>3</td>\n",
       "    </tr>\n",
       "    <tr>\n",
       "      <th>3</th>\n",
       "      <td>1990</td>\n",
       "      <td>AndersonAllan</td>\n",
       "      <td>26</td>\n",
       "      <td>300000</td>\n",
       "      <td>4.53</td>\n",
       "      <td>214</td>\n",
       "      <td>95</td>\n",
       "      <td>82</td>\n",
       "      <td>20</td>\n",
       "      <td>7</td>\n",
       "      <td>18</td>\n",
       "      <td>566</td>\n",
       "      <td>797</td>\n",
       "      <td>0</td>\n",
       "      <td>178</td>\n",
       "      <td>71</td>\n",
       "      <td>AL</td>\n",
       "      <td>MIN</td>\n",
       "      <td>31</td>\n",
       "    </tr>\n",
       "    <tr>\n",
       "      <th>4</th>\n",
       "      <td>1990</td>\n",
       "      <td>AppierKevin</td>\n",
       "      <td>23</td>\n",
       "      <td>100000</td>\n",
       "      <td>2.76</td>\n",
       "      <td>179</td>\n",
       "      <td>57</td>\n",
       "      <td>127</td>\n",
       "      <td>13</td>\n",
       "      <td>12</td>\n",
       "      <td>8</td>\n",
       "      <td>557</td>\n",
       "      <td>784</td>\n",
       "      <td>1</td>\n",
       "      <td>180</td>\n",
       "      <td>74</td>\n",
       "      <td>AL</td>\n",
       "      <td>KCA</td>\n",
       "      <td>24</td>\n",
       "    </tr>\n",
       "    <tr>\n",
       "      <th>...</th>\n",
       "      <td>...</td>\n",
       "      <td>...</td>\n",
       "      <td>...</td>\n",
       "      <td>...</td>\n",
       "      <td>...</td>\n",
       "      <td>...</td>\n",
       "      <td>...</td>\n",
       "      <td>...</td>\n",
       "      <td>...</td>\n",
       "      <td>...</td>\n",
       "      <td>...</td>\n",
       "      <td>...</td>\n",
       "      <td>...</td>\n",
       "      <td>...</td>\n",
       "      <td>...</td>\n",
       "      <td>...</td>\n",
       "      <td>...</td>\n",
       "      <td>...</td>\n",
       "      <td>...</td>\n",
       "    </tr>\n",
       "    <tr>\n",
       "      <th>4932</th>\n",
       "      <td>2016</td>\n",
       "      <td>WorleyVance</td>\n",
       "      <td>29</td>\n",
       "      <td>2600000</td>\n",
       "      <td>3.53</td>\n",
       "      <td>84</td>\n",
       "      <td>34</td>\n",
       "      <td>56</td>\n",
       "      <td>11</td>\n",
       "      <td>2</td>\n",
       "      <td>2</td>\n",
       "      <td>260</td>\n",
       "      <td>365</td>\n",
       "      <td>13</td>\n",
       "      <td>240</td>\n",
       "      <td>74</td>\n",
       "      <td>AL</td>\n",
       "      <td>BAL</td>\n",
       "      <td>4</td>\n",
       "    </tr>\n",
       "    <tr>\n",
       "      <th>4933</th>\n",
       "      <td>2016</td>\n",
       "      <td>WrightMike</td>\n",
       "      <td>26</td>\n",
       "      <td>510500</td>\n",
       "      <td>5.79</td>\n",
       "      <td>81</td>\n",
       "      <td>48</td>\n",
       "      <td>50</td>\n",
       "      <td>12</td>\n",
       "      <td>3</td>\n",
       "      <td>4</td>\n",
       "      <td>224</td>\n",
       "      <td>328</td>\n",
       "      <td>5</td>\n",
       "      <td>240</td>\n",
       "      <td>78</td>\n",
       "      <td>AL</td>\n",
       "      <td>BAL</td>\n",
       "      <td>12</td>\n",
       "    </tr>\n",
       "    <tr>\n",
       "      <th>4934</th>\n",
       "      <td>2016</td>\n",
       "      <td>WrightSteven</td>\n",
       "      <td>32</td>\n",
       "      <td>514500</td>\n",
       "      <td>3.33</td>\n",
       "      <td>138</td>\n",
       "      <td>58</td>\n",
       "      <td>127</td>\n",
       "      <td>12</td>\n",
       "      <td>13</td>\n",
       "      <td>6</td>\n",
       "      <td>470</td>\n",
       "      <td>656</td>\n",
       "      <td>0</td>\n",
       "      <td>215</td>\n",
       "      <td>74</td>\n",
       "      <td>AL</td>\n",
       "      <td>BOS</td>\n",
       "      <td>24</td>\n",
       "    </tr>\n",
       "    <tr>\n",
       "      <th>4935</th>\n",
       "      <td>2016</td>\n",
       "      <td>YoungChris</td>\n",
       "      <td>37</td>\n",
       "      <td>4250000</td>\n",
       "      <td>6.19</td>\n",
       "      <td>104</td>\n",
       "      <td>61</td>\n",
       "      <td>94</td>\n",
       "      <td>28</td>\n",
       "      <td>3</td>\n",
       "      <td>9</td>\n",
       "      <td>266</td>\n",
       "      <td>406</td>\n",
       "      <td>7</td>\n",
       "      <td>255</td>\n",
       "      <td>82</td>\n",
       "      <td>AL</td>\n",
       "      <td>KCA</td>\n",
       "      <td>13</td>\n",
       "    </tr>\n",
       "    <tr>\n",
       "      <th>4936</th>\n",
       "      <td>2016</td>\n",
       "      <td>ZimmermannJordan</td>\n",
       "      <td>30</td>\n",
       "      <td>18000000</td>\n",
       "      <td>4.87</td>\n",
       "      <td>118</td>\n",
       "      <td>57</td>\n",
       "      <td>66</td>\n",
       "      <td>14</td>\n",
       "      <td>9</td>\n",
       "      <td>7</td>\n",
       "      <td>316</td>\n",
       "      <td>450</td>\n",
       "      <td>1</td>\n",
       "      <td>225</td>\n",
       "      <td>74</td>\n",
       "      <td>AL</td>\n",
       "      <td>DET</td>\n",
       "      <td>18</td>\n",
       "    </tr>\n",
       "  </tbody>\n",
       "</table>\n",
       "<p>4937 rows × 19 columns</p>\n",
       "</div>"
      ],
      "text/plain": [
       "      Year         Full Name  Age    Salary   ERA  Hits  Earned Runs  \\\n",
       "0     1990         AbbottJim   23    185000  4.51   246          106   \n",
       "1     1990        AbbottPaul   23    100000  5.97    37           23   \n",
       "2     1990       AldredScott   22    100000  3.77    13            6   \n",
       "3     1990     AndersonAllan   26    300000  4.53   214           95   \n",
       "4     1990       AppierKevin   23    100000  2.76   179           57   \n",
       "...    ...               ...  ...       ...   ...   ...          ...   \n",
       "4932  2016       WorleyVance   29   2600000  3.53    84           34   \n",
       "4933  2016        WrightMike   26    510500  5.79    81           48   \n",
       "4934  2016      WrightSteven   32    514500  3.33   138           58   \n",
       "4935  2016        YoungChris   37   4250000  6.19   104           61   \n",
       "4936  2016  ZimmermannJordan   30  18000000  4.87   118           57   \n",
       "\n",
       "      Strike Outs  Home Runs  Wins  Losses  Outs Pitched  \\\n",
       "0             105         16    10      14           635   \n",
       "1              25          0     0       5           104   \n",
       "2               7          0     1       2            43   \n",
       "3              82         20     7      18           566   \n",
       "4             127         13    12       8           557   \n",
       "...           ...        ...   ...     ...           ...   \n",
       "4932           56         11     2       2           260   \n",
       "4933           50         12     3       4           224   \n",
       "4934          127         12    13       6           470   \n",
       "4935           94         28     3       9           266   \n",
       "4936           66         14     9       7           316   \n",
       "\n",
       "      Batters Faced by Pitcher  Games Finished  Weight  Height League Team  \\\n",
       "0                          925               0     200      75     AL  CAL   \n",
       "1                          162               0     185      75     AL  MIN   \n",
       "2                           63               0     195      76     AL  DET   \n",
       "3                          797               0     178      71     AL  MIN   \n",
       "4                          784               1     180      74     AL  KCA   \n",
       "...                        ...             ...     ...     ...    ...  ...   \n",
       "4932                       365              13     240      74     AL  BAL   \n",
       "4933                       328               5     240      78     AL  BAL   \n",
       "4934                       656               0     215      74     AL  BOS   \n",
       "4935                       406               7     255      82     AL  KCA   \n",
       "4936                       450               1     225      74     AL  DET   \n",
       "\n",
       "      Games Started  \n",
       "0                33  \n",
       "1                 7  \n",
       "2                 3  \n",
       "3                31  \n",
       "4                24  \n",
       "...             ...  \n",
       "4932              4  \n",
       "4933             12  \n",
       "4934             24  \n",
       "4935             13  \n",
       "4936             18  \n",
       "\n",
       "[4937 rows x 19 columns]"
      ]
     },
     "execution_count": 39,
     "metadata": {},
     "output_type": "execute_result"
    }
   ],
   "source": [
    "# Import our dependencies\n",
    "from sklearn.model_selection import train_test_split\n",
    "from sklearn.preprocessing import StandardScaler,OneHotEncoder, MinMaxScaler\n",
    "import pandas as pd\n",
    "import tensorflow as tf\n",
    "import numpy as np\n",
    "import seaborn as sns\n",
    "import matplotlib.pyplot as plt\n",
    "\n",
    "# Import our input dataset\n",
    "df = pd.read_csv('../neural-network/pitcher_salaries_cleaned.csv')\n",
    "df"
   ]
  },
  {
   "cell_type": "code",
   "execution_count": 25,
   "id": "c8c2669b-1f34-4538-b0fa-37959b1b0e9c",
   "metadata": {},
   "outputs": [
    {
     "data": {
      "image/png": "[encoded data removed]",
      "text/plain": [
       "<Figure size 432x288 with 1 Axes>"
      ]
     },
     "metadata": {
      "needs_background": "light"
     },
     "output_type": "display_data"
    }
   ],
   "source": [
    "sns.boxplot(x=df['Salary'])\n",
    "plt.show()"
   ]
  },
  {
   "cell_type": "code",
   "execution_count": 27,
   "id": "63ac9d31-2413-4d2a-9305-ec25066a2e0b",
   "metadata": {},
   "outputs": [
    {
     "data": {
      "image/png": "[encoded data removed]",
      "text/plain": [
       "<Figure size 360x360 with 1 Axes>"
      ]
     },
     "metadata": {
      "needs_background": "light"
     },
     "output_type": "display_data"
    }
   ],
   "source": [
    "sns.displot(df['Salary'], bins=15, kde=False)\n",
    "plt.show()"
   ]
  },
  {
   "cell_type": "code",
   "execution_count": 24,
   "id": "9eb0d424-b969-4033-9d48-d662d0edbc10",
   "metadata": {},
   "outputs": [
    {
     "data": {
      "text/plain": [
       "count        4937\n",
       "mean      3011304\n",
       "std       4265619\n",
       "min        100000\n",
       "25%        327000\n",
       "50%        980000\n",
       "75%       4000000\n",
       "max      33000000\n",
       "Name: Salary, dtype: object"
      ]
     },
     "execution_count": 24,
     "metadata": {},
     "output_type": "execute_result"
    }
   ],
   "source": [
    "# look at distribution of salaries (suppressing scientific notation)\n",
    "df['Salary'].describe().apply(lambda x: format(x, '.0f'))"
   ]
  },
  {
   "cell_type": "code",
   "execution_count": 28,
   "id": "e502bdbb-23e5-4a16-b787-b4e9377a90b2",
   "metadata": {},
   "outputs": [
    {
     "data": {
      "text/plain": [
       "327000.0"
      ]
     },
     "execution_count": 28,
     "metadata": {},
     "output_type": "execute_result"
    }
   ],
   "source": [
    "df['Salary'].quantile(0.25)"
   ]
  },
  {
   "cell_type": "code",
   "execution_count": 29,
   "id": "4a869eaf-dcd0-494f-a6e6-0449dea635a5",
   "metadata": {},
   "outputs": [
    {
     "data": {
      "text/plain": [
       "4000000.0"
      ]
     },
     "execution_count": 29,
     "metadata": {},
     "output_type": "execute_result"
    }
   ],
   "source": [
    "df['Salary'].quantile(0.75)"
   ]
  },
  {
   "cell_type": "code",
   "execution_count": 30,
   "id": "adeb7dd0-a174-423c-99d6-d03145cc03f4",
   "metadata": {},
   "outputs": [
    {
     "data": {
      "text/plain": [
       "3673000.0"
      ]
     },
     "execution_count": 30,
     "metadata": {},
     "output_type": "execute_result"
    }
   ],
   "source": [
    "Q1=df['Salary'].quantile(0.25)\n",
    "Q3=df['Salary'].quantile(0.75)\n",
    "IQR=Q3-Q1\n",
    "IQR"
   ]
  },
  {
   "cell_type": "code",
   "execution_count": 31,
   "id": "91a7e426-b81d-4c3c-9ad9-63ba2abf6dc1",
   "metadata": {},
   "outputs": [],
   "source": [
    "lower_bound=Q1-1.5*IQR\n",
    "upper_bound=Q3+1.5*IQR"
   ]
  },
  {
   "cell_type": "code",
   "execution_count": 32,
   "id": "a2f0c24c-e8bf-40d3-851e-fb414af56236",
   "metadata": {},
   "outputs": [
    {
     "data": {
      "text/plain": [
       "-5182500.0"
      ]
     },
     "execution_count": 32,
     "metadata": {},
     "output_type": "execute_result"
    }
   ],
   "source": [
    "lower_bound"
   ]
  },
  {
   "cell_type": "code",
   "execution_count": 33,
   "id": "6ba59445-7ca6-41fd-a446-3c9ed5424206",
   "metadata": {},
   "outputs": [
    {
     "data": {
      "text/plain": [
       "9509500.0"
      ]
     },
     "execution_count": 33,
     "metadata": {},
     "output_type": "execute_result"
    }
   ],
   "source": [
    "upper_bound"
   ]
  },
  {
   "cell_type": "code",
   "execution_count": 38,
   "id": "0999c713-3f05-4765-bdde-34eaf05f0714",
   "metadata": {},
   "outputs": [
    {
     "data": {
      "text/html": [
       "<div>\n",
       "<style scoped>\n",
       "    .dataframe tbody tr th:only-of-type {\n",
       "        vertical-align: middle;\n",
       "    }\n",
       "\n",
       "    .dataframe tbody tr th {\n",
       "        vertical-align: top;\n",
       "    }\n",
       "\n",
       "    .dataframe thead th {\n",
       "        text-align: right;\n",
       "    }\n",
       "</style>\n",
       "<table border=\"1\" class=\"dataframe\">\n",
       "  <thead>\n",
       "    <tr style=\"text-align: right;\">\n",
       "      <th></th>\n",
       "      <th>Year</th>\n",
       "      <th>Full Name</th>\n",
       "      <th>Age</th>\n",
       "      <th>Salary</th>\n",
       "      <th>ERA</th>\n",
       "      <th>Hits</th>\n",
       "      <th>Earned Runs</th>\n",
       "      <th>Strike Outs</th>\n",
       "      <th>Home Runs</th>\n",
       "      <th>Wins</th>\n",
       "      <th>Losses</th>\n",
       "      <th>Outs Pitched</th>\n",
       "      <th>Batters Faced by Pitcher</th>\n",
       "      <th>Games Finished</th>\n",
       "      <th>Weight</th>\n",
       "      <th>Height</th>\n",
       "      <th>League</th>\n",
       "      <th>Team</th>\n",
       "      <th>Games Started</th>\n",
       "    </tr>\n",
       "  </thead>\n",
       "  <tbody>\n",
       "    <tr>\n",
       "      <th>0</th>\n",
       "      <td>1990</td>\n",
       "      <td>AbbottJim</td>\n",
       "      <td>23</td>\n",
       "      <td>185000</td>\n",
       "      <td>4.51</td>\n",
       "      <td>246</td>\n",
       "      <td>106</td>\n",
       "      <td>105</td>\n",
       "      <td>16</td>\n",
       "      <td>10</td>\n",
       "      <td>14</td>\n",
       "      <td>635</td>\n",
       "      <td>925</td>\n",
       "      <td>0</td>\n",
       "      <td>200</td>\n",
       "      <td>75</td>\n",
       "      <td>AL</td>\n",
       "      <td>CAL</td>\n",
       "      <td>33</td>\n",
       "    </tr>\n",
       "    <tr>\n",
       "      <th>1</th>\n",
       "      <td>1990</td>\n",
       "      <td>AbbottPaul</td>\n",
       "      <td>23</td>\n",
       "      <td>100000</td>\n",
       "      <td>5.97</td>\n",
       "      <td>37</td>\n",
       "      <td>23</td>\n",
       "      <td>25</td>\n",
       "      <td>0</td>\n",
       "      <td>0</td>\n",
       "      <td>5</td>\n",
       "      <td>104</td>\n",
       "      <td>162</td>\n",
       "      <td>0</td>\n",
       "      <td>185</td>\n",
       "      <td>75</td>\n",
       "      <td>AL</td>\n",
       "      <td>MIN</td>\n",
       "      <td>7</td>\n",
       "    </tr>\n",
       "    <tr>\n",
       "      <th>2</th>\n",
       "      <td>1990</td>\n",
       "      <td>AldredScott</td>\n",
       "      <td>22</td>\n",
       "      <td>100000</td>\n",
       "      <td>3.77</td>\n",
       "      <td>13</td>\n",
       "      <td>6</td>\n",
       "      <td>7</td>\n",
       "      <td>0</td>\n",
       "      <td>1</td>\n",
       "      <td>2</td>\n",
       "      <td>43</td>\n",
       "      <td>63</td>\n",
       "      <td>0</td>\n",
       "      <td>195</td>\n",
       "      <td>76</td>\n",
       "      <td>AL</td>\n",
       "      <td>DET</td>\n",
       "      <td>3</td>\n",
       "    </tr>\n",
       "    <tr>\n",
       "      <th>3</th>\n",
       "      <td>1990</td>\n",
       "      <td>AndersonAllan</td>\n",
       "      <td>26</td>\n",
       "      <td>300000</td>\n",
       "      <td>4.53</td>\n",
       "      <td>214</td>\n",
       "      <td>95</td>\n",
       "      <td>82</td>\n",
       "      <td>20</td>\n",
       "      <td>7</td>\n",
       "      <td>18</td>\n",
       "      <td>566</td>\n",
       "      <td>797</td>\n",
       "      <td>0</td>\n",
       "      <td>178</td>\n",
       "      <td>71</td>\n",
       "      <td>AL</td>\n",
       "      <td>MIN</td>\n",
       "      <td>31</td>\n",
       "    </tr>\n",
       "    <tr>\n",
       "      <th>4</th>\n",
       "      <td>1990</td>\n",
       "      <td>AppierKevin</td>\n",
       "      <td>23</td>\n",
       "      <td>100000</td>\n",
       "      <td>2.76</td>\n",
       "      <td>179</td>\n",
       "      <td>57</td>\n",
       "      <td>127</td>\n",
       "      <td>13</td>\n",
       "      <td>12</td>\n",
       "      <td>8</td>\n",
       "      <td>557</td>\n",
       "      <td>784</td>\n",
       "      <td>1</td>\n",
       "      <td>180</td>\n",
       "      <td>74</td>\n",
       "      <td>AL</td>\n",
       "      <td>KCA</td>\n",
       "      <td>24</td>\n",
       "    </tr>\n",
       "    <tr>\n",
       "      <th>...</th>\n",
       "      <td>...</td>\n",
       "      <td>...</td>\n",
       "      <td>...</td>\n",
       "      <td>...</td>\n",
       "      <td>...</td>\n",
       "      <td>...</td>\n",
       "      <td>...</td>\n",
       "      <td>...</td>\n",
       "      <td>...</td>\n",
       "      <td>...</td>\n",
       "      <td>...</td>\n",
       "      <td>...</td>\n",
       "      <td>...</td>\n",
       "      <td>...</td>\n",
       "      <td>...</td>\n",
       "      <td>...</td>\n",
       "      <td>...</td>\n",
       "      <td>...</td>\n",
       "      <td>...</td>\n",
       "    </tr>\n",
       "    <tr>\n",
       "      <th>4931</th>\n",
       "      <td>2016</td>\n",
       "      <td>WoodAlex</td>\n",
       "      <td>25</td>\n",
       "      <td>530000</td>\n",
       "      <td>3.73</td>\n",
       "      <td>56</td>\n",
       "      <td>25</td>\n",
       "      <td>66</td>\n",
       "      <td>5</td>\n",
       "      <td>1</td>\n",
       "      <td>4</td>\n",
       "      <td>181</td>\n",
       "      <td>255</td>\n",
       "      <td>0</td>\n",
       "      <td>215</td>\n",
       "      <td>76</td>\n",
       "      <td>NL</td>\n",
       "      <td>LAN</td>\n",
       "      <td>10</td>\n",
       "    </tr>\n",
       "    <tr>\n",
       "      <th>4932</th>\n",
       "      <td>2016</td>\n",
       "      <td>WorleyVance</td>\n",
       "      <td>29</td>\n",
       "      <td>2600000</td>\n",
       "      <td>3.53</td>\n",
       "      <td>84</td>\n",
       "      <td>34</td>\n",
       "      <td>56</td>\n",
       "      <td>11</td>\n",
       "      <td>2</td>\n",
       "      <td>2</td>\n",
       "      <td>260</td>\n",
       "      <td>365</td>\n",
       "      <td>13</td>\n",
       "      <td>240</td>\n",
       "      <td>74</td>\n",
       "      <td>AL</td>\n",
       "      <td>BAL</td>\n",
       "      <td>4</td>\n",
       "    </tr>\n",
       "    <tr>\n",
       "      <th>4933</th>\n",
       "      <td>2016</td>\n",
       "      <td>WrightMike</td>\n",
       "      <td>26</td>\n",
       "      <td>510500</td>\n",
       "      <td>5.79</td>\n",
       "      <td>81</td>\n",
       "      <td>48</td>\n",
       "      <td>50</td>\n",
       "      <td>12</td>\n",
       "      <td>3</td>\n",
       "      <td>4</td>\n",
       "      <td>224</td>\n",
       "      <td>328</td>\n",
       "      <td>5</td>\n",
       "      <td>240</td>\n",
       "      <td>78</td>\n",
       "      <td>AL</td>\n",
       "      <td>BAL</td>\n",
       "      <td>12</td>\n",
       "    </tr>\n",
       "    <tr>\n",
       "      <th>4934</th>\n",
       "      <td>2016</td>\n",
       "      <td>WrightSteven</td>\n",
       "      <td>32</td>\n",
       "      <td>514500</td>\n",
       "      <td>3.33</td>\n",
       "      <td>138</td>\n",
       "      <td>58</td>\n",
       "      <td>127</td>\n",
       "      <td>12</td>\n",
       "      <td>13</td>\n",
       "      <td>6</td>\n",
       "      <td>470</td>\n",
       "      <td>656</td>\n",
       "      <td>0</td>\n",
       "      <td>215</td>\n",
       "      <td>74</td>\n",
       "      <td>AL</td>\n",
       "      <td>BOS</td>\n",
       "      <td>24</td>\n",
       "    </tr>\n",
       "    <tr>\n",
       "      <th>4935</th>\n",
       "      <td>2016</td>\n",
       "      <td>YoungChris</td>\n",
       "      <td>37</td>\n",
       "      <td>4250000</td>\n",
       "      <td>6.19</td>\n",
       "      <td>104</td>\n",
       "      <td>61</td>\n",
       "      <td>94</td>\n",
       "      <td>28</td>\n",
       "      <td>3</td>\n",
       "      <td>9</td>\n",
       "      <td>266</td>\n",
       "      <td>406</td>\n",
       "      <td>7</td>\n",
       "      <td>255</td>\n",
       "      <td>82</td>\n",
       "      <td>AL</td>\n",
       "      <td>KCA</td>\n",
       "      <td>13</td>\n",
       "    </tr>\n",
       "  </tbody>\n",
       "</table>\n",
       "<p>4520 rows × 19 columns</p>\n",
       "</div>"
      ],
      "text/plain": [
       "      Year      Full Name  Age   Salary   ERA  Hits  Earned Runs  Strike Outs  \\\n",
       "0     1990      AbbottJim   23   185000  4.51   246          106          105   \n",
       "1     1990     AbbottPaul   23   100000  5.97    37           23           25   \n",
       "2     1990    AldredScott   22   100000  3.77    13            6            7   \n",
       "3     1990  AndersonAllan   26   300000  4.53   214           95           82   \n",
       "4     1990    AppierKevin   23   100000  2.76   179           57          127   \n",
       "...    ...            ...  ...      ...   ...   ...          ...          ...   \n",
       "4931  2016       WoodAlex   25   530000  3.73    56           25           66   \n",
       "4932  2016    WorleyVance   29  2600000  3.53    84           34           56   \n",
       "4933  2016     WrightMike   26   510500  5.79    81           48           50   \n",
       "4934  2016   WrightSteven   32   514500  3.33   138           58          127   \n",
       "4935  2016     YoungChris   37  4250000  6.19   104           61           94   \n",
       "\n",
       "      Home Runs  Wins  Losses  Outs Pitched  Batters Faced by Pitcher  \\\n",
       "0            16    10      14           635                       925   \n",
       "1             0     0       5           104                       162   \n",
       "2             0     1       2            43                        63   \n",
       "3            20     7      18           566                       797   \n",
       "4            13    12       8           557                       784   \n",
       "...         ...   ...     ...           ...                       ...   \n",
       "4931          5     1       4           181                       255   \n",
       "4932         11     2       2           260                       365   \n",
       "4933         12     3       4           224                       328   \n",
       "4934         12    13       6           470                       656   \n",
       "4935         28     3       9           266                       406   \n",
       "\n",
       "      Games Finished  Weight  Height League Team  Games Started  \n",
       "0                  0     200      75     AL  CAL             33  \n",
       "1                  0     185      75     AL  MIN              7  \n",
       "2                  0     195      76     AL  DET              3  \n",
       "3                  0     178      71     AL  MIN             31  \n",
       "4                  1     180      74     AL  KCA             24  \n",
       "...              ...     ...     ...    ...  ...            ...  \n",
       "4931               0     215      76     NL  LAN             10  \n",
       "4932              13     240      74     AL  BAL              4  \n",
       "4933               5     240      78     AL  BAL             12  \n",
       "4934               0     215      74     AL  BOS             24  \n",
       "4935               7     255      82     AL  KCA             13  \n",
       "\n",
       "[4520 rows x 19 columns]"
      ]
     },
     "execution_count": 38,
     "metadata": {},
     "output_type": "execute_result"
    }
   ],
   "source": [
    "# filter salaries to remove outliers\n",
    "df2 = df[(df.Salary<upper_bound)]\n",
    "df2"
   ]
  },
  {
   "cell_type": "code",
   "execution_count": 40,
   "id": "285b7b1e-41db-461b-9bd9-102bbbe2dd7e",
   "metadata": {},
   "outputs": [],
   "source": [
    "# export csv\n",
    "df2.to_csv('outliers_removed.csv', index=False)"
   ]
  },
  {
   "cell_type": "code",
   "execution_count": 48,
   "id": "fb160fc6-2126-4175-99d5-4020c876bb38",
   "metadata": {},
   "outputs": [
    {
     "data": {
      "text/plain": [
       "False    4937\n",
       "Name: ERA, dtype: int64"
      ]
     },
     "execution_count": 48,
     "metadata": {},
     "output_type": "execute_result"
    }
   ],
   "source": [
    "null_ERA = df['ERA'] <=0.01\n",
    "null_ERA.value_counts()"
   ]
  },
  {
   "cell_type": "code",
   "execution_count": 49,
   "id": "a5c27daf-15b9-41a3-a6a1-07d6263653a6",
   "metadata": {},
   "outputs": [
    {
     "data": {
      "text/plain": [
       "True    4937\n",
       "Name: ERA, dtype: int64"
      ]
     },
     "execution_count": 49,
     "metadata": {},
     "output_type": "execute_result"
    }
   ],
   "source": [
    "nonNull_ERA = df['ERA'] >=0.01\n",
    "nonNull_ERA.value_counts()"
   ]
  },
  {
   "cell_type": "markdown",
   "id": "a764e4a0-3563-4e23-9417-9455f7e881d6",
   "metadata": {},
   "source": [
    "### Look at BFP stats"
   ]
  },
  {
   "cell_type": "code",
   "execution_count": 60,
   "id": "ab629177-258e-48ba-b6de-8817691359f7",
   "metadata": {},
   "outputs": [
    {
     "data": {
      "image/png": "[encoded data removed]",
      "text/plain": [
       "<Figure size 432x288 with 1 Axes>"
      ]
     },
     "metadata": {
      "needs_background": "light"
     },
     "output_type": "display_data"
    }
   ],
   "source": [
    "sns.boxplot(x=df2['Batters Faced by Pitcher'])\n",
    "plt.show()"
   ]
  },
  {
   "cell_type": "code",
   "execution_count": 61,
   "id": "a8936d27-f7a3-431e-acbd-16e92b4e78f7",
   "metadata": {},
   "outputs": [
    {
     "data": {
      "image/png": "[encoded data removed]",
      "text/plain": [
       "<Figure size 360x360 with 1 Axes>"
      ]
     },
     "metadata": {
      "needs_background": "light"
     },
     "output_type": "display_data"
    }
   ],
   "source": [
    "sns.displot(df2['Batters Faced by Pitcher'], bins=15, kde=False)\n",
    "plt.show()"
   ]
  },
  {
   "cell_type": "code",
   "execution_count": 62,
   "id": "a8e2a335-5e90-4556-aa32-7eb5c2246e25",
   "metadata": {},
   "outputs": [
    {
     "data": {
      "text/plain": [
       "count    4520\n",
       "mean      573\n",
       "std       263\n",
       "min        45\n",
       "25%       356\n",
       "50%       591\n",
       "75%       808\n",
       "max      1108\n",
       "Name: Batters Faced by Pitcher, dtype: object"
      ]
     },
     "execution_count": 62,
     "metadata": {},
     "output_type": "execute_result"
    }
   ],
   "source": [
    "# look at distribution of salaries (suppressing scientific notation)\n",
    "df2['Batters Faced by Pitcher'].describe().apply(lambda x: format(x, '.0f'))"
   ]
  },
  {
   "cell_type": "code",
   "execution_count": 63,
   "id": "086320b7-4278-4ca5-b6c5-93dc7904084e",
   "metadata": {},
   "outputs": [
    {
     "data": {
      "text/plain": [
       "452.0"
      ]
     },
     "execution_count": 63,
     "metadata": {},
     "output_type": "execute_result"
    }
   ],
   "source": [
    "Q1_bfp=df2['Batters Faced by Pitcher'].quantile(0.25)\n",
    "Q3_bfp=df2['Batters Faced by Pitcher'].quantile(0.75)\n",
    "IQR_bfp=Q3_bfp-Q1_bfp\n",
    "IQR_bfp"
   ]
  },
  {
   "cell_type": "code",
   "execution_count": 64,
   "id": "3c9f34da-1f65-4f50-a2b5-0a35a453424e",
   "metadata": {},
   "outputs": [],
   "source": [
    "lower_bound_bfp=Q1_bfp-1.5*IQR_bfp\n",
    "upper_bound_bfp=Q3_bfp+1.5*IQR_bfp"
   ]
  },
  {
   "cell_type": "code",
   "execution_count": 65,
   "id": "f86cda86-1150-4dad-a9f3-11506c29f595",
   "metadata": {},
   "outputs": [
    {
     "data": {
      "text/plain": [
       "-322.0"
      ]
     },
     "execution_count": 65,
     "metadata": {},
     "output_type": "execute_result"
    }
   ],
   "source": [
    "lower_bound_bfp"
   ]
  },
  {
   "cell_type": "code",
   "execution_count": 66,
   "id": "b2f2b7bf-ef30-488d-8717-f07f9f400d45",
   "metadata": {},
   "outputs": [
    {
     "data": {
      "text/plain": [
       "1486.0"
      ]
     },
     "execution_count": 66,
     "metadata": {},
     "output_type": "execute_result"
    }
   ],
   "source": [
    "upper_bound_bfp"
   ]
  },
  {
   "cell_type": "markdown",
   "id": "5619cd7e-2172-4892-adc2-aed98fc0f238",
   "metadata": {},
   "source": [
    "lower and upper bounds are outside range of actual datapoints, no true outliers to be removed for BFP"
   ]
  },
  {
   "cell_type": "markdown",
   "id": "252fa068-d8ac-4339-a530-75b6e03981d6",
   "metadata": {},
   "source": [
    "### Outs pitched\n",
    "---"
   ]
  },
  {
   "cell_type": "code",
   "execution_count": 68,
   "id": "fd01a2fa-6006-4376-8692-7511011a7cf0",
   "metadata": {},
   "outputs": [
    {
     "data": {
      "image/png": "[encoded data removed]",
      "text/plain": [
       "<Figure size 432x288 with 1 Axes>"
      ]
     },
     "metadata": {
      "needs_background": "light"
     },
     "output_type": "display_data"
    }
   ],
   "source": [
    "sns.boxplot(x=df2['Outs Pitched'])\n",
    "plt.show()"
   ]
  },
  {
   "cell_type": "code",
   "execution_count": 69,
   "id": "c0b3a84a-1013-41e4-a859-66bf651c2a86",
   "metadata": {},
   "outputs": [
    {
     "data": {
      "image/png": "[encoded data removed]",
      "text/plain": [
       "<Figure size 360x360 with 1 Axes>"
      ]
     },
     "metadata": {
      "needs_background": "light"
     },
     "output_type": "display_data"
    }
   ],
   "source": [
    "sns.displot(df2['Outs Pitched'], bins=15, kde=False)\n",
    "plt.show()"
   ]
  },
  {
   "cell_type": "code",
   "execution_count": 70,
   "id": "b13853e5-8234-4e5d-b177-9487d0194f74",
   "metadata": {},
   "outputs": [
    {
     "data": {
      "text/plain": [
       "count    4520\n",
       "mean      400\n",
       "std       191\n",
       "min        21\n",
       "25%       242\n",
       "50%       407\n",
       "75%       570\n",
       "max       814\n",
       "Name: Outs Pitched, dtype: object"
      ]
     },
     "execution_count": 70,
     "metadata": {},
     "output_type": "execute_result"
    }
   ],
   "source": [
    "# look at distribution of outs pitched (suppressing scientific notation)\n",
    "df2['Outs Pitched'].describe().apply(lambda x: format(x, '.0f'))"
   ]
  },
  {
   "cell_type": "code",
   "execution_count": 71,
   "id": "a4348be3-13e9-43d6-960d-5877915bb60b",
   "metadata": {},
   "outputs": [
    {
     "data": {
      "text/plain": [
       "328.0"
      ]
     },
     "execution_count": 71,
     "metadata": {},
     "output_type": "execute_result"
    }
   ],
   "source": [
    "Q1_op=df2['Outs Pitched'].quantile(0.25)\n",
    "Q3_op=df2['Outs Pitched'].quantile(0.75)\n",
    "IQR_op=Q3_op-Q1_op\n",
    "IQR_op"
   ]
  },
  {
   "cell_type": "code",
   "execution_count": 72,
   "id": "624cb9ef-490f-471b-ab64-2f06d900dd62",
   "metadata": {},
   "outputs": [],
   "source": [
    "lower_bound_op=Q1_op-1.5*IQR_op\n",
    "upper_bound_op=Q3_op+1.5*IQR_op"
   ]
  },
  {
   "cell_type": "code",
   "execution_count": 73,
   "id": "a7b89398-457e-4d70-b1ac-43038402dc54",
   "metadata": {},
   "outputs": [
    {
     "data": {
      "text/plain": [
       "-250.0"
      ]
     },
     "execution_count": 73,
     "metadata": {},
     "output_type": "execute_result"
    }
   ],
   "source": [
    "lower_bound_op"
   ]
  },
  {
   "cell_type": "code",
   "execution_count": 74,
   "id": "3241e93a-760c-4c79-9a51-cd73505522e1",
   "metadata": {},
   "outputs": [
    {
     "data": {
      "text/plain": [
       "1062.0"
      ]
     },
     "execution_count": 74,
     "metadata": {},
     "output_type": "execute_result"
    }
   ],
   "source": [
    "upper_bound_op"
   ]
  },
  {
   "cell_type": "markdown",
   "id": "3105ee7b-6188-4920-9490-1d190ca4b0f6",
   "metadata": {},
   "source": [
    "#### no true outliers to remove for Outs Pitched"
   ]
  },
  {
   "cell_type": "markdown",
   "id": "84352869-c37e-4b8c-94f0-5ae8206ece9f",
   "metadata": {},
   "source": [
    "### ERA\n",
    "---"
   ]
  },
  {
   "cell_type": "code",
   "execution_count": 75,
   "id": "6affc4a4-61f9-4799-8592-4e42813c7f41",
   "metadata": {},
   "outputs": [
    {
     "data": {
      "image/png": "[encoded data removed]",
      "text/plain": [
       "<Figure size 432x288 with 1 Axes>"
      ]
     },
     "metadata": {
      "needs_background": "light"
     },
     "output_type": "display_data"
    }
   ],
   "source": [
    "sns.boxplot(x=df2['ERA'])\n",
    "plt.show()"
   ]
  },
  {
   "cell_type": "code",
   "execution_count": 76,
   "id": "d6d87fdb-a290-43f6-b2bc-37fe52659616",
   "metadata": {},
   "outputs": [
    {
     "data": {
      "image/png": "[encoded data removed]",
      "text/plain": [
       "<Figure size 360x360 with 1 Axes>"
      ]
     },
     "metadata": {
      "needs_background": "light"
     },
     "output_type": "display_data"
    }
   ],
   "source": [
    "sns.displot(df2['ERA'], bins=15, kde=False)\n",
    "plt.show()"
   ]
  },
  {
   "cell_type": "code",
   "execution_count": 77,
   "id": "659b88a8-c31e-44f3-9ccb-f87d139ce83c",
   "metadata": {},
   "outputs": [
    {
     "data": {
      "text/plain": [
       "count    4520\n",
       "mean        5\n",
       "std         1\n",
       "min         1\n",
       "25%         4\n",
       "50%         4\n",
       "75%         5\n",
       "max        16\n",
       "Name: ERA, dtype: object"
      ]
     },
     "execution_count": 77,
     "metadata": {},
     "output_type": "execute_result"
    }
   ],
   "source": [
    "# look at distribution of outs pitched (suppressing scientific notation)\n",
    "df2['ERA'].describe().apply(lambda x: format(x, '.0f'))"
   ]
  },
  {
   "cell_type": "code",
   "execution_count": 79,
   "id": "b4e77a78-56f6-4549-88fc-b9d71889d71c",
   "metadata": {},
   "outputs": [
    {
     "data": {
      "text/plain": [
       "1.6425"
      ]
     },
     "execution_count": 79,
     "metadata": {},
     "output_type": "execute_result"
    }
   ],
   "source": [
    "Q1_ERA=df2['ERA'].quantile(0.25)\n",
    "Q3_ERA=df2['ERA'].quantile(0.75)\n",
    "IQR_ERA=Q3_ERA-Q1_ERA\n",
    "IQR_ERA"
   ]
  },
  {
   "cell_type": "code",
   "execution_count": 80,
   "id": "23deb9bb-586e-4b60-a544-cadc32acc946",
   "metadata": {},
   "outputs": [],
   "source": [
    "lower_bound_ERA=Q1_ERA-1.5*IQR_ERA\n",
    "upper_bound_ERA=Q3_ERA+1.5*IQR_ERA"
   ]
  },
  {
   "cell_type": "code",
   "execution_count": 81,
   "id": "910f68d9-07f7-4252-9826-95975a17d08d",
   "metadata": {},
   "outputs": [
    {
     "data": {
      "text/plain": [
       "1.2462499999999999"
      ]
     },
     "execution_count": 81,
     "metadata": {},
     "output_type": "execute_result"
    }
   ],
   "source": [
    "lower_bound_ERA"
   ]
  },
  {
   "cell_type": "code",
   "execution_count": 82,
   "id": "dc083bba-a537-4462-8331-cd675c245912",
   "metadata": {},
   "outputs": [
    {
     "data": {
      "text/plain": [
       "7.81625"
      ]
     },
     "execution_count": 82,
     "metadata": {},
     "output_type": "execute_result"
    }
   ],
   "source": [
    "upper_bound_ERA"
   ]
  },
  {
   "cell_type": "code",
   "execution_count": 83,
   "id": "ac7a2226-3466-4c52-bae2-cb8fcc2428cb",
   "metadata": {},
   "outputs": [
    {
     "data": {
      "text/html": [
       "<div>\n",
       "<style scoped>\n",
       "    .dataframe tbody tr th:only-of-type {\n",
       "        vertical-align: middle;\n",
       "    }\n",
       "\n",
       "    .dataframe tbody tr th {\n",
       "        vertical-align: top;\n",
       "    }\n",
       "\n",
       "    .dataframe thead th {\n",
       "        text-align: right;\n",
       "    }\n",
       "</style>\n",
       "<table border=\"1\" class=\"dataframe\">\n",
       "  <thead>\n",
       "    <tr style=\"text-align: right;\">\n",
       "      <th></th>\n",
       "      <th>Year</th>\n",
       "      <th>Full Name</th>\n",
       "      <th>Age</th>\n",
       "      <th>Salary</th>\n",
       "      <th>ERA</th>\n",
       "      <th>Hits</th>\n",
       "      <th>Earned Runs</th>\n",
       "      <th>Strike Outs</th>\n",
       "      <th>Home Runs</th>\n",
       "      <th>Wins</th>\n",
       "      <th>Losses</th>\n",
       "      <th>Outs Pitched</th>\n",
       "      <th>Batters Faced by Pitcher</th>\n",
       "      <th>Games Finished</th>\n",
       "      <th>Weight</th>\n",
       "      <th>Height</th>\n",
       "      <th>League</th>\n",
       "      <th>Team</th>\n",
       "      <th>Games Started</th>\n",
       "    </tr>\n",
       "  </thead>\n",
       "  <tbody>\n",
       "    <tr>\n",
       "      <th>0</th>\n",
       "      <td>1990</td>\n",
       "      <td>AbbottJim</td>\n",
       "      <td>23</td>\n",
       "      <td>185000</td>\n",
       "      <td>4.51</td>\n",
       "      <td>246</td>\n",
       "      <td>106</td>\n",
       "      <td>105</td>\n",
       "      <td>16</td>\n",
       "      <td>10</td>\n",
       "      <td>14</td>\n",
       "      <td>635</td>\n",
       "      <td>925</td>\n",
       "      <td>0</td>\n",
       "      <td>200</td>\n",
       "      <td>75</td>\n",
       "      <td>AL</td>\n",
       "      <td>CAL</td>\n",
       "      <td>33</td>\n",
       "    </tr>\n",
       "    <tr>\n",
       "      <th>1</th>\n",
       "      <td>1990</td>\n",
       "      <td>AbbottPaul</td>\n",
       "      <td>23</td>\n",
       "      <td>100000</td>\n",
       "      <td>5.97</td>\n",
       "      <td>37</td>\n",
       "      <td>23</td>\n",
       "      <td>25</td>\n",
       "      <td>0</td>\n",
       "      <td>0</td>\n",
       "      <td>5</td>\n",
       "      <td>104</td>\n",
       "      <td>162</td>\n",
       "      <td>0</td>\n",
       "      <td>185</td>\n",
       "      <td>75</td>\n",
       "      <td>AL</td>\n",
       "      <td>MIN</td>\n",
       "      <td>7</td>\n",
       "    </tr>\n",
       "    <tr>\n",
       "      <th>2</th>\n",
       "      <td>1990</td>\n",
       "      <td>AldredScott</td>\n",
       "      <td>22</td>\n",
       "      <td>100000</td>\n",
       "      <td>3.77</td>\n",
       "      <td>13</td>\n",
       "      <td>6</td>\n",
       "      <td>7</td>\n",
       "      <td>0</td>\n",
       "      <td>1</td>\n",
       "      <td>2</td>\n",
       "      <td>43</td>\n",
       "      <td>63</td>\n",
       "      <td>0</td>\n",
       "      <td>195</td>\n",
       "      <td>76</td>\n",
       "      <td>AL</td>\n",
       "      <td>DET</td>\n",
       "      <td>3</td>\n",
       "    </tr>\n",
       "    <tr>\n",
       "      <th>3</th>\n",
       "      <td>1990</td>\n",
       "      <td>AndersonAllan</td>\n",
       "      <td>26</td>\n",
       "      <td>300000</td>\n",
       "      <td>4.53</td>\n",
       "      <td>214</td>\n",
       "      <td>95</td>\n",
       "      <td>82</td>\n",
       "      <td>20</td>\n",
       "      <td>7</td>\n",
       "      <td>18</td>\n",
       "      <td>566</td>\n",
       "      <td>797</td>\n",
       "      <td>0</td>\n",
       "      <td>178</td>\n",
       "      <td>71</td>\n",
       "      <td>AL</td>\n",
       "      <td>MIN</td>\n",
       "      <td>31</td>\n",
       "    </tr>\n",
       "    <tr>\n",
       "      <th>4</th>\n",
       "      <td>1990</td>\n",
       "      <td>AppierKevin</td>\n",
       "      <td>23</td>\n",
       "      <td>100000</td>\n",
       "      <td>2.76</td>\n",
       "      <td>179</td>\n",
       "      <td>57</td>\n",
       "      <td>127</td>\n",
       "      <td>13</td>\n",
       "      <td>12</td>\n",
       "      <td>8</td>\n",
       "      <td>557</td>\n",
       "      <td>784</td>\n",
       "      <td>1</td>\n",
       "      <td>180</td>\n",
       "      <td>74</td>\n",
       "      <td>AL</td>\n",
       "      <td>KCA</td>\n",
       "      <td>24</td>\n",
       "    </tr>\n",
       "    <tr>\n",
       "      <th>...</th>\n",
       "      <td>...</td>\n",
       "      <td>...</td>\n",
       "      <td>...</td>\n",
       "      <td>...</td>\n",
       "      <td>...</td>\n",
       "      <td>...</td>\n",
       "      <td>...</td>\n",
       "      <td>...</td>\n",
       "      <td>...</td>\n",
       "      <td>...</td>\n",
       "      <td>...</td>\n",
       "      <td>...</td>\n",
       "      <td>...</td>\n",
       "      <td>...</td>\n",
       "      <td>...</td>\n",
       "      <td>...</td>\n",
       "      <td>...</td>\n",
       "      <td>...</td>\n",
       "      <td>...</td>\n",
       "    </tr>\n",
       "    <tr>\n",
       "      <th>4931</th>\n",
       "      <td>2016</td>\n",
       "      <td>WoodAlex</td>\n",
       "      <td>25</td>\n",
       "      <td>530000</td>\n",
       "      <td>3.73</td>\n",
       "      <td>56</td>\n",
       "      <td>25</td>\n",
       "      <td>66</td>\n",
       "      <td>5</td>\n",
       "      <td>1</td>\n",
       "      <td>4</td>\n",
       "      <td>181</td>\n",
       "      <td>255</td>\n",
       "      <td>0</td>\n",
       "      <td>215</td>\n",
       "      <td>76</td>\n",
       "      <td>NL</td>\n",
       "      <td>LAN</td>\n",
       "      <td>10</td>\n",
       "    </tr>\n",
       "    <tr>\n",
       "      <th>4932</th>\n",
       "      <td>2016</td>\n",
       "      <td>WorleyVance</td>\n",
       "      <td>29</td>\n",
       "      <td>2600000</td>\n",
       "      <td>3.53</td>\n",
       "      <td>84</td>\n",
       "      <td>34</td>\n",
       "      <td>56</td>\n",
       "      <td>11</td>\n",
       "      <td>2</td>\n",
       "      <td>2</td>\n",
       "      <td>260</td>\n",
       "      <td>365</td>\n",
       "      <td>13</td>\n",
       "      <td>240</td>\n",
       "      <td>74</td>\n",
       "      <td>AL</td>\n",
       "      <td>BAL</td>\n",
       "      <td>4</td>\n",
       "    </tr>\n",
       "    <tr>\n",
       "      <th>4933</th>\n",
       "      <td>2016</td>\n",
       "      <td>WrightMike</td>\n",
       "      <td>26</td>\n",
       "      <td>510500</td>\n",
       "      <td>5.79</td>\n",
       "      <td>81</td>\n",
       "      <td>48</td>\n",
       "      <td>50</td>\n",
       "      <td>12</td>\n",
       "      <td>3</td>\n",
       "      <td>4</td>\n",
       "      <td>224</td>\n",
       "      <td>328</td>\n",
       "      <td>5</td>\n",
       "      <td>240</td>\n",
       "      <td>78</td>\n",
       "      <td>AL</td>\n",
       "      <td>BAL</td>\n",
       "      <td>12</td>\n",
       "    </tr>\n",
       "    <tr>\n",
       "      <th>4934</th>\n",
       "      <td>2016</td>\n",
       "      <td>WrightSteven</td>\n",
       "      <td>32</td>\n",
       "      <td>514500</td>\n",
       "      <td>3.33</td>\n",
       "      <td>138</td>\n",
       "      <td>58</td>\n",
       "      <td>127</td>\n",
       "      <td>12</td>\n",
       "      <td>13</td>\n",
       "      <td>6</td>\n",
       "      <td>470</td>\n",
       "      <td>656</td>\n",
       "      <td>0</td>\n",
       "      <td>215</td>\n",
       "      <td>74</td>\n",
       "      <td>AL</td>\n",
       "      <td>BOS</td>\n",
       "      <td>24</td>\n",
       "    </tr>\n",
       "    <tr>\n",
       "      <th>4935</th>\n",
       "      <td>2016</td>\n",
       "      <td>YoungChris</td>\n",
       "      <td>37</td>\n",
       "      <td>4250000</td>\n",
       "      <td>6.19</td>\n",
       "      <td>104</td>\n",
       "      <td>61</td>\n",
       "      <td>94</td>\n",
       "      <td>28</td>\n",
       "      <td>3</td>\n",
       "      <td>9</td>\n",
       "      <td>266</td>\n",
       "      <td>406</td>\n",
       "      <td>7</td>\n",
       "      <td>255</td>\n",
       "      <td>82</td>\n",
       "      <td>AL</td>\n",
       "      <td>KCA</td>\n",
       "      <td>13</td>\n",
       "    </tr>\n",
       "  </tbody>\n",
       "</table>\n",
       "<p>4374 rows × 19 columns</p>\n",
       "</div>"
      ],
      "text/plain": [
       "      Year      Full Name  Age   Salary   ERA  Hits  Earned Runs  Strike Outs  \\\n",
       "0     1990      AbbottJim   23   185000  4.51   246          106          105   \n",
       "1     1990     AbbottPaul   23   100000  5.97    37           23           25   \n",
       "2     1990    AldredScott   22   100000  3.77    13            6            7   \n",
       "3     1990  AndersonAllan   26   300000  4.53   214           95           82   \n",
       "4     1990    AppierKevin   23   100000  2.76   179           57          127   \n",
       "...    ...            ...  ...      ...   ...   ...          ...          ...   \n",
       "4931  2016       WoodAlex   25   530000  3.73    56           25           66   \n",
       "4932  2016    WorleyVance   29  2600000  3.53    84           34           56   \n",
       "4933  2016     WrightMike   26   510500  5.79    81           48           50   \n",
       "4934  2016   WrightSteven   32   514500  3.33   138           58          127   \n",
       "4935  2016     YoungChris   37  4250000  6.19   104           61           94   \n",
       "\n",
       "      Home Runs  Wins  Losses  Outs Pitched  Batters Faced by Pitcher  \\\n",
       "0            16    10      14           635                       925   \n",
       "1             0     0       5           104                       162   \n",
       "2             0     1       2            43                        63   \n",
       "3            20     7      18           566                       797   \n",
       "4            13    12       8           557                       784   \n",
       "...         ...   ...     ...           ...                       ...   \n",
       "4931          5     1       4           181                       255   \n",
       "4932         11     2       2           260                       365   \n",
       "4933         12     3       4           224                       328   \n",
       "4934         12    13       6           470                       656   \n",
       "4935         28     3       9           266                       406   \n",
       "\n",
       "      Games Finished  Weight  Height League Team  Games Started  \n",
       "0                  0     200      75     AL  CAL             33  \n",
       "1                  0     185      75     AL  MIN              7  \n",
       "2                  0     195      76     AL  DET              3  \n",
       "3                  0     178      71     AL  MIN             31  \n",
       "4                  1     180      74     AL  KCA             24  \n",
       "...              ...     ...     ...    ...  ...            ...  \n",
       "4931               0     215      76     NL  LAN             10  \n",
       "4932              13     240      74     AL  BAL              4  \n",
       "4933               5     240      78     AL  BAL             12  \n",
       "4934               0     215      74     AL  BOS             24  \n",
       "4935               7     255      82     AL  KCA             13  \n",
       "\n",
       "[4374 rows x 19 columns]"
      ]
     },
     "execution_count": 83,
     "metadata": {},
     "output_type": "execute_result"
    }
   ],
   "source": [
    "# filter salaries to remove outliers\n",
    "df3 = df2[(df2.ERA<upper_bound_ERA)]\n",
    "df3"
   ]
  },
  {
   "cell_type": "code",
   "execution_count": 85,
   "id": "661af3ce-5412-4ff0-92a0-3b9f98376898",
   "metadata": {},
   "outputs": [],
   "source": [
    "df3.to_csv('outliers_removed_sal-ERA.csv', index=False)"
   ]
  },
  {
   "cell_type": "markdown",
   "id": "3af438c3-b59a-4343-958b-5a7146069757",
   "metadata": {},
   "source": [
    "### Strike Outs\n",
    "---"
   ]
  },
  {
   "cell_type": "code",
   "execution_count": 86,
   "id": "6b193b20-a689-40e8-a302-2f240f344caa",
   "metadata": {},
   "outputs": [
    {
     "data": {
      "image/png": "[encoded data removed]",
      "text/plain": [
       "<Figure size 432x288 with 1 Axes>"
      ]
     },
     "metadata": {
      "needs_background": "light"
     },
     "output_type": "display_data"
    }
   ],
   "source": [
    "sns.boxplot(x=df3['Strike Outs'])\n",
    "plt.show()"
   ]
  },
  {
   "cell_type": "code",
   "execution_count": 87,
   "id": "aabb5544-d991-48e1-a8c2-19d045da7b59",
   "metadata": {},
   "outputs": [
    {
     "data": {
      "image/png": "[encoded data removed]",
      "text/plain": [
       "<Figure size 360x360 with 1 Axes>"
      ]
     },
     "metadata": {
      "needs_background": "light"
     },
     "output_type": "display_data"
    }
   ],
   "source": [
    "sns.displot(df3['Strike Outs'], bins=15, kde=False)\n",
    "plt.show()"
   ]
  },
  {
   "cell_type": "code",
   "execution_count": 89,
   "id": "aa0d2da2-b888-45f0-8d20-09a8aa7ff9ce",
   "metadata": {},
   "outputs": [
    {
     "data": {
      "text/plain": [
       "count    4374\n",
       "mean       96\n",
       "std        54\n",
       "min         2\n",
       "25%        54\n",
       "50%        90\n",
       "75%       132\n",
       "max       319\n",
       "Name: Strike Outs, dtype: object"
      ]
     },
     "execution_count": 89,
     "metadata": {},
     "output_type": "execute_result"
    }
   ],
   "source": [
    "# look at distribution of outs pitched (suppressing scientific notation)\n",
    "df3['Strike Outs'].describe().apply(lambda x: format(x, '.0f'))"
   ]
  },
  {
   "cell_type": "code",
   "execution_count": 90,
   "id": "1aaed69e-ca74-4600-98a8-f1436502757f",
   "metadata": {},
   "outputs": [
    {
     "data": {
      "text/plain": [
       "78.0"
      ]
     },
     "execution_count": 90,
     "metadata": {},
     "output_type": "execute_result"
    }
   ],
   "source": [
    "Q1_SO=df3['Strike Outs'].quantile(0.25)\n",
    "Q3_SO=df3['Strike Outs'].quantile(0.75)\n",
    "IQR_SO=Q3_SO-Q1_SO\n",
    "IQR_SO"
   ]
  },
  {
   "cell_type": "code",
   "execution_count": 91,
   "id": "6287d60a-dddb-47b4-9e48-6c90bc7d8492",
   "metadata": {},
   "outputs": [],
   "source": [
    "lower_bound_SO=Q1_SO-1.5*IQR_SO\n",
    "upper_bound_SO=Q3_SO+1.5*IQR_SO"
   ]
  },
  {
   "cell_type": "code",
   "execution_count": 92,
   "id": "2803c6ef-88e4-4378-aaef-f896e1f3f0fb",
   "metadata": {},
   "outputs": [
    {
     "data": {
      "text/plain": [
       "-63.0"
      ]
     },
     "execution_count": 92,
     "metadata": {},
     "output_type": "execute_result"
    }
   ],
   "source": [
    "lower_bound_SO"
   ]
  },
  {
   "cell_type": "code",
   "execution_count": 93,
   "id": "f3bdfd43-8183-42f3-812f-c70c104d5367",
   "metadata": {},
   "outputs": [
    {
     "data": {
      "text/plain": [
       "249.0"
      ]
     },
     "execution_count": 93,
     "metadata": {},
     "output_type": "execute_result"
    }
   ],
   "source": [
    "upper_bound_SO"
   ]
  },
  {
   "cell_type": "code",
   "execution_count": 98,
   "id": "c403ffc7-2a33-4528-b20e-a50fb4317a7a",
   "metadata": {},
   "outputs": [
    {
     "data": {
      "text/html": [
       "<div>\n",
       "<style scoped>\n",
       "    .dataframe tbody tr th:only-of-type {\n",
       "        vertical-align: middle;\n",
       "    }\n",
       "\n",
       "    .dataframe tbody tr th {\n",
       "        vertical-align: top;\n",
       "    }\n",
       "\n",
       "    .dataframe thead th {\n",
       "        text-align: right;\n",
       "    }\n",
       "</style>\n",
       "<table border=\"1\" class=\"dataframe\">\n",
       "  <thead>\n",
       "    <tr style=\"text-align: right;\">\n",
       "      <th></th>\n",
       "      <th>Year</th>\n",
       "      <th>Full Name</th>\n",
       "      <th>Age</th>\n",
       "      <th>Salary</th>\n",
       "      <th>ERA</th>\n",
       "      <th>Hits</th>\n",
       "      <th>Earned Runs</th>\n",
       "      <th>Strike Outs</th>\n",
       "      <th>Home Runs</th>\n",
       "      <th>Wins</th>\n",
       "      <th>Losses</th>\n",
       "      <th>Outs Pitched</th>\n",
       "      <th>Batters Faced by Pitcher</th>\n",
       "      <th>Games Finished</th>\n",
       "      <th>Weight</th>\n",
       "      <th>Height</th>\n",
       "      <th>League</th>\n",
       "      <th>Team</th>\n",
       "      <th>Games Started</th>\n",
       "    </tr>\n",
       "  </thead>\n",
       "  <tbody>\n",
       "    <tr>\n",
       "      <th>0</th>\n",
       "      <td>1990</td>\n",
       "      <td>AbbottJim</td>\n",
       "      <td>23</td>\n",
       "      <td>185000</td>\n",
       "      <td>4.51</td>\n",
       "      <td>246</td>\n",
       "      <td>106</td>\n",
       "      <td>105</td>\n",
       "      <td>16</td>\n",
       "      <td>10</td>\n",
       "      <td>14</td>\n",
       "      <td>635</td>\n",
       "      <td>925</td>\n",
       "      <td>0</td>\n",
       "      <td>200</td>\n",
       "      <td>75</td>\n",
       "      <td>AL</td>\n",
       "      <td>CAL</td>\n",
       "      <td>33</td>\n",
       "    </tr>\n",
       "    <tr>\n",
       "      <th>1</th>\n",
       "      <td>1990</td>\n",
       "      <td>AbbottPaul</td>\n",
       "      <td>23</td>\n",
       "      <td>100000</td>\n",
       "      <td>5.97</td>\n",
       "      <td>37</td>\n",
       "      <td>23</td>\n",
       "      <td>25</td>\n",
       "      <td>0</td>\n",
       "      <td>0</td>\n",
       "      <td>5</td>\n",
       "      <td>104</td>\n",
       "      <td>162</td>\n",
       "      <td>0</td>\n",
       "      <td>185</td>\n",
       "      <td>75</td>\n",
       "      <td>AL</td>\n",
       "      <td>MIN</td>\n",
       "      <td>7</td>\n",
       "    </tr>\n",
       "    <tr>\n",
       "      <th>2</th>\n",
       "      <td>1990</td>\n",
       "      <td>AldredScott</td>\n",
       "      <td>22</td>\n",
       "      <td>100000</td>\n",
       "      <td>3.77</td>\n",
       "      <td>13</td>\n",
       "      <td>6</td>\n",
       "      <td>7</td>\n",
       "      <td>0</td>\n",
       "      <td>1</td>\n",
       "      <td>2</td>\n",
       "      <td>43</td>\n",
       "      <td>63</td>\n",
       "      <td>0</td>\n",
       "      <td>195</td>\n",
       "      <td>76</td>\n",
       "      <td>AL</td>\n",
       "      <td>DET</td>\n",
       "      <td>3</td>\n",
       "    </tr>\n",
       "    <tr>\n",
       "      <th>3</th>\n",
       "      <td>1990</td>\n",
       "      <td>AndersonAllan</td>\n",
       "      <td>26</td>\n",
       "      <td>300000</td>\n",
       "      <td>4.53</td>\n",
       "      <td>214</td>\n",
       "      <td>95</td>\n",
       "      <td>82</td>\n",
       "      <td>20</td>\n",
       "      <td>7</td>\n",
       "      <td>18</td>\n",
       "      <td>566</td>\n",
       "      <td>797</td>\n",
       "      <td>0</td>\n",
       "      <td>178</td>\n",
       "      <td>71</td>\n",
       "      <td>AL</td>\n",
       "      <td>MIN</td>\n",
       "      <td>31</td>\n",
       "    </tr>\n",
       "    <tr>\n",
       "      <th>4</th>\n",
       "      <td>1990</td>\n",
       "      <td>AppierKevin</td>\n",
       "      <td>23</td>\n",
       "      <td>100000</td>\n",
       "      <td>2.76</td>\n",
       "      <td>179</td>\n",
       "      <td>57</td>\n",
       "      <td>127</td>\n",
       "      <td>13</td>\n",
       "      <td>12</td>\n",
       "      <td>8</td>\n",
       "      <td>557</td>\n",
       "      <td>784</td>\n",
       "      <td>1</td>\n",
       "      <td>180</td>\n",
       "      <td>74</td>\n",
       "      <td>AL</td>\n",
       "      <td>KCA</td>\n",
       "      <td>24</td>\n",
       "    </tr>\n",
       "    <tr>\n",
       "      <th>...</th>\n",
       "      <td>...</td>\n",
       "      <td>...</td>\n",
       "      <td>...</td>\n",
       "      <td>...</td>\n",
       "      <td>...</td>\n",
       "      <td>...</td>\n",
       "      <td>...</td>\n",
       "      <td>...</td>\n",
       "      <td>...</td>\n",
       "      <td>...</td>\n",
       "      <td>...</td>\n",
       "      <td>...</td>\n",
       "      <td>...</td>\n",
       "      <td>...</td>\n",
       "      <td>...</td>\n",
       "      <td>...</td>\n",
       "      <td>...</td>\n",
       "      <td>...</td>\n",
       "      <td>...</td>\n",
       "    </tr>\n",
       "    <tr>\n",
       "      <th>4931</th>\n",
       "      <td>2016</td>\n",
       "      <td>WoodAlex</td>\n",
       "      <td>25</td>\n",
       "      <td>530000</td>\n",
       "      <td>3.73</td>\n",
       "      <td>56</td>\n",
       "      <td>25</td>\n",
       "      <td>66</td>\n",
       "      <td>5</td>\n",
       "      <td>1</td>\n",
       "      <td>4</td>\n",
       "      <td>181</td>\n",
       "      <td>255</td>\n",
       "      <td>0</td>\n",
       "      <td>215</td>\n",
       "      <td>76</td>\n",
       "      <td>NL</td>\n",
       "      <td>LAN</td>\n",
       "      <td>10</td>\n",
       "    </tr>\n",
       "    <tr>\n",
       "      <th>4932</th>\n",
       "      <td>2016</td>\n",
       "      <td>WorleyVance</td>\n",
       "      <td>29</td>\n",
       "      <td>2600000</td>\n",
       "      <td>3.53</td>\n",
       "      <td>84</td>\n",
       "      <td>34</td>\n",
       "      <td>56</td>\n",
       "      <td>11</td>\n",
       "      <td>2</td>\n",
       "      <td>2</td>\n",
       "      <td>260</td>\n",
       "      <td>365</td>\n",
       "      <td>13</td>\n",
       "      <td>240</td>\n",
       "      <td>74</td>\n",
       "      <td>AL</td>\n",
       "      <td>BAL</td>\n",
       "      <td>4</td>\n",
       "    </tr>\n",
       "    <tr>\n",
       "      <th>4933</th>\n",
       "      <td>2016</td>\n",
       "      <td>WrightMike</td>\n",
       "      <td>26</td>\n",
       "      <td>510500</td>\n",
       "      <td>5.79</td>\n",
       "      <td>81</td>\n",
       "      <td>48</td>\n",
       "      <td>50</td>\n",
       "      <td>12</td>\n",
       "      <td>3</td>\n",
       "      <td>4</td>\n",
       "      <td>224</td>\n",
       "      <td>328</td>\n",
       "      <td>5</td>\n",
       "      <td>240</td>\n",
       "      <td>78</td>\n",
       "      <td>AL</td>\n",
       "      <td>BAL</td>\n",
       "      <td>12</td>\n",
       "    </tr>\n",
       "    <tr>\n",
       "      <th>4934</th>\n",
       "      <td>2016</td>\n",
       "      <td>WrightSteven</td>\n",
       "      <td>32</td>\n",
       "      <td>514500</td>\n",
       "      <td>3.33</td>\n",
       "      <td>138</td>\n",
       "      <td>58</td>\n",
       "      <td>127</td>\n",
       "      <td>12</td>\n",
       "      <td>13</td>\n",
       "      <td>6</td>\n",
       "      <td>470</td>\n",
       "      <td>656</td>\n",
       "      <td>0</td>\n",
       "      <td>215</td>\n",
       "      <td>74</td>\n",
       "      <td>AL</td>\n",
       "      <td>BOS</td>\n",
       "      <td>24</td>\n",
       "    </tr>\n",
       "    <tr>\n",
       "      <th>4935</th>\n",
       "      <td>2016</td>\n",
       "      <td>YoungChris</td>\n",
       "      <td>37</td>\n",
       "      <td>4250000</td>\n",
       "      <td>6.19</td>\n",
       "      <td>104</td>\n",
       "      <td>61</td>\n",
       "      <td>94</td>\n",
       "      <td>28</td>\n",
       "      <td>3</td>\n",
       "      <td>9</td>\n",
       "      <td>266</td>\n",
       "      <td>406</td>\n",
       "      <td>7</td>\n",
       "      <td>255</td>\n",
       "      <td>82</td>\n",
       "      <td>AL</td>\n",
       "      <td>KCA</td>\n",
       "      <td>13</td>\n",
       "    </tr>\n",
       "  </tbody>\n",
       "</table>\n",
       "<p>4349 rows × 19 columns</p>\n",
       "</div>"
      ],
      "text/plain": [
       "      Year      Full Name  Age   Salary   ERA  Hits  Earned Runs  Strike Outs  \\\n",
       "0     1990      AbbottJim   23   185000  4.51   246          106          105   \n",
       "1     1990     AbbottPaul   23   100000  5.97    37           23           25   \n",
       "2     1990    AldredScott   22   100000  3.77    13            6            7   \n",
       "3     1990  AndersonAllan   26   300000  4.53   214           95           82   \n",
       "4     1990    AppierKevin   23   100000  2.76   179           57          127   \n",
       "...    ...            ...  ...      ...   ...   ...          ...          ...   \n",
       "4931  2016       WoodAlex   25   530000  3.73    56           25           66   \n",
       "4932  2016    WorleyVance   29  2600000  3.53    84           34           56   \n",
       "4933  2016     WrightMike   26   510500  5.79    81           48           50   \n",
       "4934  2016   WrightSteven   32   514500  3.33   138           58          127   \n",
       "4935  2016     YoungChris   37  4250000  6.19   104           61           94   \n",
       "\n",
       "      Home Runs  Wins  Losses  Outs Pitched  Batters Faced by Pitcher  \\\n",
       "0            16    10      14           635                       925   \n",
       "1             0     0       5           104                       162   \n",
       "2             0     1       2            43                        63   \n",
       "3            20     7      18           566                       797   \n",
       "4            13    12       8           557                       784   \n",
       "...         ...   ...     ...           ...                       ...   \n",
       "4931          5     1       4           181                       255   \n",
       "4932         11     2       2           260                       365   \n",
       "4933         12     3       4           224                       328   \n",
       "4934         12    13       6           470                       656   \n",
       "4935         28     3       9           266                       406   \n",
       "\n",
       "      Games Finished  Weight  Height League Team  Games Started  \n",
       "0                  0     200      75     AL  CAL             33  \n",
       "1                  0     185      75     AL  MIN              7  \n",
       "2                  0     195      76     AL  DET              3  \n",
       "3                  0     178      71     AL  MIN             31  \n",
       "4                  1     180      74     AL  KCA             24  \n",
       "...              ...     ...     ...    ...  ...            ...  \n",
       "4931               0     215      76     NL  LAN             10  \n",
       "4932              13     240      74     AL  BAL              4  \n",
       "4933               5     240      78     AL  BAL             12  \n",
       "4934               0     215      74     AL  BOS             24  \n",
       "4935               7     255      82     AL  KCA             13  \n",
       "\n",
       "[4349 rows x 19 columns]"
      ]
     },
     "execution_count": 98,
     "metadata": {},
     "output_type": "execute_result"
    }
   ],
   "source": [
    "# filter strike outs to remove outliers\n",
    "SO = df3['Strike Outs']\n",
    "df4 = df3[(SO<=upper_bound_SO)]\n",
    "df4"
   ]
  },
  {
   "cell_type": "code",
   "execution_count": 99,
   "id": "1f81bbd9-f8e7-4080-bf71-d5430e0c68ec",
   "metadata": {},
   "outputs": [
    {
     "data": {
      "text/plain": [
       "count    4349\n",
       "mean       95\n",
       "std        52\n",
       "min         2\n",
       "25%        54\n",
       "50%        90\n",
       "75%       131\n",
       "max       248\n",
       "Name: Strike Outs, dtype: object"
      ]
     },
     "execution_count": 99,
     "metadata": {},
     "output_type": "execute_result"
    }
   ],
   "source": [
    "# look at distribution of outs pitched (suppressing scientific notation)\n",
    "df4['Strike Outs'].describe().apply(lambda x: format(x, '.0f'))"
   ]
  },
  {
   "cell_type": "code",
   "execution_count": 100,
   "id": "b908b217-07f6-4b2a-befe-6b402643c763",
   "metadata": {},
   "outputs": [],
   "source": [
    "df4.to_csv('outliers_removed_sal-era-so.csv', index=False)"
   ]
  },
  {
   "cell_type": "markdown",
   "id": "a38eb881-56b6-4dfa-b3bc-323f90c257d1",
   "metadata": {},
   "source": [
    "### Home Runs\n",
    "---"
   ]
  },
  {
   "cell_type": "code",
   "execution_count": 101,
   "id": "7bb10139-0ab5-4a7b-931b-8ce21155dc72",
   "metadata": {},
   "outputs": [
    {
     "data": {
      "image/png": "[encoded data removed]",
      "text/plain": [
       "<Figure size 432x288 with 1 Axes>"
      ]
     },
     "metadata": {
      "needs_background": "light"
     },
     "output_type": "display_data"
    }
   ],
   "source": [
    "sns.boxplot(x=df4['Home Runs'])\n",
    "plt.show()"
   ]
  },
  {
   "cell_type": "code",
   "execution_count": 102,
   "id": "db12ea1a-49b7-4df0-b8fc-1a13d923b775",
   "metadata": {},
   "outputs": [
    {
     "data": {
      "image/png": "[encoded data removed]",
      "text/plain": [
       "<Figure size 360x360 with 1 Axes>"
      ]
     },
     "metadata": {
      "needs_background": "light"
     },
     "output_type": "display_data"
    }
   ],
   "source": [
    "sns.displot(df4['Home Runs'], bins=15, kde=False)\n",
    "plt.show()"
   ]
  },
  {
   "cell_type": "code",
   "execution_count": 104,
   "id": "8f49bcc4-bb69-4602-b339-016e2cd70b0a",
   "metadata": {},
   "outputs": [
    {
     "data": {
      "text/plain": [
       "count    4349\n",
       "mean       16\n",
       "std         8\n",
       "min         0\n",
       "25%        10\n",
       "50%        15\n",
       "75%        21\n",
       "max        48\n",
       "Name: Home Runs, dtype: object"
      ]
     },
     "execution_count": 104,
     "metadata": {},
     "output_type": "execute_result"
    }
   ],
   "source": [
    "# look at distribution of outs pitched (suppressing scientific notation)\n",
    "df4['Home Runs'].describe().apply(lambda x: format(x, '.0f'))"
   ]
  },
  {
   "cell_type": "code",
   "execution_count": 105,
   "id": "ddb7da7f-bcbb-448c-8012-27fa9760b4af",
   "metadata": {},
   "outputs": [
    {
     "data": {
      "text/plain": [
       "11.0"
      ]
     },
     "execution_count": 105,
     "metadata": {},
     "output_type": "execute_result"
    }
   ],
   "source": [
    "Q1_HR=df4['Home Runs'].quantile(0.25)\n",
    "Q3_HR=df4['Home Runs'].quantile(0.75)\n",
    "IQR_HR=Q3_HR-Q1_HR\n",
    "IQR_HR"
   ]
  },
  {
   "cell_type": "code",
   "execution_count": 106,
   "id": "a7038bd6-0202-46e2-aea3-4267bae84966",
   "metadata": {},
   "outputs": [],
   "source": [
    "lower_bound_HR=Q1_HR-1.5*IQR_HR\n",
    "upper_bound_HR=Q3_HR+1.5*IQR_HR"
   ]
  },
  {
   "cell_type": "code",
   "execution_count": 108,
   "id": "59667166-cad4-4039-ae74-d35ff6f314ac",
   "metadata": {},
   "outputs": [
    {
     "data": {
      "text/plain": [
       "-6.5"
      ]
     },
     "execution_count": 108,
     "metadata": {},
     "output_type": "execute_result"
    }
   ],
   "source": [
    "lower_bound_HR"
   ]
  },
  {
   "cell_type": "code",
   "execution_count": 109,
   "id": "9065f1a8-3ab2-4a39-8b83-472c3c71e404",
   "metadata": {},
   "outputs": [
    {
     "data": {
      "text/plain": [
       "37.5"
      ]
     },
     "execution_count": 109,
     "metadata": {},
     "output_type": "execute_result"
    }
   ],
   "source": [
    "upper_bound_HR"
   ]
  },
  {
   "cell_type": "markdown",
   "id": "86721f53-d29d-4fbd-b904-c951128015bf",
   "metadata": {},
   "source": [
    "#### no true outliers to remove from Home Runs col"
   ]
  },
  {
   "cell_type": "markdown",
   "id": "3a667800-4bbc-4877-9acf-967a19832cf6",
   "metadata": {},
   "source": [
    "### Games Started\n",
    "---"
   ]
  },
  {
   "cell_type": "code",
   "execution_count": 111,
   "id": "755b20bf-d655-4896-b425-9af72c1a0408",
   "metadata": {},
   "outputs": [
    {
     "data": {
      "image/png": "[encoded data removed]",
      "text/plain": [
       "<Figure size 432x288 with 1 Axes>"
      ]
     },
     "metadata": {
      "needs_background": "light"
     },
     "output_type": "display_data"
    }
   ],
   "source": [
    "sns.boxplot(x=df4['Games Started'])\n",
    "plt.show()"
   ]
  },
  {
   "cell_type": "code",
   "execution_count": 112,
   "id": "63c9f327-7e7b-4525-92bf-713f01825275",
   "metadata": {},
   "outputs": [
    {
     "data": {
      "image/png": "[encoded data removed]",
      "text/plain": [
       "<Figure size 360x360 with 1 Axes>"
      ]
     },
     "metadata": {
      "needs_background": "light"
     },
     "output_type": "display_data"
    }
   ],
   "source": [
    "sns.displot(df4['Games Started'], bins=15, kde=False)\n",
    "plt.show()"
   ]
  },
  {
   "cell_type": "code",
   "execution_count": 113,
   "id": "deefe88d-c362-4245-8d42-dd62cec6bcdc",
   "metadata": {},
   "outputs": [
    {
     "data": {
      "text/plain": [
       "count    4349\n",
       "mean       21\n",
       "std        10\n",
       "min         3\n",
       "25%        12\n",
       "50%        23\n",
       "75%        31\n",
       "max        37\n",
       "Name: Games Started, dtype: object"
      ]
     },
     "execution_count": 113,
     "metadata": {},
     "output_type": "execute_result"
    }
   ],
   "source": [
    "# look at distribution of outs pitched (suppressing scientific notation)\n",
    "df4['Games Started'].describe().apply(lambda x: format(x, '.0f'))"
   ]
  },
  {
   "cell_type": "code",
   "execution_count": 114,
   "id": "a84001d0-56d9-4f7b-8071-e61a089fb439",
   "metadata": {},
   "outputs": [
    {
     "data": {
      "text/plain": [
       "19.0"
      ]
     },
     "execution_count": 114,
     "metadata": {},
     "output_type": "execute_result"
    }
   ],
   "source": [
    "Q1_GS=df4['Games Started'].quantile(0.25)\n",
    "Q3_GS=df4['Games Started'].quantile(0.75)\n",
    "IQR_GS=Q3_GS-Q1_GS\n",
    "IQR_GS"
   ]
  },
  {
   "cell_type": "code",
   "execution_count": 115,
   "id": "6ee13fee-6ffb-4b29-a967-47a3453a390b",
   "metadata": {},
   "outputs": [],
   "source": [
    "lower_bound_GS=Q1_GS-1.5*IQR_GS\n",
    "upper_bound_GS=Q3_GS+1.5*IQR_GS"
   ]
  },
  {
   "cell_type": "code",
   "execution_count": 116,
   "id": "6c14235e-5d33-4f2b-b2ee-051d40489911",
   "metadata": {},
   "outputs": [
    {
     "data": {
      "text/plain": [
       "-16.5"
      ]
     },
     "execution_count": 116,
     "metadata": {},
     "output_type": "execute_result"
    }
   ],
   "source": [
    "lower_bound_GS"
   ]
  },
  {
   "cell_type": "code",
   "execution_count": 117,
   "id": "e05b67db-e6f0-495b-ad99-85b7dd203a4f",
   "metadata": {},
   "outputs": [
    {
     "data": {
      "text/plain": [
       "59.5"
      ]
     },
     "execution_count": 117,
     "metadata": {},
     "output_type": "execute_result"
    }
   ],
   "source": [
    "upper_bound_GS"
   ]
  },
  {
   "cell_type": "markdown",
   "id": "f69a0b3d-b152-4897-ab46-77e239f88179",
   "metadata": {},
   "source": [
    "#### no true outliers to remove for Games Started"
   ]
  },
  {
   "cell_type": "markdown",
   "id": "47fadad0-c482-4d54-a20a-6de9a2540600",
   "metadata": {},
   "source": [
    "### Look at relationship between each feature + salary\n",
    "---"
   ]
  },
  {
   "cell_type": "code",
   "execution_count": 118,
   "id": "e8a922a8-5cdc-41cb-a355-922c7ac129fd",
   "metadata": {},
   "outputs": [
    {
     "data": {
      "text/html": [
       "<div>\n",
       "<style scoped>\n",
       "    .dataframe tbody tr th:only-of-type {\n",
       "        vertical-align: middle;\n",
       "    }\n",
       "\n",
       "    .dataframe tbody tr th {\n",
       "        vertical-align: top;\n",
       "    }\n",
       "\n",
       "    .dataframe thead th {\n",
       "        text-align: right;\n",
       "    }\n",
       "</style>\n",
       "<table border=\"1\" class=\"dataframe\">\n",
       "  <thead>\n",
       "    <tr style=\"text-align: right;\">\n",
       "      <th></th>\n",
       "      <th>Year</th>\n",
       "      <th>Full Name</th>\n",
       "      <th>Age</th>\n",
       "      <th>Salary</th>\n",
       "      <th>ERA</th>\n",
       "      <th>Hits</th>\n",
       "      <th>Earned Runs</th>\n",
       "      <th>Strike Outs</th>\n",
       "      <th>Home Runs</th>\n",
       "      <th>Wins</th>\n",
       "      <th>Losses</th>\n",
       "      <th>Outs Pitched</th>\n",
       "      <th>Batters Faced by Pitcher</th>\n",
       "      <th>Games Finished</th>\n",
       "      <th>Weight</th>\n",
       "      <th>Height</th>\n",
       "      <th>League</th>\n",
       "      <th>Team</th>\n",
       "      <th>Games Started</th>\n",
       "    </tr>\n",
       "  </thead>\n",
       "  <tbody>\n",
       "    <tr>\n",
       "      <th>0</th>\n",
       "      <td>1990</td>\n",
       "      <td>AbbottJim</td>\n",
       "      <td>23</td>\n",
       "      <td>185000</td>\n",
       "      <td>4.51</td>\n",
       "      <td>246</td>\n",
       "      <td>106</td>\n",
       "      <td>105</td>\n",
       "      <td>16</td>\n",
       "      <td>10</td>\n",
       "      <td>14</td>\n",
       "      <td>635</td>\n",
       "      <td>925</td>\n",
       "      <td>0</td>\n",
       "      <td>200</td>\n",
       "      <td>75</td>\n",
       "      <td>AL</td>\n",
       "      <td>CAL</td>\n",
       "      <td>33</td>\n",
       "    </tr>\n",
       "    <tr>\n",
       "      <th>1</th>\n",
       "      <td>1990</td>\n",
       "      <td>AbbottPaul</td>\n",
       "      <td>23</td>\n",
       "      <td>100000</td>\n",
       "      <td>5.97</td>\n",
       "      <td>37</td>\n",
       "      <td>23</td>\n",
       "      <td>25</td>\n",
       "      <td>0</td>\n",
       "      <td>0</td>\n",
       "      <td>5</td>\n",
       "      <td>104</td>\n",
       "      <td>162</td>\n",
       "      <td>0</td>\n",
       "      <td>185</td>\n",
       "      <td>75</td>\n",
       "      <td>AL</td>\n",
       "      <td>MIN</td>\n",
       "      <td>7</td>\n",
       "    </tr>\n",
       "    <tr>\n",
       "      <th>2</th>\n",
       "      <td>1990</td>\n",
       "      <td>AldredScott</td>\n",
       "      <td>22</td>\n",
       "      <td>100000</td>\n",
       "      <td>3.77</td>\n",
       "      <td>13</td>\n",
       "      <td>6</td>\n",
       "      <td>7</td>\n",
       "      <td>0</td>\n",
       "      <td>1</td>\n",
       "      <td>2</td>\n",
       "      <td>43</td>\n",
       "      <td>63</td>\n",
       "      <td>0</td>\n",
       "      <td>195</td>\n",
       "      <td>76</td>\n",
       "      <td>AL</td>\n",
       "      <td>DET</td>\n",
       "      <td>3</td>\n",
       "    </tr>\n",
       "    <tr>\n",
       "      <th>3</th>\n",
       "      <td>1990</td>\n",
       "      <td>AndersonAllan</td>\n",
       "      <td>26</td>\n",
       "      <td>300000</td>\n",
       "      <td>4.53</td>\n",
       "      <td>214</td>\n",
       "      <td>95</td>\n",
       "      <td>82</td>\n",
       "      <td>20</td>\n",
       "      <td>7</td>\n",
       "      <td>18</td>\n",
       "      <td>566</td>\n",
       "      <td>797</td>\n",
       "      <td>0</td>\n",
       "      <td>178</td>\n",
       "      <td>71</td>\n",
       "      <td>AL</td>\n",
       "      <td>MIN</td>\n",
       "      <td>31</td>\n",
       "    </tr>\n",
       "    <tr>\n",
       "      <th>4</th>\n",
       "      <td>1990</td>\n",
       "      <td>AppierKevin</td>\n",
       "      <td>23</td>\n",
       "      <td>100000</td>\n",
       "      <td>2.76</td>\n",
       "      <td>179</td>\n",
       "      <td>57</td>\n",
       "      <td>127</td>\n",
       "      <td>13</td>\n",
       "      <td>12</td>\n",
       "      <td>8</td>\n",
       "      <td>557</td>\n",
       "      <td>784</td>\n",
       "      <td>1</td>\n",
       "      <td>180</td>\n",
       "      <td>74</td>\n",
       "      <td>AL</td>\n",
       "      <td>KCA</td>\n",
       "      <td>24</td>\n",
       "    </tr>\n",
       "    <tr>\n",
       "      <th>...</th>\n",
       "      <td>...</td>\n",
       "      <td>...</td>\n",
       "      <td>...</td>\n",
       "      <td>...</td>\n",
       "      <td>...</td>\n",
       "      <td>...</td>\n",
       "      <td>...</td>\n",
       "      <td>...</td>\n",
       "      <td>...</td>\n",
       "      <td>...</td>\n",
       "      <td>...</td>\n",
       "      <td>...</td>\n",
       "      <td>...</td>\n",
       "      <td>...</td>\n",
       "      <td>...</td>\n",
       "      <td>...</td>\n",
       "      <td>...</td>\n",
       "      <td>...</td>\n",
       "      <td>...</td>\n",
       "    </tr>\n",
       "    <tr>\n",
       "      <th>4931</th>\n",
       "      <td>2016</td>\n",
       "      <td>WoodAlex</td>\n",
       "      <td>25</td>\n",
       "      <td>530000</td>\n",
       "      <td>3.73</td>\n",
       "      <td>56</td>\n",
       "      <td>25</td>\n",
       "      <td>66</td>\n",
       "      <td>5</td>\n",
       "      <td>1</td>\n",
       "      <td>4</td>\n",
       "      <td>181</td>\n",
       "      <td>255</td>\n",
       "      <td>0</td>\n",
       "      <td>215</td>\n",
       "      <td>76</td>\n",
       "      <td>NL</td>\n",
       "      <td>LAN</td>\n",
       "      <td>10</td>\n",
       "    </tr>\n",
       "    <tr>\n",
       "      <th>4932</th>\n",
       "      <td>2016</td>\n",
       "      <td>WorleyVance</td>\n",
       "      <td>29</td>\n",
       "      <td>2600000</td>\n",
       "      <td>3.53</td>\n",
       "      <td>84</td>\n",
       "      <td>34</td>\n",
       "      <td>56</td>\n",
       "      <td>11</td>\n",
       "      <td>2</td>\n",
       "      <td>2</td>\n",
       "      <td>260</td>\n",
       "      <td>365</td>\n",
       "      <td>13</td>\n",
       "      <td>240</td>\n",
       "      <td>74</td>\n",
       "      <td>AL</td>\n",
       "      <td>BAL</td>\n",
       "      <td>4</td>\n",
       "    </tr>\n",
       "    <tr>\n",
       "      <th>4933</th>\n",
       "      <td>2016</td>\n",
       "      <td>WrightMike</td>\n",
       "      <td>26</td>\n",
       "      <td>510500</td>\n",
       "      <td>5.79</td>\n",
       "      <td>81</td>\n",
       "      <td>48</td>\n",
       "      <td>50</td>\n",
       "      <td>12</td>\n",
       "      <td>3</td>\n",
       "      <td>4</td>\n",
       "      <td>224</td>\n",
       "      <td>328</td>\n",
       "      <td>5</td>\n",
       "      <td>240</td>\n",
       "      <td>78</td>\n",
       "      <td>AL</td>\n",
       "      <td>BAL</td>\n",
       "      <td>12</td>\n",
       "    </tr>\n",
       "    <tr>\n",
       "      <th>4934</th>\n",
       "      <td>2016</td>\n",
       "      <td>WrightSteven</td>\n",
       "      <td>32</td>\n",
       "      <td>514500</td>\n",
       "      <td>3.33</td>\n",
       "      <td>138</td>\n",
       "      <td>58</td>\n",
       "      <td>127</td>\n",
       "      <td>12</td>\n",
       "      <td>13</td>\n",
       "      <td>6</td>\n",
       "      <td>470</td>\n",
       "      <td>656</td>\n",
       "      <td>0</td>\n",
       "      <td>215</td>\n",
       "      <td>74</td>\n",
       "      <td>AL</td>\n",
       "      <td>BOS</td>\n",
       "      <td>24</td>\n",
       "    </tr>\n",
       "    <tr>\n",
       "      <th>4935</th>\n",
       "      <td>2016</td>\n",
       "      <td>YoungChris</td>\n",
       "      <td>37</td>\n",
       "      <td>4250000</td>\n",
       "      <td>6.19</td>\n",
       "      <td>104</td>\n",
       "      <td>61</td>\n",
       "      <td>94</td>\n",
       "      <td>28</td>\n",
       "      <td>3</td>\n",
       "      <td>9</td>\n",
       "      <td>266</td>\n",
       "      <td>406</td>\n",
       "      <td>7</td>\n",
       "      <td>255</td>\n",
       "      <td>82</td>\n",
       "      <td>AL</td>\n",
       "      <td>KCA</td>\n",
       "      <td>13</td>\n",
       "    </tr>\n",
       "  </tbody>\n",
       "</table>\n",
       "<p>4349 rows × 19 columns</p>\n",
       "</div>"
      ],
      "text/plain": [
       "      Year      Full Name  Age   Salary   ERA  Hits  Earned Runs  Strike Outs  \\\n",
       "0     1990      AbbottJim   23   185000  4.51   246          106          105   \n",
       "1     1990     AbbottPaul   23   100000  5.97    37           23           25   \n",
       "2     1990    AldredScott   22   100000  3.77    13            6            7   \n",
       "3     1990  AndersonAllan   26   300000  4.53   214           95           82   \n",
       "4     1990    AppierKevin   23   100000  2.76   179           57          127   \n",
       "...    ...            ...  ...      ...   ...   ...          ...          ...   \n",
       "4931  2016       WoodAlex   25   530000  3.73    56           25           66   \n",
       "4932  2016    WorleyVance   29  2600000  3.53    84           34           56   \n",
       "4933  2016     WrightMike   26   510500  5.79    81           48           50   \n",
       "4934  2016   WrightSteven   32   514500  3.33   138           58          127   \n",
       "4935  2016     YoungChris   37  4250000  6.19   104           61           94   \n",
       "\n",
       "      Home Runs  Wins  Losses  Outs Pitched  Batters Faced by Pitcher  \\\n",
       "0            16    10      14           635                       925   \n",
       "1             0     0       5           104                       162   \n",
       "2             0     1       2            43                        63   \n",
       "3            20     7      18           566                       797   \n",
       "4            13    12       8           557                       784   \n",
       "...         ...   ...     ...           ...                       ...   \n",
       "4931          5     1       4           181                       255   \n",
       "4932         11     2       2           260                       365   \n",
       "4933         12     3       4           224                       328   \n",
       "4934         12    13       6           470                       656   \n",
       "4935         28     3       9           266                       406   \n",
       "\n",
       "      Games Finished  Weight  Height League Team  Games Started  \n",
       "0                  0     200      75     AL  CAL             33  \n",
       "1                  0     185      75     AL  MIN              7  \n",
       "2                  0     195      76     AL  DET              3  \n",
       "3                  0     178      71     AL  MIN             31  \n",
       "4                  1     180      74     AL  KCA             24  \n",
       "...              ...     ...     ...    ...  ...            ...  \n",
       "4931               0     215      76     NL  LAN             10  \n",
       "4932              13     240      74     AL  BAL              4  \n",
       "4933               5     240      78     AL  BAL             12  \n",
       "4934               0     215      74     AL  BOS             24  \n",
       "4935               7     255      82     AL  KCA             13  \n",
       "\n",
       "[4349 rows x 19 columns]"
      ]
     },
     "execution_count": 118,
     "metadata": {},
     "output_type": "execute_result"
    }
   ],
   "source": [
    "df4"
   ]
  },
  {
   "cell_type": "code",
   "execution_count": 119,
   "id": "de661f74-3091-44e5-b1c7-475a6b94c9bf",
   "metadata": {},
   "outputs": [
    {
     "data": {
      "text/html": [
       "<div>\n",
       "<style scoped>\n",
       "    .dataframe tbody tr th:only-of-type {\n",
       "        vertical-align: middle;\n",
       "    }\n",
       "\n",
       "    .dataframe tbody tr th {\n",
       "        vertical-align: top;\n",
       "    }\n",
       "\n",
       "    .dataframe thead th {\n",
       "        text-align: right;\n",
       "    }\n",
       "</style>\n",
       "<table border=\"1\" class=\"dataframe\">\n",
       "  <thead>\n",
       "    <tr style=\"text-align: right;\">\n",
       "      <th></th>\n",
       "      <th>Batters Faced by Pitcher</th>\n",
       "      <th>Outs Pitched</th>\n",
       "      <th>ERA</th>\n",
       "      <th>Strike Outs</th>\n",
       "      <th>Salary</th>\n",
       "      <th>Home Runs</th>\n",
       "      <th>Games Started</th>\n",
       "    </tr>\n",
       "  </thead>\n",
       "  <tbody>\n",
       "    <tr>\n",
       "      <th>0</th>\n",
       "      <td>925</td>\n",
       "      <td>635</td>\n",
       "      <td>4.51</td>\n",
       "      <td>105</td>\n",
       "      <td>185000</td>\n",
       "      <td>16</td>\n",
       "      <td>33</td>\n",
       "    </tr>\n",
       "    <tr>\n",
       "      <th>1</th>\n",
       "      <td>162</td>\n",
       "      <td>104</td>\n",
       "      <td>5.97</td>\n",
       "      <td>25</td>\n",
       "      <td>100000</td>\n",
       "      <td>0</td>\n",
       "      <td>7</td>\n",
       "    </tr>\n",
       "    <tr>\n",
       "      <th>2</th>\n",
       "      <td>63</td>\n",
       "      <td>43</td>\n",
       "      <td>3.77</td>\n",
       "      <td>7</td>\n",
       "      <td>100000</td>\n",
       "      <td>0</td>\n",
       "      <td>3</td>\n",
       "    </tr>\n",
       "    <tr>\n",
       "      <th>3</th>\n",
       "      <td>797</td>\n",
       "      <td>566</td>\n",
       "      <td>4.53</td>\n",
       "      <td>82</td>\n",
       "      <td>300000</td>\n",
       "      <td>20</td>\n",
       "      <td>31</td>\n",
       "    </tr>\n",
       "    <tr>\n",
       "      <th>4</th>\n",
       "      <td>784</td>\n",
       "      <td>557</td>\n",
       "      <td>2.76</td>\n",
       "      <td>127</td>\n",
       "      <td>100000</td>\n",
       "      <td>13</td>\n",
       "      <td>24</td>\n",
       "    </tr>\n",
       "    <tr>\n",
       "      <th>...</th>\n",
       "      <td>...</td>\n",
       "      <td>...</td>\n",
       "      <td>...</td>\n",
       "      <td>...</td>\n",
       "      <td>...</td>\n",
       "      <td>...</td>\n",
       "      <td>...</td>\n",
       "    </tr>\n",
       "    <tr>\n",
       "      <th>4932</th>\n",
       "      <td>365</td>\n",
       "      <td>260</td>\n",
       "      <td>3.53</td>\n",
       "      <td>56</td>\n",
       "      <td>2600000</td>\n",
       "      <td>11</td>\n",
       "      <td>4</td>\n",
       "    </tr>\n",
       "    <tr>\n",
       "      <th>4933</th>\n",
       "      <td>328</td>\n",
       "      <td>224</td>\n",
       "      <td>5.79</td>\n",
       "      <td>50</td>\n",
       "      <td>510500</td>\n",
       "      <td>12</td>\n",
       "      <td>12</td>\n",
       "    </tr>\n",
       "    <tr>\n",
       "      <th>4934</th>\n",
       "      <td>656</td>\n",
       "      <td>470</td>\n",
       "      <td>3.33</td>\n",
       "      <td>127</td>\n",
       "      <td>514500</td>\n",
       "      <td>12</td>\n",
       "      <td>24</td>\n",
       "    </tr>\n",
       "    <tr>\n",
       "      <th>4935</th>\n",
       "      <td>406</td>\n",
       "      <td>266</td>\n",
       "      <td>6.19</td>\n",
       "      <td>94</td>\n",
       "      <td>4250000</td>\n",
       "      <td>28</td>\n",
       "      <td>13</td>\n",
       "    </tr>\n",
       "    <tr>\n",
       "      <th>4936</th>\n",
       "      <td>450</td>\n",
       "      <td>316</td>\n",
       "      <td>4.87</td>\n",
       "      <td>66</td>\n",
       "      <td>18000000</td>\n",
       "      <td>14</td>\n",
       "      <td>18</td>\n",
       "    </tr>\n",
       "  </tbody>\n",
       "</table>\n",
       "<p>4937 rows × 7 columns</p>\n",
       "</div>"
      ],
      "text/plain": [
       "      Batters Faced by Pitcher  Outs Pitched   ERA  Strike Outs    Salary  \\\n",
       "0                          925           635  4.51          105    185000   \n",
       "1                          162           104  5.97           25    100000   \n",
       "2                           63            43  3.77            7    100000   \n",
       "3                          797           566  4.53           82    300000   \n",
       "4                          784           557  2.76          127    100000   \n",
       "...                        ...           ...   ...          ...       ...   \n",
       "4932                       365           260  3.53           56   2600000   \n",
       "4933                       328           224  5.79           50    510500   \n",
       "4934                       656           470  3.33          127    514500   \n",
       "4935                       406           266  6.19           94   4250000   \n",
       "4936                       450           316  4.87           66  18000000   \n",
       "\n",
       "      Home Runs  Games Started  \n",
       "0            16             33  \n",
       "1             0              7  \n",
       "2             0              3  \n",
       "3            20             31  \n",
       "4            13             24  \n",
       "...         ...            ...  \n",
       "4932         11              4  \n",
       "4933         12             12  \n",
       "4934         12             24  \n",
       "4935         28             13  \n",
       "4936         14             18  \n",
       "\n",
       "[4937 rows x 7 columns]"
      ]
     },
     "execution_count": 119,
     "metadata": {},
     "output_type": "execute_result"
    }
   ],
   "source": [
    "# focus on select features\n",
    "df5= df.filter(['Batters Faced by Pitcher', 'Outs Pitched','ERA','Strike Outs','Salary','Home Runs','Games Started'])\n",
    "df5"
   ]
  },
  {
   "cell_type": "code",
   "execution_count": 121,
   "id": "3b2803d6-72fe-4b3f-a6fb-208472c818c2",
   "metadata": {},
   "outputs": [
    {
     "data": {
      "text/html": [
       "<div>\n",
       "<style scoped>\n",
       "    .dataframe tbody tr th:only-of-type {\n",
       "        vertical-align: middle;\n",
       "    }\n",
       "\n",
       "    .dataframe tbody tr th {\n",
       "        vertical-align: top;\n",
       "    }\n",
       "\n",
       "    .dataframe thead th {\n",
       "        text-align: right;\n",
       "    }\n",
       "</style>\n",
       "<table border=\"1\" class=\"dataframe\">\n",
       "  <thead>\n",
       "    <tr style=\"text-align: right;\">\n",
       "      <th></th>\n",
       "      <th>Batters Faced by Pitcher</th>\n",
       "      <th>Outs Pitched</th>\n",
       "      <th>ERA</th>\n",
       "      <th>Strike Outs</th>\n",
       "      <th>Salary</th>\n",
       "      <th>Home Runs</th>\n",
       "      <th>Games Started</th>\n",
       "      <th>sal-log</th>\n",
       "    </tr>\n",
       "  </thead>\n",
       "  <tbody>\n",
       "    <tr>\n",
       "      <th>0</th>\n",
       "      <td>925</td>\n",
       "      <td>635</td>\n",
       "      <td>4.51</td>\n",
       "      <td>105</td>\n",
       "      <td>185000</td>\n",
       "      <td>16</td>\n",
       "      <td>33</td>\n",
       "      <td>5.267172</td>\n",
       "    </tr>\n",
       "    <tr>\n",
       "      <th>1</th>\n",
       "      <td>162</td>\n",
       "      <td>104</td>\n",
       "      <td>5.97</td>\n",
       "      <td>25</td>\n",
       "      <td>100000</td>\n",
       "      <td>0</td>\n",
       "      <td>7</td>\n",
       "      <td>5.000000</td>\n",
       "    </tr>\n",
       "    <tr>\n",
       "      <th>2</th>\n",
       "      <td>63</td>\n",
       "      <td>43</td>\n",
       "      <td>3.77</td>\n",
       "      <td>7</td>\n",
       "      <td>100000</td>\n",
       "      <td>0</td>\n",
       "      <td>3</td>\n",
       "      <td>5.000000</td>\n",
       "    </tr>\n",
       "    <tr>\n",
       "      <th>3</th>\n",
       "      <td>797</td>\n",
       "      <td>566</td>\n",
       "      <td>4.53</td>\n",
       "      <td>82</td>\n",
       "      <td>300000</td>\n",
       "      <td>20</td>\n",
       "      <td>31</td>\n",
       "      <td>5.477121</td>\n",
       "    </tr>\n",
       "    <tr>\n",
       "      <th>4</th>\n",
       "      <td>784</td>\n",
       "      <td>557</td>\n",
       "      <td>2.76</td>\n",
       "      <td>127</td>\n",
       "      <td>100000</td>\n",
       "      <td>13</td>\n",
       "      <td>24</td>\n",
       "      <td>5.000000</td>\n",
       "    </tr>\n",
       "    <tr>\n",
       "      <th>...</th>\n",
       "      <td>...</td>\n",
       "      <td>...</td>\n",
       "      <td>...</td>\n",
       "      <td>...</td>\n",
       "      <td>...</td>\n",
       "      <td>...</td>\n",
       "      <td>...</td>\n",
       "      <td>...</td>\n",
       "    </tr>\n",
       "    <tr>\n",
       "      <th>4932</th>\n",
       "      <td>365</td>\n",
       "      <td>260</td>\n",
       "      <td>3.53</td>\n",
       "      <td>56</td>\n",
       "      <td>2600000</td>\n",
       "      <td>11</td>\n",
       "      <td>4</td>\n",
       "      <td>6.414973</td>\n",
       "    </tr>\n",
       "    <tr>\n",
       "      <th>4933</th>\n",
       "      <td>328</td>\n",
       "      <td>224</td>\n",
       "      <td>5.79</td>\n",
       "      <td>50</td>\n",
       "      <td>510500</td>\n",
       "      <td>12</td>\n",
       "      <td>12</td>\n",
       "      <td>5.707996</td>\n",
       "    </tr>\n",
       "    <tr>\n",
       "      <th>4934</th>\n",
       "      <td>656</td>\n",
       "      <td>470</td>\n",
       "      <td>3.33</td>\n",
       "      <td>127</td>\n",
       "      <td>514500</td>\n",
       "      <td>12</td>\n",
       "      <td>24</td>\n",
       "      <td>5.711385</td>\n",
       "    </tr>\n",
       "    <tr>\n",
       "      <th>4935</th>\n",
       "      <td>406</td>\n",
       "      <td>266</td>\n",
       "      <td>6.19</td>\n",
       "      <td>94</td>\n",
       "      <td>4250000</td>\n",
       "      <td>28</td>\n",
       "      <td>13</td>\n",
       "      <td>6.628389</td>\n",
       "    </tr>\n",
       "    <tr>\n",
       "      <th>4936</th>\n",
       "      <td>450</td>\n",
       "      <td>316</td>\n",
       "      <td>4.87</td>\n",
       "      <td>66</td>\n",
       "      <td>18000000</td>\n",
       "      <td>14</td>\n",
       "      <td>18</td>\n",
       "      <td>7.255273</td>\n",
       "    </tr>\n",
       "  </tbody>\n",
       "</table>\n",
       "<p>4937 rows × 8 columns</p>\n",
       "</div>"
      ],
      "text/plain": [
       "      Batters Faced by Pitcher  Outs Pitched   ERA  Strike Outs    Salary  \\\n",
       "0                          925           635  4.51          105    185000   \n",
       "1                          162           104  5.97           25    100000   \n",
       "2                           63            43  3.77            7    100000   \n",
       "3                          797           566  4.53           82    300000   \n",
       "4                          784           557  2.76          127    100000   \n",
       "...                        ...           ...   ...          ...       ...   \n",
       "4932                       365           260  3.53           56   2600000   \n",
       "4933                       328           224  5.79           50    510500   \n",
       "4934                       656           470  3.33          127    514500   \n",
       "4935                       406           266  6.19           94   4250000   \n",
       "4936                       450           316  4.87           66  18000000   \n",
       "\n",
       "      Home Runs  Games Started   sal-log  \n",
       "0            16             33  5.267172  \n",
       "1             0              7  5.000000  \n",
       "2             0              3  5.000000  \n",
       "3            20             31  5.477121  \n",
       "4            13             24  5.000000  \n",
       "...         ...            ...       ...  \n",
       "4932         11              4  6.414973  \n",
       "4933         12             12  5.707996  \n",
       "4934         12             24  5.711385  \n",
       "4935         28             13  6.628389  \n",
       "4936         14             18  7.255273  \n",
       "\n",
       "[4937 rows x 8 columns]"
      ]
     },
     "execution_count": 121,
     "metadata": {},
     "output_type": "execute_result"
    }
   ],
   "source": [
    "# create sal-log col\n",
    "df5['sal-log']=np.log10(df5['Salary'])\n",
    "df5"
   ]
  },
  {
   "cell_type": "code",
   "execution_count": 151,
   "id": "9aa780f9-4b65-4698-bf92-f3dedc2ebdc1",
   "metadata": {},
   "outputs": [
    {
     "data": {
      "text/html": [
       "<div>\n",
       "<style scoped>\n",
       "    .dataframe tbody tr th:only-of-type {\n",
       "        vertical-align: middle;\n",
       "    }\n",
       "\n",
       "    .dataframe tbody tr th {\n",
       "        vertical-align: top;\n",
       "    }\n",
       "\n",
       "    .dataframe thead th {\n",
       "        text-align: right;\n",
       "    }\n",
       "</style>\n",
       "<table border=\"1\" class=\"dataframe\">\n",
       "  <thead>\n",
       "    <tr style=\"text-align: right;\">\n",
       "      <th></th>\n",
       "      <th>Batters Faced by Pitcher</th>\n",
       "      <th>Outs Pitched</th>\n",
       "      <th>ERA</th>\n",
       "      <th>Strike Outs</th>\n",
       "      <th>Salary</th>\n",
       "      <th>Home Runs</th>\n",
       "      <th>Games Started</th>\n",
       "      <th>sal-log</th>\n",
       "      <th>sal-era</th>\n",
       "      <th>era_log10</th>\n",
       "      <th>era_logN</th>\n",
       "      <th>sal_logN</th>\n",
       "    </tr>\n",
       "  </thead>\n",
       "  <tbody>\n",
       "    <tr>\n",
       "      <th>0</th>\n",
       "      <td>925</td>\n",
       "      <td>635</td>\n",
       "      <td>4.51</td>\n",
       "      <td>105</td>\n",
       "      <td>185000</td>\n",
       "      <td>16</td>\n",
       "      <td>33</td>\n",
       "      <td>5.267172</td>\n",
       "      <td>0.654177</td>\n",
       "      <td>0.654177</td>\n",
       "      <td>1.506297</td>\n",
       "      <td>12.128111</td>\n",
       "    </tr>\n",
       "    <tr>\n",
       "      <th>1</th>\n",
       "      <td>162</td>\n",
       "      <td>104</td>\n",
       "      <td>5.97</td>\n",
       "      <td>25</td>\n",
       "      <td>100000</td>\n",
       "      <td>0</td>\n",
       "      <td>7</td>\n",
       "      <td>5.000000</td>\n",
       "      <td>0.775974</td>\n",
       "      <td>0.775974</td>\n",
       "      <td>1.786747</td>\n",
       "      <td>11.512925</td>\n",
       "    </tr>\n",
       "    <tr>\n",
       "      <th>2</th>\n",
       "      <td>63</td>\n",
       "      <td>43</td>\n",
       "      <td>3.77</td>\n",
       "      <td>7</td>\n",
       "      <td>100000</td>\n",
       "      <td>0</td>\n",
       "      <td>3</td>\n",
       "      <td>5.000000</td>\n",
       "      <td>0.576341</td>\n",
       "      <td>0.576341</td>\n",
       "      <td>1.327075</td>\n",
       "      <td>11.512925</td>\n",
       "    </tr>\n",
       "    <tr>\n",
       "      <th>3</th>\n",
       "      <td>797</td>\n",
       "      <td>566</td>\n",
       "      <td>4.53</td>\n",
       "      <td>82</td>\n",
       "      <td>300000</td>\n",
       "      <td>20</td>\n",
       "      <td>31</td>\n",
       "      <td>5.477121</td>\n",
       "      <td>0.656098</td>\n",
       "      <td>0.656098</td>\n",
       "      <td>1.510722</td>\n",
       "      <td>12.611538</td>\n",
       "    </tr>\n",
       "    <tr>\n",
       "      <th>4</th>\n",
       "      <td>784</td>\n",
       "      <td>557</td>\n",
       "      <td>2.76</td>\n",
       "      <td>127</td>\n",
       "      <td>100000</td>\n",
       "      <td>13</td>\n",
       "      <td>24</td>\n",
       "      <td>5.000000</td>\n",
       "      <td>0.440909</td>\n",
       "      <td>0.440909</td>\n",
       "      <td>1.015231</td>\n",
       "      <td>11.512925</td>\n",
       "    </tr>\n",
       "    <tr>\n",
       "      <th>...</th>\n",
       "      <td>...</td>\n",
       "      <td>...</td>\n",
       "      <td>...</td>\n",
       "      <td>...</td>\n",
       "      <td>...</td>\n",
       "      <td>...</td>\n",
       "      <td>...</td>\n",
       "      <td>...</td>\n",
       "      <td>...</td>\n",
       "      <td>...</td>\n",
       "      <td>...</td>\n",
       "      <td>...</td>\n",
       "    </tr>\n",
       "    <tr>\n",
       "      <th>4932</th>\n",
       "      <td>365</td>\n",
       "      <td>260</td>\n",
       "      <td>3.53</td>\n",
       "      <td>56</td>\n",
       "      <td>2600000</td>\n",
       "      <td>11</td>\n",
       "      <td>4</td>\n",
       "      <td>6.414973</td>\n",
       "      <td>0.547775</td>\n",
       "      <td>0.547775</td>\n",
       "      <td>1.261298</td>\n",
       "      <td>14.771022</td>\n",
       "    </tr>\n",
       "    <tr>\n",
       "      <th>4933</th>\n",
       "      <td>328</td>\n",
       "      <td>224</td>\n",
       "      <td>5.79</td>\n",
       "      <td>50</td>\n",
       "      <td>510500</td>\n",
       "      <td>12</td>\n",
       "      <td>12</td>\n",
       "      <td>5.707996</td>\n",
       "      <td>0.762679</td>\n",
       "      <td>0.762679</td>\n",
       "      <td>1.756132</td>\n",
       "      <td>13.143146</td>\n",
       "    </tr>\n",
       "    <tr>\n",
       "      <th>4934</th>\n",
       "      <td>656</td>\n",
       "      <td>470</td>\n",
       "      <td>3.33</td>\n",
       "      <td>127</td>\n",
       "      <td>514500</td>\n",
       "      <td>12</td>\n",
       "      <td>24</td>\n",
       "      <td>5.711385</td>\n",
       "      <td>0.522444</td>\n",
       "      <td>0.522444</td>\n",
       "      <td>1.202972</td>\n",
       "      <td>13.150951</td>\n",
       "    </tr>\n",
       "    <tr>\n",
       "      <th>4935</th>\n",
       "      <td>406</td>\n",
       "      <td>266</td>\n",
       "      <td>6.19</td>\n",
       "      <td>94</td>\n",
       "      <td>4250000</td>\n",
       "      <td>28</td>\n",
       "      <td>13</td>\n",
       "      <td>6.628389</td>\n",
       "      <td>0.791691</td>\n",
       "      <td>0.791691</td>\n",
       "      <td>1.822935</td>\n",
       "      <td>15.262430</td>\n",
       "    </tr>\n",
       "    <tr>\n",
       "      <th>4936</th>\n",
       "      <td>450</td>\n",
       "      <td>316</td>\n",
       "      <td>4.87</td>\n",
       "      <td>66</td>\n",
       "      <td>18000000</td>\n",
       "      <td>14</td>\n",
       "      <td>18</td>\n",
       "      <td>7.255273</td>\n",
       "      <td>0.687529</td>\n",
       "      <td>0.687529</td>\n",
       "      <td>1.583094</td>\n",
       "      <td>16.705882</td>\n",
       "    </tr>\n",
       "  </tbody>\n",
       "</table>\n",
       "<p>4937 rows × 12 columns</p>\n",
       "</div>"
      ],
      "text/plain": [
       "      Batters Faced by Pitcher  Outs Pitched   ERA  Strike Outs    Salary  \\\n",
       "0                          925           635  4.51          105    185000   \n",
       "1                          162           104  5.97           25    100000   \n",
       "2                           63            43  3.77            7    100000   \n",
       "3                          797           566  4.53           82    300000   \n",
       "4                          784           557  2.76          127    100000   \n",
       "...                        ...           ...   ...          ...       ...   \n",
       "4932                       365           260  3.53           56   2600000   \n",
       "4933                       328           224  5.79           50    510500   \n",
       "4934                       656           470  3.33          127    514500   \n",
       "4935                       406           266  6.19           94   4250000   \n",
       "4936                       450           316  4.87           66  18000000   \n",
       "\n",
       "      Home Runs  Games Started   sal-log   sal-era  era_log10  era_logN  \\\n",
       "0            16             33  5.267172  0.654177   0.654177  1.506297   \n",
       "1             0              7  5.000000  0.775974   0.775974  1.786747   \n",
       "2             0              3  5.000000  0.576341   0.576341  1.327075   \n",
       "3            20             31  5.477121  0.656098   0.656098  1.510722   \n",
       "4            13             24  5.000000  0.440909   0.440909  1.015231   \n",
       "...         ...            ...       ...       ...        ...       ...   \n",
       "4932         11              4  6.414973  0.547775   0.547775  1.261298   \n",
       "4933         12             12  5.707996  0.762679   0.762679  1.756132   \n",
       "4934         12             24  5.711385  0.522444   0.522444  1.202972   \n",
       "4935         28             13  6.628389  0.791691   0.791691  1.822935   \n",
       "4936         14             18  7.255273  0.687529   0.687529  1.583094   \n",
       "\n",
       "       sal_logN  \n",
       "0     12.128111  \n",
       "1     11.512925  \n",
       "2     11.512925  \n",
       "3     12.611538  \n",
       "4     11.512925  \n",
       "...         ...  \n",
       "4932  14.771022  \n",
       "4933  13.143146  \n",
       "4934  13.150951  \n",
       "4935  15.262430  \n",
       "4936  16.705882  \n",
       "\n",
       "[4937 rows x 12 columns]"
      ]
     },
     "execution_count": 151,
     "metadata": {},
     "output_type": "execute_result"
    }
   ],
   "source": [
    "# create sal-log col\n",
    "df5['era_logN']=np.log(df5['ERA'])\n",
    "df5['sal_logN']=np.log(df5['Salary'])\n",
    "df5"
   ]
  },
  {
   "cell_type": "code",
   "execution_count": 149,
   "id": "cfc62d92-7106-4fa1-a171-1b6ad858b60e",
   "metadata": {},
   "outputs": [],
   "source": [
    "# define variables\n",
    "BFP = df5['Batters Faced by Pitcher'].values\n",
    "OP = df5['Outs Pitched']\n",
    "ERA = df5['ERA']\n",
    "SO = df5['Strike Outs']\n",
    "Sal= df5['Salary'].values\n",
    "HR = df5['Home Runs']\n",
    "GS = df5['Games Started']\n",
    "sal_log = df5['sal-log']\n",
    "era_log10=df5['era_log10']"
   ]
  },
  {
   "cell_type": "markdown",
   "id": "c92e1a43-4f28-4724-940c-9e0370e0f34a",
   "metadata": {},
   "source": [
    "### Stats vs Raw Salary\n",
    "---"
   ]
  },
  {
   "cell_type": "code",
   "execution_count": 137,
   "id": "8539d8a5-95c6-4691-948b-ac50603c6bb8",
   "metadata": {},
   "outputs": [
    {
     "data": {
      "image/png": "[encoded data removed]",
      "text/plain": [
       "<Figure size 432x288 with 1 Axes>"
      ]
     },
     "metadata": {
      "needs_background": "light"
     },
     "output_type": "display_data"
    }
   ],
   "source": [
    "plt.scatter(BFP,Sal)\n",
    "plt.xlabel('Batters Faced by Pitcher')\n",
    "plt.ylabel('Salary')\n",
    "plt.show()"
   ]
  },
  {
   "cell_type": "code",
   "execution_count": 138,
   "id": "4de32da3-3fb9-49c2-a9cd-bf12954cc849",
   "metadata": {},
   "outputs": [
    {
     "data": {
      "image/png": "[encoded data removed]",
      "text/plain": [
       "<Figure size 432x288 with 1 Axes>"
      ]
     },
     "metadata": {
      "needs_background": "light"
     },
     "output_type": "display_data"
    }
   ],
   "source": [
    "plt.scatter(OP,Sal)\n",
    "plt.xlabel('Outs Pitched')\n",
    "plt.ylabel('Salary')\n",
    "plt.show()"
   ]
  },
  {
   "cell_type": "code",
   "execution_count": 139,
   "id": "d810982e-732e-405d-8f39-f831f965eb19",
   "metadata": {},
   "outputs": [
    {
     "data": {
      "image/png": "[encoded data removed]",
      "text/plain": [
       "<Figure size 432x288 with 1 Axes>"
      ]
     },
     "metadata": {
      "needs_background": "light"
     },
     "output_type": "display_data"
    }
   ],
   "source": [
    "plt.scatter(ERA,Sal)\n",
    "plt.xlabel('Earned Runs Average')\n",
    "plt.ylabel('Salary')\n",
    "plt.show()"
   ]
  },
  {
   "cell_type": "code",
   "execution_count": 140,
   "id": "9a7c042d-7621-4e73-a218-17d75f77c94a",
   "metadata": {},
   "outputs": [
    {
     "data": {
      "image/png": "[encoded data removed]",
      "text/plain": [
       "<Figure size 432x288 with 1 Axes>"
      ]
     },
     "metadata": {
      "needs_background": "light"
     },
     "output_type": "display_data"
    }
   ],
   "source": [
    "plt.scatter(SO,Sal)\n",
    "plt.xlabel('Strike Outs')\n",
    "plt.ylabel('Salary')\n",
    "plt.show()"
   ]
  },
  {
   "cell_type": "code",
   "execution_count": 141,
   "id": "46d9a4bb-7d3d-4542-a51b-9eb403d0c60f",
   "metadata": {},
   "outputs": [
    {
     "data": {
      "image/png": "[encoded data removed]",
      "text/plain": [
       "<Figure size 432x288 with 1 Axes>"
      ]
     },
     "metadata": {
      "needs_background": "light"
     },
     "output_type": "display_data"
    }
   ],
   "source": [
    "plt.scatter(HR,Sal)\n",
    "plt.xlabel('Home Runs')\n",
    "plt.ylabel('Salary')\n",
    "plt.show()"
   ]
  },
  {
   "cell_type": "code",
   "execution_count": 142,
   "id": "7d4e50f8-e96f-46bc-bbdd-e68272fce805",
   "metadata": {},
   "outputs": [
    {
     "data": {
      "image/png": "[encoded data removed]",
      "text/plain": [
       "<Figure size 432x288 with 1 Axes>"
      ]
     },
     "metadata": {
      "needs_background": "light"
     },
     "output_type": "display_data"
    }
   ],
   "source": [
    "plt.scatter(GS,Sal)\n",
    "plt.xlabel('Games Started')\n",
    "plt.ylabel('Salary')\n",
    "plt.show()"
   ]
  },
  {
   "cell_type": "markdown",
   "id": "dce695c5-f773-4f60-8e01-2155416c8dd7",
   "metadata": {},
   "source": [
    "### Stats vs Log-Transformed Salary\n",
    "---"
   ]
  },
  {
   "cell_type": "code",
   "execution_count": 143,
   "id": "dab06c50-775c-482c-b5b5-0dfeb5c37735",
   "metadata": {},
   "outputs": [
    {
     "data": {
      "image/png": "[encoded data removed]",
      "text/plain": [
       "<Figure size 432x288 with 1 Axes>"
      ]
     },
     "metadata": {
      "needs_background": "light"
     },
     "output_type": "display_data"
    }
   ],
   "source": [
    "plt.scatter(BFP,sal_log)\n",
    "plt.xlabel('Batters Faced by Pitcher')\n",
    "plt.ylabel('Salary_log10')\n",
    "plt.show()"
   ]
  },
  {
   "cell_type": "code",
   "execution_count": 144,
   "id": "3cee8980-df14-4b5d-b4a3-8a8fa9e2a5fa",
   "metadata": {},
   "outputs": [
    {
     "data": {
      "image/png": "[encoded data removed]",
      "text/plain": [
       "<Figure size 432x288 with 1 Axes>"
      ]
     },
     "metadata": {
      "needs_background": "light"
     },
     "output_type": "display_data"
    }
   ],
   "source": [
    "plt.scatter(OP,sal_log)\n",
    "plt.xlabel('Outs Pitched')\n",
    "plt.ylabel('Salary_log10')\n",
    "plt.show()"
   ]
  },
  {
   "cell_type": "code",
   "execution_count": 146,
   "id": "68793656-3d74-4436-9c53-43700ad10b1c",
   "metadata": {},
   "outputs": [
    {
     "data": {
      "image/png": "[encoded data removed]",
      "text/plain": [
       "<Figure size 432x288 with 1 Axes>"
      ]
     },
     "metadata": {
      "needs_background": "light"
     },
     "output_type": "display_data"
    }
   ],
   "source": [
    "plt.scatter(ERA,sal_log)\n",
    "plt.xlabel('Earned Runs Average')\n",
    "plt.ylabel('Salary_log10')\n",
    "plt.show()"
   ]
  },
  {
   "cell_type": "code",
   "execution_count": 150,
   "id": "22471204-ca01-4d76-bf35-77dc63046ec0",
   "metadata": {},
   "outputs": [
    {
     "data": {
      "image/png": "[encoded data removed]",
      "text/plain": [
       "<Figure size 432x288 with 1 Axes>"
      ]
     },
     "metadata": {
      "needs_background": "light"
     },
     "output_type": "display_data"
    }
   ],
   "source": [
    "plt.scatter(era_log10,sal_log)\n",
    "plt.xlabel('ERA log10')\n",
    "plt.ylabel('Salary log10')\n",
    "plt.show()"
   ]
  },
  {
   "cell_type": "code",
   "execution_count": 152,
   "id": "280afa5d-76dd-4699-b31f-f945c49848df",
   "metadata": {},
   "outputs": [
    {
     "data": {
      "image/png": "[encoded data removed]",
      "text/plain": [
       "<Figure size 432x288 with 1 Axes>"
      ]
     },
     "metadata": {
      "needs_background": "light"
     },
     "output_type": "display_data"
    }
   ],
   "source": [
    "era_logN = df5['era_logN']\n",
    "sal_logN = df5['sal_logN']\n",
    "\n",
    "plt.scatter(era_logN,sal_logN)\n",
    "plt.xlabel('ERA logN')\n",
    "plt.ylabel('Salary logN')\n",
    "plt.show()"
   ]
  },
  {
   "cell_type": "code",
   "execution_count": null,
   "id": "7ab31204-5cc4-4bf4-b7da-bb7e162eb1f4",
   "metadata": {},
   "outputs": [],
   "source": []
  }
 ],
 "metadata": {
  "kernelspec": {
   "display_name": "mlenv",
   "language": "python",
   "name": "mlenv"
  },
  "language_info": {
   "codemirror_mode": {
    "name": "ipython",
    "version": 3
   },
   "file_extension": ".py",
   "mimetype": "text/x-python",
   "name": "python",
   "nbconvert_exporter": "python",
   "pygments_lexer": "ipython3",
   "version": "3.7.11"
  }
 },
 "nbformat": 4,
 "nbformat_minor": 5
}
