{
 "cells": [
  {
   "cell_type": "code",
   "execution_count": 1,
   "id": "beba0125-2690-4ce7-a1e6-f712718a159d",
   "metadata": {},
   "outputs": [],
   "source": [
    "# import dependencies\n",
    "%matplotlib inline\n",
    "import pandas as pd\n",
    "from pathlib import Path\n",
    "import matplotlib.pyplot as plt\n",
    "from sklearn.linear_model import LinearRegression\n",
    "import numpy as np\n",
    "from sklearn.metrics import mean_squared_error, r2_score\n",
    "from sklearn.model_selection import train_test_split\n",
    "from sklearn.preprocessing import StandardScaler,OneHotEncoder, MinMaxScaler"
   ]
  },
  {
   "cell_type": "code",
   "execution_count": 2,
   "id": "f2757115-d642-47c7-b3e2-173aa9ff2953",
   "metadata": {},
   "outputs": [
    {
     "data": {
      "text/html": [
       "<div>\n",
       "<style scoped>\n",
       "    .dataframe tbody tr th:only-of-type {\n",
       "        vertical-align: middle;\n",
       "    }\n",
       "\n",
       "    .dataframe tbody tr th {\n",
       "        vertical-align: top;\n",
       "    }\n",
       "\n",
       "    .dataframe thead th {\n",
       "        text-align: right;\n",
       "    }\n",
       "</style>\n",
       "<table border=\"1\" class=\"dataframe\">\n",
       "  <thead>\n",
       "    <tr style=\"text-align: right;\">\n",
       "      <th></th>\n",
       "      <th>Year</th>\n",
       "      <th>Full Name</th>\n",
       "      <th>Age</th>\n",
       "      <th>Salary</th>\n",
       "      <th>ERA</th>\n",
       "      <th>Hits</th>\n",
       "      <th>ER</th>\n",
       "      <th>SO</th>\n",
       "      <th>HR</th>\n",
       "      <th>Wins</th>\n",
       "      <th>Losses</th>\n",
       "      <th>OP</th>\n",
       "      <th>BFP</th>\n",
       "      <th>GF</th>\n",
       "      <th>Weight</th>\n",
       "      <th>Height</th>\n",
       "      <th>League</th>\n",
       "      <th>Team</th>\n",
       "      <th>GS</th>\n",
       "    </tr>\n",
       "  </thead>\n",
       "  <tbody>\n",
       "    <tr>\n",
       "      <th>0</th>\n",
       "      <td>1990</td>\n",
       "      <td>AbbottJim</td>\n",
       "      <td>23</td>\n",
       "      <td>185000</td>\n",
       "      <td>4.51</td>\n",
       "      <td>246</td>\n",
       "      <td>106</td>\n",
       "      <td>105</td>\n",
       "      <td>16</td>\n",
       "      <td>10</td>\n",
       "      <td>14</td>\n",
       "      <td>635</td>\n",
       "      <td>925</td>\n",
       "      <td>0</td>\n",
       "      <td>200</td>\n",
       "      <td>75</td>\n",
       "      <td>AL</td>\n",
       "      <td>CAL</td>\n",
       "      <td>33</td>\n",
       "    </tr>\n",
       "    <tr>\n",
       "      <th>1</th>\n",
       "      <td>1990</td>\n",
       "      <td>AbbottPaul</td>\n",
       "      <td>23</td>\n",
       "      <td>100000</td>\n",
       "      <td>5.97</td>\n",
       "      <td>37</td>\n",
       "      <td>23</td>\n",
       "      <td>25</td>\n",
       "      <td>0</td>\n",
       "      <td>0</td>\n",
       "      <td>5</td>\n",
       "      <td>104</td>\n",
       "      <td>162</td>\n",
       "      <td>0</td>\n",
       "      <td>185</td>\n",
       "      <td>75</td>\n",
       "      <td>AL</td>\n",
       "      <td>MIN</td>\n",
       "      <td>7</td>\n",
       "    </tr>\n",
       "    <tr>\n",
       "      <th>2</th>\n",
       "      <td>1990</td>\n",
       "      <td>AldredScott</td>\n",
       "      <td>22</td>\n",
       "      <td>100000</td>\n",
       "      <td>3.77</td>\n",
       "      <td>13</td>\n",
       "      <td>6</td>\n",
       "      <td>7</td>\n",
       "      <td>0</td>\n",
       "      <td>1</td>\n",
       "      <td>2</td>\n",
       "      <td>43</td>\n",
       "      <td>63</td>\n",
       "      <td>0</td>\n",
       "      <td>195</td>\n",
       "      <td>76</td>\n",
       "      <td>AL</td>\n",
       "      <td>DET</td>\n",
       "      <td>3</td>\n",
       "    </tr>\n",
       "    <tr>\n",
       "      <th>3</th>\n",
       "      <td>1990</td>\n",
       "      <td>AndersonAllan</td>\n",
       "      <td>26</td>\n",
       "      <td>300000</td>\n",
       "      <td>4.53</td>\n",
       "      <td>214</td>\n",
       "      <td>95</td>\n",
       "      <td>82</td>\n",
       "      <td>20</td>\n",
       "      <td>7</td>\n",
       "      <td>18</td>\n",
       "      <td>566</td>\n",
       "      <td>797</td>\n",
       "      <td>0</td>\n",
       "      <td>178</td>\n",
       "      <td>71</td>\n",
       "      <td>AL</td>\n",
       "      <td>MIN</td>\n",
       "      <td>31</td>\n",
       "    </tr>\n",
       "    <tr>\n",
       "      <th>4</th>\n",
       "      <td>1990</td>\n",
       "      <td>AppierKevin</td>\n",
       "      <td>23</td>\n",
       "      <td>100000</td>\n",
       "      <td>2.76</td>\n",
       "      <td>179</td>\n",
       "      <td>57</td>\n",
       "      <td>127</td>\n",
       "      <td>13</td>\n",
       "      <td>12</td>\n",
       "      <td>8</td>\n",
       "      <td>557</td>\n",
       "      <td>784</td>\n",
       "      <td>1</td>\n",
       "      <td>180</td>\n",
       "      <td>74</td>\n",
       "      <td>AL</td>\n",
       "      <td>KCA</td>\n",
       "      <td>24</td>\n",
       "    </tr>\n",
       "  </tbody>\n",
       "</table>\n",
       "</div>"
      ],
      "text/plain": [
       "   Year      Full Name  Age  Salary   ERA  Hits   ER   SO  HR  Wins  Losses  \\\n",
       "0  1990      AbbottJim   23  185000  4.51   246  106  105  16    10      14   \n",
       "1  1990     AbbottPaul   23  100000  5.97    37   23   25   0     0       5   \n",
       "2  1990    AldredScott   22  100000  3.77    13    6    7   0     1       2   \n",
       "3  1990  AndersonAllan   26  300000  4.53   214   95   82  20     7      18   \n",
       "4  1990    AppierKevin   23  100000  2.76   179   57  127  13    12       8   \n",
       "\n",
       "    OP  BFP  GF  Weight  Height League Team  GS  \n",
       "0  635  925   0     200      75     AL  CAL  33  \n",
       "1  104  162   0     185      75     AL  MIN   7  \n",
       "2   43   63   0     195      76     AL  DET   3  \n",
       "3  566  797   0     178      71     AL  MIN  31  \n",
       "4  557  784   1     180      74     AL  KCA  24  "
      ]
     },
     "execution_count": 2,
     "metadata": {},
     "output_type": "execute_result"
    }
   ],
   "source": [
    "# read in csv as pandas dataframe\n",
    "df = pd.read_csv(Path('resources/clean-col_outliers-OUT.csv'))\n",
    "df.head()"
   ]
  },
  {
   "cell_type": "code",
   "execution_count": 3,
   "id": "ce26da40-2073-4436-93ac-cfefee781b27",
   "metadata": {},
   "outputs": [
    {
     "name": "stderr",
     "output_type": "stream",
     "text": [
      "C:\\Users\\alyss\\anaconda3\\envs\\mlenv\\lib\\site-packages\\ipykernel_launcher.py:3: FutureWarning: In a future version of pandas all arguments of DataFrame.drop except for the argument 'labels' will be keyword-only\n",
      "  This is separate from the ipykernel package so we can avoid doing imports until\n"
     ]
    }
   ],
   "source": [
    "# Split our preprocessed data into our features and target arrays\n",
    "y = df['Salary'].values\n",
    "X = df.drop(['Salary','Year','Full Name','Height','Weight','League','Team'],1).values\n",
    "\n",
    "# Split the preprocessed data into a training and testing dataset\n",
    "X_train, X_test, y_train, y_test = train_test_split(X, y,random_state=1)"
   ]
  },
  {
   "cell_type": "code",
   "execution_count": 4,
   "id": "bb236dc8-633c-484f-838d-4a9da73b4ee7",
   "metadata": {},
   "outputs": [
    {
     "data": {
      "text/plain": [
       "LinearRegression()"
      ]
     },
     "execution_count": 4,
     "metadata": {},
     "output_type": "execute_result"
    }
   ],
   "source": [
    "# Create the model and fit the model to the data\n",
    "model = LinearRegression()\n",
    "model"
   ]
  },
  {
   "cell_type": "code",
   "execution_count": 5,
   "id": "88c79845-393f-4799-bad3-214b87f9e583",
   "metadata": {},
   "outputs": [
    {
     "name": "stdout",
     "output_type": "stream",
     "text": [
      "Training Score: 30.34%\n",
      "Testing Score: 31.40%\n"
     ]
    }
   ],
   "source": [
    "# Fit the model to the training data, and calculate the scores for the training and testing data.\n",
    "\n",
    "model.fit(X_train, y_train)\n",
    "training_score = model.score(X_train, y_train)\n",
    "testing_score = model.score(X_test, y_test)\n",
    "\n",
    "print(f\"Training Score: {training_score*100:.2f}%\")\n",
    "print(f\"Testing Score: {testing_score*100:.2f}%\")"
   ]
  },
  {
   "cell_type": "code",
   "execution_count": 6,
   "id": "61448d70-d2dc-4adb-8106-8d28ce61bd6c",
   "metadata": {},
   "outputs": [
    {
     "name": "stdout",
     "output_type": "stream",
     "text": [
      "mean squared error (MSE): 3572092471054.88\n",
      "R-squared (R2 ): 0.31\n"
     ]
    }
   ],
   "source": [
    "# Score the prediction with MSE and R2\n",
    "y_pred = model.predict(X_test)\n",
    "mse = mean_squared_error(y_test, y_pred)\n",
    "r2 = r2_score(y_test, y_pred)\n",
    "\n",
    "print(f\"mean squared error (MSE): {mse:.2f}\")\n",
    "print(f\"R-squared (R2 ): {r2:.2f}\")"
   ]
  },
  {
   "cell_type": "code",
   "execution_count": 7,
   "id": "861a844b-db8f-4eb9-9840-faaf169dc511",
   "metadata": {},
   "outputs": [
    {
     "name": "stdout",
     "output_type": "stream",
     "text": [
      "Weight coefficients:  [267798.84453735 -47609.24190816  20663.72016327   4281.60568066\n",
      "  18703.44569443 -12137.00806205  24330.02193786  -3393.07978683\n",
      "   7328.70834262 -15457.20284052 -23486.31543517  82780.00900613]\n",
      "y-axis intercept:  -5993375.1907234285\n"
     ]
    }
   ],
   "source": [
    "# Print the coefficient and the intercept for the model.\n",
    "\n",
    "print('Weight coefficients: ', model.coef_)\n",
    "print('y-axis intercept: ', model.intercept_)"
   ]
  },
  {
   "cell_type": "code",
   "execution_count": 8,
   "id": "fde0f1b2-62c6-45da-98c2-5af0500e058a",
   "metadata": {},
   "outputs": [
    {
     "data": {
      "image/png": "[encoded data removed]",
      "text/plain": [
       "<Figure size 432x288 with 1 Axes>"
      ]
     },
     "metadata": {
      "needs_background": "light"
     },
     "output_type": "display_data"
    }
   ],
   "source": [
    "# Plot the residuals for the training and testing data.\n",
    "\n",
    "plt.scatter(model.predict(X_train), model.predict(X_train) - y_train, c=\"blue\", label=\"Training Data\")\n",
    "plt.scatter(model.predict(X_test), model.predict(X_test) - y_test, c=\"orange\", label=\"Testing Data\")\n",
    "plt.legend()\n",
    "plt.hlines(y=0, xmin=y.min(0), xmax=y.max(0))\n",
    "plt.title(\"Residual Plot\")\n",
    "plt.show()"
   ]
  },
  {
   "cell_type": "markdown",
   "id": "8c055c5a-f4e6-4ddb-9ea7-458ae314ebc9",
   "metadata": {},
   "source": [
    "### Scaled with StandardScaler\n",
    "---"
   ]
  },
  {
   "cell_type": "code",
   "execution_count": 9,
   "id": "fec1a8b9-0cab-4bd7-beac-7aa2b689a61e",
   "metadata": {},
   "outputs": [],
   "source": [
    "# Create a StandardScaler instance\n",
    "scaler = StandardScaler()\n",
    "\n",
    "# Fit the StandardScaler\n",
    "X_scaler = scaler.fit(X_train)\n",
    "\n",
    "# Scale the data\n",
    "X_train_scaled = X_scaler.transform(X_train)\n",
    "X_test_scaled = X_scaler.transform(X_test)"
   ]
  },
  {
   "cell_type": "code",
   "execution_count": 10,
   "id": "fba36bc3-f81d-4507-a445-6b3a7a5d7570",
   "metadata": {},
   "outputs": [
    {
     "data": {
      "text/plain": [
       "LinearRegression()"
      ]
     },
     "execution_count": 10,
     "metadata": {},
     "output_type": "execute_result"
    }
   ],
   "source": [
    "# Create the model and fit the model to the data\n",
    "model = LinearRegression()\n",
    "model"
   ]
  },
  {
   "cell_type": "code",
   "execution_count": 11,
   "id": "56a7304f-93d8-4760-9f64-4d3f60a2dbad",
   "metadata": {},
   "outputs": [
    {
     "name": "stdout",
     "output_type": "stream",
     "text": [
      "Training Score: 30.34%\n",
      "Testing Score: 31.40%\n"
     ]
    }
   ],
   "source": [
    "# Fit the model to the training data, and calculate the scores for the training and testing data.\n",
    "\n",
    "model.fit(X_train_scaled, y_train)\n",
    "training_score = model.score(X_train_scaled, y_train)\n",
    "testing_score = model.score(X_test_scaled, y_test)\n",
    "\n",
    "print(f\"Training Score: {training_score*100:.2f}%\")\n",
    "print(f\"Testing Score: {testing_score*100:.2f}%\")"
   ]
  },
  {
   "cell_type": "code",
   "execution_count": 12,
   "id": "20d28933-2b06-40b9-a691-f235ea744cb6",
   "metadata": {},
   "outputs": [
    {
     "name": "stdout",
     "output_type": "stream",
     "text": [
      "mean squared error (MSE): 3572092471054.88\n",
      "R-squared (R2 ): 0.31\n"
     ]
    }
   ],
   "source": [
    "# Score the prediction with MSE and R2\n",
    "y_pred = model.predict(X_test_scaled)\n",
    "mse = mean_squared_error(y_test, y_pred)\n",
    "r2 = r2_score(y_test, y_pred)\n",
    "\n",
    "print(f\"mean squared error (MSE): {mse:.2f}\")\n",
    "print(f\"R-squared (R2 ): {r2:.2f}\")"
   ]
  },
  {
   "cell_type": "code",
   "execution_count": 13,
   "id": "c2f34afb-1adc-4b0a-82b6-d56488c5ea80",
   "metadata": {},
   "outputs": [
    {
     "data": {
      "image/png": "[encoded data removed]",
      "text/plain": [
       "<Figure size 432x288 with 1 Axes>"
      ]
     },
     "metadata": {
      "needs_background": "light"
     },
     "output_type": "display_data"
    }
   ],
   "source": [
    "# Plot the residuals for the training and testing data.\n",
    "\n",
    "plt.scatter(model.predict(X_train_scaled), model.predict(X_train_scaled) - y_train, c=\"blue\", label=\"Training Data\")\n",
    "plt.scatter(model.predict(X_test_scaled), model.predict(X_test_scaled) - y_test, c=\"orange\", label=\"Testing Data\")\n",
    "plt.legend()\n",
    "plt.hlines(y=0, xmin=y.min(), xmax=y.max())\n",
    "plt.title(\"Residual Plot\")\n",
    "plt.show()"
   ]
  },
  {
   "cell_type": "markdown",
   "id": "6c4e6924-b1b5-4429-b80b-33ece9874385",
   "metadata": {},
   "source": [
    "### Using MinMaxScaler\n",
    "---"
   ]
  },
  {
   "cell_type": "code",
   "execution_count": 14,
   "id": "c3f0c6db-043e-45b5-8842-cb56b4dd172e",
   "metadata": {},
   "outputs": [],
   "source": [
    "# Create a scaler instance\n",
    "scaler = MinMaxScaler()\n",
    "\n",
    "# Fit the StandardScaler\n",
    "X_scaler = scaler.fit(X_train)\n",
    "\n",
    "# Scale the data\n",
    "X_train_minMax = X_scaler.transform(X_train)\n",
    "X_test_minMax = X_scaler.transform(X_test)"
   ]
  },
  {
   "cell_type": "code",
   "execution_count": 15,
   "id": "006c9753-8193-4f5f-8ae0-9791d0405007",
   "metadata": {},
   "outputs": [
    {
     "data": {
      "text/plain": [
       "LinearRegression()"
      ]
     },
     "execution_count": 15,
     "metadata": {},
     "output_type": "execute_result"
    }
   ],
   "source": [
    "# Create the model and fit the model to the data\n",
    "model = LinearRegression()\n",
    "model"
   ]
  },
  {
   "cell_type": "code",
   "execution_count": 16,
   "id": "6a050720-0a88-449c-b6ad-3254c01fe52f",
   "metadata": {},
   "outputs": [
    {
     "name": "stdout",
     "output_type": "stream",
     "text": [
      "Training Score: 30.34%\n",
      "Testing Score: 31.40%\n"
     ]
    }
   ],
   "source": [
    "# Fit the model to the training data, and calculate the scores for the training and testing data.\n",
    "\n",
    "model.fit(X_train_minMax, y_train)\n",
    "training_score = model.score(X_train_minMax, y_train)\n",
    "testing_score = model.score(X_test_minMax, y_test)\n",
    "\n",
    "print(f\"Training Score: {training_score*100:.2f}%\")\n",
    "print(f\"Testing Score: {testing_score*100:.2f}%\")"
   ]
  },
  {
   "cell_type": "code",
   "execution_count": 17,
   "id": "24dc0c7d-3435-44f9-89e8-bd750b5ca121",
   "metadata": {},
   "outputs": [
    {
     "name": "stdout",
     "output_type": "stream",
     "text": [
      "mean squared error (MSE): 3572092471054.88\n",
      "R-squared (R2 ): 0.31\n"
     ]
    }
   ],
   "source": [
    "# Score the prediction with MSE and R2\n",
    "y_pred = model.predict(X_test_minMax)\n",
    "mse = mean_squared_error(y_test, y_pred)\n",
    "r2 = r2_score(y_test, y_pred)\n",
    "\n",
    "print(f\"mean squared error (MSE): {mse:.2f}\")\n",
    "print(f\"R-squared (R2 ): {r2:.2f}\")"
   ]
  },
  {
   "cell_type": "code",
   "execution_count": 18,
   "id": "d078d238-67c0-4a45-8aad-d9c359e8fe7c",
   "metadata": {},
   "outputs": [
    {
     "data": {
      "image/png": "[encoded data removed]",
      "text/plain": [
       "<Figure size 432x288 with 1 Axes>"
      ]
     },
     "metadata": {
      "needs_background": "light"
     },
     "output_type": "display_data"
    }
   ],
   "source": [
    "# Plot the residuals for the training and testing data.\n",
    "\n",
    "plt.scatter(model.predict(X_train_minMax), model.predict(X_train_minMax) - y_train, c=\"blue\", label=\"Training Data\")\n",
    "plt.scatter(model.predict(X_test_minMax), model.predict(X_test_minMax) - y_test, c=\"orange\", label=\"Testing Data\")\n",
    "plt.legend()\n",
    "plt.hlines(y=0, xmin=y.min(), xmax=y.max())\n",
    "plt.title(\"Residual Plot\")\n",
    "plt.show()"
   ]
  },
  {
   "cell_type": "code",
   "execution_count": null,
   "id": "f8843e05-256f-445d-91c0-02c2aa65a0a2",
   "metadata": {},
   "outputs": [],
   "source": []
  }
 ],
 "metadata": {
  "kernelspec": {
   "display_name": "mlenv",
   "language": "python",
   "name": "mlenv"
  },
  "language_info": {
   "codemirror_mode": {
    "name": "ipython",
    "version": 3
   },
   "file_extension": ".py",
   "mimetype": "text/x-python",
   "name": "python",
   "nbconvert_exporter": "python",
   "pygments_lexer": "ipython3",
   "version": "3.7.11"
  }
 },
 "nbformat": 4,
 "nbformat_minor": 5
}
