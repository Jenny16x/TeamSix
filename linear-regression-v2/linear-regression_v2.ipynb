{
 "cells": [
  {
   "cell_type": "code",
   "execution_count": 1,
   "id": "8e653956-922d-45df-82ed-2a8b438abd86",
   "metadata": {},
   "outputs": [],
   "source": [
    "# import dependencies\n",
    "%matplotlib inline\n",
    "import pandas as pd\n",
    "from pathlib import Path\n",
    "import matplotlib.pyplot as plt\n",
    "from sklearn.linear_model import LinearRegression\n",
    "import numpy as np"
   ]
  },
  {
   "cell_type": "code",
   "execution_count": 2,
   "id": "825cc554-9900-4d5a-b94f-23834ae6bf72",
   "metadata": {},
   "outputs": [
    {
     "data": {
      "text/html": [
       "<div>\n",
       "<style scoped>\n",
       "    .dataframe tbody tr th:only-of-type {\n",
       "        vertical-align: middle;\n",
       "    }\n",
       "\n",
       "    .dataframe tbody tr th {\n",
       "        vertical-align: top;\n",
       "    }\n",
       "\n",
       "    .dataframe thead th {\n",
       "        text-align: right;\n",
       "    }\n",
       "</style>\n",
       "<table border=\"1\" class=\"dataframe\">\n",
       "  <thead>\n",
       "    <tr style=\"text-align: right;\">\n",
       "      <th></th>\n",
       "      <th>Year</th>\n",
       "      <th>Full Name</th>\n",
       "      <th>Age</th>\n",
       "      <th>Salary</th>\n",
       "      <th>ERA</th>\n",
       "      <th>Hits</th>\n",
       "      <th>Earned Runs</th>\n",
       "      <th>Strike Outs</th>\n",
       "      <th>Home Runs</th>\n",
       "      <th>Wins</th>\n",
       "      <th>Losses</th>\n",
       "      <th>Weight</th>\n",
       "      <th>Height</th>\n",
       "      <th>League</th>\n",
       "      <th>Team</th>\n",
       "      <th>Games Started</th>\n",
       "    </tr>\n",
       "  </thead>\n",
       "  <tbody>\n",
       "    <tr>\n",
       "      <th>0</th>\n",
       "      <td>1990</td>\n",
       "      <td>AbbottJim</td>\n",
       "      <td>23.0</td>\n",
       "      <td>185000.0</td>\n",
       "      <td>4.51</td>\n",
       "      <td>246</td>\n",
       "      <td>106</td>\n",
       "      <td>105</td>\n",
       "      <td>16</td>\n",
       "      <td>10</td>\n",
       "      <td>14</td>\n",
       "      <td>200.0</td>\n",
       "      <td>75.0</td>\n",
       "      <td>AL</td>\n",
       "      <td>CAL</td>\n",
       "      <td>33</td>\n",
       "    </tr>\n",
       "    <tr>\n",
       "      <th>1</th>\n",
       "      <td>1990</td>\n",
       "      <td>AbbottPaul</td>\n",
       "      <td>23.0</td>\n",
       "      <td>100000.0</td>\n",
       "      <td>5.97</td>\n",
       "      <td>37</td>\n",
       "      <td>23</td>\n",
       "      <td>25</td>\n",
       "      <td>0</td>\n",
       "      <td>0</td>\n",
       "      <td>5</td>\n",
       "      <td>185.0</td>\n",
       "      <td>75.0</td>\n",
       "      <td>AL</td>\n",
       "      <td>MIN</td>\n",
       "      <td>7</td>\n",
       "    </tr>\n",
       "    <tr>\n",
       "      <th>2</th>\n",
       "      <td>1990</td>\n",
       "      <td>AldredScott</td>\n",
       "      <td>22.0</td>\n",
       "      <td>100000.0</td>\n",
       "      <td>3.77</td>\n",
       "      <td>13</td>\n",
       "      <td>6</td>\n",
       "      <td>7</td>\n",
       "      <td>0</td>\n",
       "      <td>1</td>\n",
       "      <td>2</td>\n",
       "      <td>195.0</td>\n",
       "      <td>76.0</td>\n",
       "      <td>AL</td>\n",
       "      <td>DET</td>\n",
       "      <td>3</td>\n",
       "    </tr>\n",
       "    <tr>\n",
       "      <th>3</th>\n",
       "      <td>1990</td>\n",
       "      <td>AndersonAllan</td>\n",
       "      <td>26.0</td>\n",
       "      <td>300000.0</td>\n",
       "      <td>4.53</td>\n",
       "      <td>214</td>\n",
       "      <td>95</td>\n",
       "      <td>82</td>\n",
       "      <td>20</td>\n",
       "      <td>7</td>\n",
       "      <td>18</td>\n",
       "      <td>178.0</td>\n",
       "      <td>71.0</td>\n",
       "      <td>AL</td>\n",
       "      <td>MIN</td>\n",
       "      <td>31</td>\n",
       "    </tr>\n",
       "    <tr>\n",
       "      <th>4</th>\n",
       "      <td>1990</td>\n",
       "      <td>AppierKevin</td>\n",
       "      <td>23.0</td>\n",
       "      <td>100000.0</td>\n",
       "      <td>2.76</td>\n",
       "      <td>179</td>\n",
       "      <td>57</td>\n",
       "      <td>127</td>\n",
       "      <td>13</td>\n",
       "      <td>12</td>\n",
       "      <td>8</td>\n",
       "      <td>180.0</td>\n",
       "      <td>74.0</td>\n",
       "      <td>AL</td>\n",
       "      <td>KCA</td>\n",
       "      <td>24</td>\n",
       "    </tr>\n",
       "  </tbody>\n",
       "</table>\n",
       "</div>"
      ],
      "text/plain": [
       "   Year      Full Name   Age    Salary   ERA  Hits  Earned Runs  Strike Outs  \\\n",
       "0  1990      AbbottJim  23.0  185000.0  4.51   246          106          105   \n",
       "1  1990     AbbottPaul  23.0  100000.0  5.97    37           23           25   \n",
       "2  1990    AldredScott  22.0  100000.0  3.77    13            6            7   \n",
       "3  1990  AndersonAllan  26.0  300000.0  4.53   214           95           82   \n",
       "4  1990    AppierKevin  23.0  100000.0  2.76   179           57          127   \n",
       "\n",
       "   Home Runs  Wins  Losses  Weight  Height League Team  Games Started  \n",
       "0         16    10      14   200.0    75.0     AL  CAL             33  \n",
       "1          0     0       5   185.0    75.0     AL  MIN              7  \n",
       "2          0     1       2   195.0    76.0     AL  DET              3  \n",
       "3         20     7      18   178.0    71.0     AL  MIN             31  \n",
       "4         13    12       8   180.0    74.0     AL  KCA             24  "
      ]
     },
     "execution_count": 2,
     "metadata": {},
     "output_type": "execute_result"
    }
   ],
   "source": [
    "# read in csv as pandas dataframe\n",
    "df = pd.read_csv(Path('./resources/pitcher_salaries_cleaned.csv'))\n",
    "df.head()"
   ]
  },
  {
   "cell_type": "code",
   "execution_count": 3,
   "id": "45e7d748-eb5b-4cb1-b42e-0541b78faab5",
   "metadata": {},
   "outputs": [
    {
     "data": {
      "image/png": "[encoded data removed]",
      "text/plain": [
       "<Figure size 432x288 with 1 Axes>"
      ]
     },
     "metadata": {
      "needs_background": "light"
     },
     "output_type": "display_data"
    }
   ],
   "source": [
    "# visually inspect relationship between yrs ERA and salary\n",
    "plt.scatter(df.ERA, df.Salary)\n",
    "plt.xlabel('ERA')\n",
    "plt.ylabel('Salary')\n",
    "plt.show()"
   ]
  },
  {
   "cell_type": "code",
   "execution_count": 4,
   "id": "bf9c9a94-3dca-44f4-b1f7-2069d008d989",
   "metadata": {},
   "outputs": [],
   "source": [
    "# format data to meet requirements of SciKit-learn library\n",
    "X=df.ERA.values.reshape(-1,1)"
   ]
  },
  {
   "cell_type": "code",
   "execution_count": 5,
   "id": "1180c444-5bac-40fb-b34d-06512c8171e4",
   "metadata": {},
   "outputs": [
    {
     "data": {
      "text/plain": [
       "(4937, 1)"
      ]
     },
     "execution_count": 5,
     "metadata": {},
     "output_type": "execute_result"
    }
   ],
   "source": [
    "# verify shape of X\n",
    "X.shape"
   ]
  },
  {
   "cell_type": "code",
   "execution_count": 21,
   "id": "fb9294f4-0fce-4b4c-b78d-5c87515d9ac1",
   "metadata": {},
   "outputs": [
    {
     "data": {
      "text/plain": [
       "(4937,)"
      ]
     },
     "execution_count": 21,
     "metadata": {},
     "output_type": "execute_result"
    }
   ],
   "source": [
    "# set target variable\n",
    "y=df['Salary']\n",
    "y.shape"
   ]
  },
  {
   "cell_type": "code",
   "execution_count": 22,
   "id": "eb251290-f1a2-47d1-a961-2b76e148b4b1",
   "metadata": {},
   "outputs": [],
   "source": [
    "# Use the Sklearn `train_test_split()` function to split the data into training and testing data\n",
    "from sklearn.model_selection import train_test_split\n",
    "\n",
    "X_train, X_test, y_train, y_test = train_test_split(X, y, random_state=1)"
   ]
  },
  {
   "cell_type": "code",
   "execution_count": 23,
   "id": "176fc85d-63c7-40e0-b47c-c234700a1f9d",
   "metadata": {},
   "outputs": [],
   "source": [
    "# create instance of linear regression model\n",
    "model=LinearRegression()"
   ]
  },
  {
   "cell_type": "code",
   "execution_count": 24,
   "id": "1d073b79-c982-4150-9173-4653f0ddecdd",
   "metadata": {},
   "outputs": [
    {
     "data": {
      "text/plain": [
       "LinearRegression()"
      ]
     },
     "execution_count": 24,
     "metadata": {},
     "output_type": "execute_result"
    }
   ],
   "source": [
    "# fitting /training/modeling\n",
    "model.fit(X,y)\n",
    "model"
   ]
  },
  {
   "cell_type": "code",
   "execution_count": 25,
   "id": "212afd43-07da-40a3-ad21-6128630f59d1",
   "metadata": {},
   "outputs": [
    {
     "name": "stdout",
     "output_type": "stream",
     "text": [
      "Weight coefficients:  [-484096.81970118]\n",
      "y-axis intercept:  5256563.535254093\n"
     ]
    }
   ],
   "source": [
    "# Print the coefficient and the intercept for the model.\n",
    "\n",
    "### BEGIN SOLUTION\n",
    "print('Weight coefficients: ', model.coef_)\n",
    "print('y-axis intercept: ', model.intercept_)"
   ]
  },
  {
   "cell_type": "code",
   "execution_count": 26,
   "id": "8358310c-b6c6-4575-a417-b5ee9a5f9556",
   "metadata": {},
   "outputs": [
    {
     "name": "stdout",
     "output_type": "stream",
     "text": [
      "Min X Value: [[0.9]]\n",
      "Max X Value: [[15.71]]\n"
     ]
    }
   ],
   "source": [
    "# Note: We have to transform our min and max values \n",
    "# so they are in the format of array([[0.4999]]).\n",
    "# This is the required format for `model.predict()`.\n",
    "\n",
    "x_min = np.array([[X.min()]])\n",
    "x_max = np.array([[X.max()]])\n",
    "print(f\"Min X Value: {x_min}\")\n",
    "print(f\"Max X Value: {x_max}\")"
   ]
  },
  {
   "cell_type": "code",
   "execution_count": 27,
   "id": "dc49d4b4-c3ac-4512-9d10-47dfc221929e",
   "metadata": {},
   "outputs": [],
   "source": [
    "# Calculate the y_min and y_max by using model.predict and x_min and x_max.\n",
    "\n",
    "### BEGIN SOLUTION\n",
    "y_min = model.predict(x_min)\n",
    "y_max = model.predict(x_max)"
   ]
  },
  {
   "cell_type": "code",
   "execution_count": 28,
   "id": "38c9f2bd-235c-4775-9a11-bd798213b781",
   "metadata": {},
   "outputs": [
    {
     "data": {
      "text/plain": [
       "[<matplotlib.lines.Line2D at 0x252d0f1b788>]"
      ]
     },
     "execution_count": 28,
     "metadata": {},
     "output_type": "execute_result"
    },
    {
     "data": {
      "image/png": "[encoded data removed]",
      "text/plain": [
       "<Figure size 432x288 with 1 Axes>"
      ]
     },
     "metadata": {
      "needs_background": "light"
     },
     "output_type": "display_data"
    }
   ],
   "source": [
    "# Plot X and y by using plt.scatter.\n",
    "# Plot the model fit line by using [x_min[0], x_max[0]], [y_min[0], y_max[0]].\n",
    "\n",
    "### BEGIN SOLUTION\n",
    "plt.scatter(X, y, c='blue')\n",
    "plt.plot([x_min[0], x_max[0]], [y_min[0], y_max[0]], c='red')"
   ]
  },
  {
   "cell_type": "code",
   "execution_count": 29,
   "id": "b1cd154d-43d3-4028-876c-f619327c1739",
   "metadata": {},
   "outputs": [
    {
     "name": "stdout",
     "output_type": "stream",
     "text": [
      "(4937,)\n"
     ]
    }
   ],
   "source": [
    "# generate predictions\n",
    "y_pred=model.predict(X)\n",
    "print(y_pred.shape)"
   ]
  },
  {
   "cell_type": "code",
   "execution_count": 37,
   "id": "ca50380d-8f0f-4ee2-9972-7eabdb4830fa",
   "metadata": {},
   "outputs": [],
   "source": [
    "pd.options.display.float_format='{:,.0f}'.format"
   ]
  },
  {
   "cell_type": "code",
   "execution_count": 38,
   "id": "6c6e09ae-05d9-40b9-a2ba-6b47861355c0",
   "metadata": {},
   "outputs": [
    {
     "data": {
      "text/html": [
       "<div>\n",
       "<style scoped>\n",
       "    .dataframe tbody tr th:only-of-type {\n",
       "        vertical-align: middle;\n",
       "    }\n",
       "\n",
       "    .dataframe tbody tr th {\n",
       "        vertical-align: top;\n",
       "    }\n",
       "\n",
       "    .dataframe thead th {\n",
       "        text-align: right;\n",
       "    }\n",
       "</style>\n",
       "<table border=\"1\" class=\"dataframe\">\n",
       "  <thead>\n",
       "    <tr style=\"text-align: right;\">\n",
       "      <th></th>\n",
       "      <th>Prediction</th>\n",
       "      <th>Actual</th>\n",
       "    </tr>\n",
       "  </thead>\n",
       "  <tbody>\n",
       "    <tr>\n",
       "      <th>0</th>\n",
       "      <td>2,652,123</td>\n",
       "      <td>12,000,000</td>\n",
       "    </tr>\n",
       "    <tr>\n",
       "      <th>1</th>\n",
       "      <td>2,787,670</td>\n",
       "      <td>397,500</td>\n",
       "    </tr>\n",
       "    <tr>\n",
       "      <th>2</th>\n",
       "      <td>3,813,955</td>\n",
       "      <td>1,825,000</td>\n",
       "    </tr>\n",
       "    <tr>\n",
       "      <th>3</th>\n",
       "      <td>4,220,596</td>\n",
       "      <td>392,000</td>\n",
       "    </tr>\n",
       "    <tr>\n",
       "      <th>4</th>\n",
       "      <td>2,371,346</td>\n",
       "      <td>109,000</td>\n",
       "    </tr>\n",
       "    <tr>\n",
       "      <th>5</th>\n",
       "      <td>3,441,200</td>\n",
       "      <td>1,325,000</td>\n",
       "    </tr>\n",
       "    <tr>\n",
       "      <th>6</th>\n",
       "      <td>3,746,181</td>\n",
       "      <td>6,000,000</td>\n",
       "    </tr>\n",
       "    <tr>\n",
       "      <th>7</th>\n",
       "      <td>2,855,443</td>\n",
       "      <td>150,000</td>\n",
       "    </tr>\n",
       "    <tr>\n",
       "      <th>8</th>\n",
       "      <td>2,744,101</td>\n",
       "      <td>4,850,000</td>\n",
       "    </tr>\n",
       "    <tr>\n",
       "      <th>9</th>\n",
       "      <td>3,910,774</td>\n",
       "      <td>10,000,000</td>\n",
       "    </tr>\n",
       "    <tr>\n",
       "      <th>10</th>\n",
       "      <td>3,199,152</td>\n",
       "      <td>675,000</td>\n",
       "    </tr>\n",
       "    <tr>\n",
       "      <th>11</th>\n",
       "      <td>1,727,498</td>\n",
       "      <td>140,000</td>\n",
       "    </tr>\n",
       "    <tr>\n",
       "      <th>12</th>\n",
       "      <td>2,526,257</td>\n",
       "      <td>20,833,333</td>\n",
       "    </tr>\n",
       "    <tr>\n",
       "      <th>13</th>\n",
       "      <td>3,494,451</td>\n",
       "      <td>3,500,000</td>\n",
       "    </tr>\n",
       "    <tr>\n",
       "      <th>14</th>\n",
       "      <td>3,310,494</td>\n",
       "      <td>1,025,000</td>\n",
       "    </tr>\n",
       "    <tr>\n",
       "      <th>15</th>\n",
       "      <td>788,350</td>\n",
       "      <td>109,000</td>\n",
       "    </tr>\n",
       "    <tr>\n",
       "      <th>16</th>\n",
       "      <td>3,562,225</td>\n",
       "      <td>9,900,000</td>\n",
       "    </tr>\n",
       "    <tr>\n",
       "      <th>17</th>\n",
       "      <td>3,407,314</td>\n",
       "      <td>9,625,000</td>\n",
       "    </tr>\n",
       "    <tr>\n",
       "      <th>18</th>\n",
       "      <td>3,160,424</td>\n",
       "      <td>3,500,000</td>\n",
       "    </tr>\n",
       "    <tr>\n",
       "      <th>19</th>\n",
       "      <td>3,557,384</td>\n",
       "      <td>500,000</td>\n",
       "    </tr>\n",
       "  </tbody>\n",
       "</table>\n",
       "</div>"
      ],
      "text/plain": [
       "    Prediction     Actual\n",
       "0    2,652,123 12,000,000\n",
       "1    2,787,670    397,500\n",
       "2    3,813,955  1,825,000\n",
       "3    4,220,596    392,000\n",
       "4    2,371,346    109,000\n",
       "5    3,441,200  1,325,000\n",
       "6    3,746,181  6,000,000\n",
       "7    2,855,443    150,000\n",
       "8    2,744,101  4,850,000\n",
       "9    3,910,774 10,000,000\n",
       "10   3,199,152    675,000\n",
       "11   1,727,498    140,000\n",
       "12   2,526,257 20,833,333\n",
       "13   3,494,451  3,500,000\n",
       "14   3,310,494  1,025,000\n",
       "15     788,350    109,000\n",
       "16   3,562,225  9,900,000\n",
       "17   3,407,314  9,625,000\n",
       "18   3,160,424  3,500,000\n",
       "19   3,557,384    500,000"
      ]
     },
     "execution_count": 38,
     "metadata": {},
     "output_type": "execute_result"
    }
   ],
   "source": [
    "y_pred = model.predict(X_test)\n",
    "results = pd.DataFrame({\"Prediction\": y_pred, \"Actual\": y_test}).reset_index(drop=True)\n",
    "results.head(20)"
   ]
  },
  {
   "cell_type": "code",
   "execution_count": 56,
   "id": "26dc1314-b18c-4627-bc45-e2465631c3a3",
   "metadata": {},
   "outputs": [],
   "source": [
    "pct_error= (((y_test-y_pred)/y_test)*100)"
   ]
  },
  {
   "cell_type": "code",
   "execution_count": 58,
   "id": "7e5d0a5f-3de8-45f8-bf09-dceb74588436",
   "metadata": {},
   "outputs": [
    {
     "data": {
      "text/html": [
       "<div>\n",
       "<style scoped>\n",
       "    .dataframe tbody tr th:only-of-type {\n",
       "        vertical-align: middle;\n",
       "    }\n",
       "\n",
       "    .dataframe tbody tr th {\n",
       "        vertical-align: top;\n",
       "    }\n",
       "\n",
       "    .dataframe thead th {\n",
       "        text-align: right;\n",
       "    }\n",
       "</style>\n",
       "<table border=\"1\" class=\"dataframe\">\n",
       "  <thead>\n",
       "    <tr style=\"text-align: right;\">\n",
       "      <th></th>\n",
       "      <th>Predicted</th>\n",
       "      <th>Actual</th>\n",
       "      <th>Percent Error</th>\n",
       "    </tr>\n",
       "  </thead>\n",
       "  <tbody>\n",
       "    <tr>\n",
       "      <th>4535</th>\n",
       "      <td>2,652,123</td>\n",
       "      <td>12,000,000</td>\n",
       "      <td>78</td>\n",
       "    </tr>\n",
       "    <tr>\n",
       "      <th>3237</th>\n",
       "      <td>2,787,670</td>\n",
       "      <td>397,500</td>\n",
       "      <td>601</td>\n",
       "    </tr>\n",
       "    <tr>\n",
       "      <th>600</th>\n",
       "      <td>3,813,955</td>\n",
       "      <td>1,825,000</td>\n",
       "      <td>109</td>\n",
       "    </tr>\n",
       "    <tr>\n",
       "      <th>3486</th>\n",
       "      <td>4,220,596</td>\n",
       "      <td>392,000</td>\n",
       "      <td>977</td>\n",
       "    </tr>\n",
       "    <tr>\n",
       "      <th>1098</th>\n",
       "      <td>2,371,346</td>\n",
       "      <td>109,000</td>\n",
       "      <td>2,076</td>\n",
       "    </tr>\n",
       "    <tr>\n",
       "      <th>...</th>\n",
       "      <td>...</td>\n",
       "      <td>...</td>\n",
       "      <td>...</td>\n",
       "    </tr>\n",
       "    <tr>\n",
       "      <th>1559</th>\n",
       "      <td>2,763,465</td>\n",
       "      <td>185,000</td>\n",
       "      <td>1,394</td>\n",
       "    </tr>\n",
       "    <tr>\n",
       "      <th>1043</th>\n",
       "      <td>2,477,848</td>\n",
       "      <td>140,000</td>\n",
       "      <td>1,670</td>\n",
       "    </tr>\n",
       "    <tr>\n",
       "      <th>3936</th>\n",
       "      <td>2,453,643</td>\n",
       "      <td>1,000,000</td>\n",
       "      <td>145</td>\n",
       "    </tr>\n",
       "    <tr>\n",
       "      <th>2784</th>\n",
       "      <td>3,291,130</td>\n",
       "      <td>1,900,000</td>\n",
       "      <td>73</td>\n",
       "    </tr>\n",
       "    <tr>\n",
       "      <th>4087</th>\n",
       "      <td>3,717,136</td>\n",
       "      <td>415,000</td>\n",
       "      <td>796</td>\n",
       "    </tr>\n",
       "  </tbody>\n",
       "</table>\n",
       "<p>1235 rows × 3 columns</p>\n",
       "</div>"
      ],
      "text/plain": [
       "      Predicted     Actual  Percent Error\n",
       "4535  2,652,123 12,000,000             78\n",
       "3237  2,787,670    397,500            601\n",
       "600   3,813,955  1,825,000            109\n",
       "3486  4,220,596    392,000            977\n",
       "1098  2,371,346    109,000          2,076\n",
       "...         ...        ...            ...\n",
       "1559  2,763,465    185,000          1,394\n",
       "1043  2,477,848    140,000          1,670\n",
       "3936  2,453,643  1,000,000            145\n",
       "2784  3,291,130  1,900,000             73\n",
       "4087  3,717,136    415,000            796\n",
       "\n",
       "[1235 rows x 3 columns]"
      ]
     },
     "execution_count": 58,
     "metadata": {},
     "output_type": "execute_result"
    }
   ],
   "source": [
    "results_df=pd.DataFrame({\"Predicted\": y_pred, \"Actual\": y_test, \"Percent Error\": pct_error})[[\"Predicted\", \"Actual\", \"Percent Error\"]]\n",
    "results_df.abs()"
   ]
  },
  {
   "cell_type": "raw",
   "id": "3bc658fe-6a21-4dc5-a13e-f1964ad7de53",
   "metadata": {},
   "source": [
    "len(y_pred)"
   ]
  },
  {
   "cell_type": "code",
   "execution_count": 48,
   "id": "ab27fd01-fea4-4b97-9326-7dec123cb6ba",
   "metadata": {},
   "outputs": [
    {
     "data": {
      "text/plain": [
       "1235"
      ]
     },
     "execution_count": 48,
     "metadata": {},
     "output_type": "execute_result"
    }
   ],
   "source": [
    "len(y_pred)"
   ]
  },
  {
   "cell_type": "code",
   "execution_count": 17,
   "id": "a00d6d43-8d89-41f1-8c37-42912d6a63a1",
   "metadata": {},
   "outputs": [
    {
     "name": "stdout",
     "output_type": "stream",
     "text": [
      "[[-484096.81970118]]\n",
      "[5256563.53525409]\n"
     ]
    }
   ],
   "source": [
    "# examine slope and y-int\n",
    "print(model.coef_)\n",
    "print(model.intercept_)"
   ]
  },
  {
   "cell_type": "code",
   "execution_count": null,
   "id": "624d36a4-258b-40ea-81be-0883ee83fbf9",
   "metadata": {},
   "outputs": [],
   "source": []
  },
  {
   "cell_type": "code",
   "execution_count": null,
   "id": "8b84b117-b2ec-4bbb-b13e-3c723a14b6dd",
   "metadata": {},
   "outputs": [],
   "source": []
  }
 ],
 "metadata": {
  "kernelspec": {
   "display_name": "mlenv",
   "language": "python",
   "name": "mlenv"
  },
  "language_info": {
   "codemirror_mode": {
    "name": "ipython",
    "version": 3
   },
   "file_extension": ".py",
   "mimetype": "text/x-python",
   "name": "python",
   "nbconvert_exporter": "python",
   "pygments_lexer": "ipython3",
   "version": "3.7.11"
  }
 },
 "nbformat": 4,
 "nbformat_minor": 5
}
